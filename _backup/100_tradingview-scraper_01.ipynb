{
 "cells": [
  {
   "cell_type": "code",
   "execution_count": null,
   "metadata": {},
   "outputs": [],
   "source": [
    "import pandas as pd\n",
    "import matplotlib.pyplot as plt\n",
    "import plotly.express as px\n",
    "import requests\n",
    "import logging\n",
    "import time\n",
    "from selenium import webdriver\n",
    "from selenium.webdriver.chrome.options import Options\n",
    "from selenium.webdriver.common.action_chains import ActionChains\n",
    "\n",
    "\n",
    "logging.getLogger().setLevel(logging.INFO) "
   ]
  },
  {
   "cell_type": "code",
   "execution_count": 97,
   "metadata": {},
   "outputs": [
    {
     "name": "stdout",
     "output_type": "stream",
     "text": [
      "i=12, all rows expanded\n",
      "54\n"
     ]
    },
    {
     "name": "stderr",
     "output_type": "stream",
     "text": [
      "INFO:root:Start Statistics Scrape\n"
     ]
    },
    {
     "name": "stdout",
     "output_type": "stream",
     "text": [
      "30\n"
     ]
    }
   ],
   "source": [
    "class ScrapeTrendingView:\n",
    "\n",
    "    def __init__(self):\n",
    "\n",
    "        #innitialize and set chrome-webdriver options\n",
    "        chrome_options = Options()\n",
    "        chrome_options.add_argument(\"--start-maximized\")\n",
    "        #self.chrome_options.add_argument(\"--window-size=1000,1080\")\n",
    "        # chrome_options.add_argument(\"--headless\")\n",
    "\n",
    "        self.driver = webdriver.Chrome(\"G:\\My Drive\\Investing\\Programming\\chromedriver.exe\", options=chrome_options)\n",
    "        self.driver.implicitly_wait(5)\n",
    "        # self.driver.maximize_window()\n",
    "\n",
    "        company_url = 'NASDAQ-AAPL'\n",
    "        # company_url = 'KRX-005930'\n",
    "        self.scrapeIncomeStatement(company_url=company_url)\n",
    "        # self.scrapeBalanceSheet()\n",
    "        # self.scrapeCashFlow()\n",
    "        self.scrapeStatistics(company_url=company_url)\n",
    "\n",
    "        \n",
    "    def close_cookies_popup(self):\n",
    "        cookie_button_xpath = \"//button[@class='acceptAll-WvyPjcpY button-OvB35Th_ size-xsmall-OvB35Th_ color-brand-OvB35Th_ variant-primary-OvB35Th_']\"\n",
    "        cookie_button_element = self.driver.find_element_by_xpath(cookie_button_xpath)\n",
    "        cookie_button_element.click()\n",
    "\n",
    "    def switch_annual_data(self):\n",
    "        annual_button_xpath = \"//button[@id='FY']\"\n",
    "        annual_button_element = self.driver.find_element_by_xpath(annual_button_xpath)\n",
    "        annual_button_element.click()\n",
    "\n",
    "    def scraped_data_to_dataframe(self, output):\n",
    "        output_index = []\n",
    "        output_values = []\n",
    "        output_colums = output[0][1:]\n",
    "        self.currency = output[0][0].replace('Currency: ', '')\n",
    "        # print(self.currency)\n",
    "\n",
    "        for i in range(1,len(output)):\n",
    "            output_index.append(output[i][0])\n",
    "            output_values.append(output[i][1:])\n",
    "\n",
    "        output_values = self.fixDataValues(input_data=output_values) #apply neccessery correction to fix the values-data\n",
    "        df = pd.DataFrame(output_values, columns = output_colums, index=output_index) #add scraped data to dataframe\n",
    "        return df\n",
    "\n",
    "    def scrapeIncomeStatement(self, company_url):\n",
    "\n",
    "        url = \"https://www.tradingview.com/symbols/\" + company_url + \"/financials-income-statement/?selected=\"\n",
    "        \n",
    "        self.driver.get(url)\n",
    "        self.switch_annual_data()\n",
    "        # time.sleep(1)\n",
    "\n",
    "        self.close_cookies_popup()\n",
    "\n",
    "        #expand income-statement collapsed rows\n",
    "        i = 0 \n",
    "        while True:\n",
    "            i=i+1\n",
    "            if i > 20:\n",
    "                logging.info(f'Break While loop i={i}')\n",
    "                break\n",
    "            try:\n",
    "                expand_arrow_xpath = \"//span[@class='arrow-_PBNXQ7k']\"\n",
    "                expand_arrow_element = self.driver.find_element_by_xpath(expand_arrow_xpath)\n",
    "                # self.driver.execute_script(\"arguments[0].scrollIntoView();\", expand_arrow_element) #scroll view to element\n",
    "\n",
    "                expand_arrow_element.click()\n",
    "                # print(expand_arrow_element.if_exists)\n",
    "\n",
    "            except:\n",
    "                print(f'i={i}, all rows expanded')\n",
    "                break\n",
    "\n",
    "        #scrape the data\n",
    "        # financial_table_xpath = \"//div[@class='container-YOfamMRP']\"\n",
    "        financial_table_xpath = \"//div[@class='container-YOfamMRP']/div\"\n",
    "        financial_table_rows = self.driver.find_elements_by_xpath(financial_table_xpath)\n",
    "        print(len(financial_table_rows))\n",
    "\n",
    "        output = []\n",
    "        number_of_periods = len(financial_table_rows[0].text.splitlines())\n",
    "\n",
    "        for item in financial_table_rows:\n",
    "            item_list = item.text.splitlines()\n",
    "            output_temp = []\n",
    "\n",
    "            if len(item_list) == number_of_periods: #rows without YOY-grow\n",
    "\n",
    "                for i in range(len(item_list)):\n",
    "                    output_temp.append(item_list[i].replace('\\u202a','').replace('\\u202c',''))\n",
    "            else: #rows with YOY-grow\n",
    "                if 'YoY growth' in item_list: #Quarterly \n",
    "                    for i in range(0, len(item_list), 2): #skip YOY-grow row\n",
    "                        output_temp.append(item_list[i].replace('\\u202a','').replace('\\u202c',''))\n",
    "                else: #Anual report\n",
    "                    output_temp.append(item_list[0])\n",
    "                    for i in range(1, len(item_list), 2): #skip YOY-grow row\n",
    "                        output_temp.append(item_list[i].replace('\\u202a','').replace('\\u202c',''))\n",
    "\n",
    "                \n",
    "            output.append(output_temp)\n",
    "\n",
    "        self.income_statement = self.scraped_data_to_dataframe(output=output)\n",
    "\n",
    "        # self.driver.close()\n",
    "\n",
    "     \n",
    "    def scrapeBalanceSheet(self):\n",
    "        logging.info('Start Balance Sheet Scrape')\n",
    "        self.base_url = \"https://www.tradingview.com/symbols/KRX-005930/financials-balance-sheet/?selected=\"\n",
    "        self.driver.get(self.base_url)\n",
    "        # time.sleep(1)\n",
    "\n",
    "        self.close_cookies_popup()\n",
    "\n",
    "        #expand balance-sheet collapsed-rows level-1\n",
    "        i = 0 \n",
    "        while True:\n",
    "            logging.info('Start Expanding Balance Sheet Rows Level-1')\n",
    "            i=i+1\n",
    "            if i > 20:\n",
    "                logging.info(f'Break While loop i={i}')\n",
    "                break\n",
    "            try:\n",
    "                # expand_arrow_xpath = \"//span[@class='arrow-_PBNXQ7k']\"\n",
    "                expand_arrow_xpath = \"//span[@class='arrow-_PBNXQ7k hasChanges-_PBNXQ7k']\"\n",
    "                expand_arrow_element = self.driver.find_element_by_xpath(expand_arrow_xpath)\n",
    "                # self.driver.execute_script(\"arguments[0].scrollIntoView();\", expand_arrow_element) #scroll view to element\n",
    "\n",
    "                expand_arrow_element.click()\n",
    "                # print(expand_arrow_element.if_exists)\n",
    "\n",
    "            except:\n",
    "                logging.info('End Expanding Balance Sheet Rows Level-1')\n",
    "                break\n",
    "        \n",
    "         #expand balance-sheet collapsed-rows level-2\n",
    "        i = 0 \n",
    "        while True:\n",
    "            logging.info('Start Expanding Balance Sheet Rows Level-2')\n",
    "            i=i+1\n",
    "            if i > 20:\n",
    "                logging.info(f'Break While loop i={i}')\n",
    "                break\n",
    "            try:\n",
    "                expand_arrow_xpath = \"//span[@class='arrow-_PBNXQ7k']\"\n",
    "                expand_arrow_element = self.driver.find_element_by_xpath(expand_arrow_xpath)\n",
    "                # self.driver.execute_script(\"arguments[0].scrollIntoView();\", expand_arrow_element) #scroll view to element\n",
    "\n",
    "                expand_arrow_element.click()\n",
    "                # print(expand_arrow_element.if_exists)\n",
    "\n",
    "            except:\n",
    "                logging.info('End Expanding Balance Sheet Rows Level-2')\n",
    "                break\n",
    "        \n",
    "        \n",
    "    def scrapeCashFlow(self, company_url):\n",
    "\n",
    "        logging.info('Start CashFlow Scrape')\n",
    "        url = \"https://www.tradingview.com/symbols/\"+ company_url + \"/financials-cash-flow/?selected=\"\n",
    "        self.driver.get(self.url)\n",
    "        # time.sleep(1)\n",
    "\n",
    "        self.close_cookies_popup()\n",
    "\n",
    "        #expand cash-flow collapsed-rows level-1\n",
    "        i = 0 \n",
    "        while True:\n",
    "            logging.info('Start Expanding CashFlow Rows Level-1')\n",
    "            i=i+1\n",
    "            if i > 20:\n",
    "                logging.info(f'Break While loop i={i}')\n",
    "                break\n",
    "            try:\n",
    "                # expand_arrow_xpath = \"//span[@class='arrow-_PBNXQ7k']\"\n",
    "                expand_arrow_xpath = \"//span[@class='arrow-_PBNXQ7k hasChanges-_PBNXQ7k']\"\n",
    "                expand_arrow_element = self.driver.find_element_by_xpath(expand_arrow_xpath)\n",
    "                # self.driver.execute_script(\"arguments[0].scrollIntoView();\", expand_arrow_element) #scroll view to element\n",
    "\n",
    "                expand_arrow_element.click()\n",
    "                # print(expand_arrow_element.if_exists)\n",
    "\n",
    "            except:\n",
    "                logging.info('End Expanding CashFlow Rows Level-1')\n",
    "                break\n",
    "        \n",
    "        #expand cash-flow collapsed-rows level-2\n",
    "        i = 0 \n",
    "        while True:\n",
    "            logging.info('Start Expanding CashFlow Rows Level-2')\n",
    "            i=i+1\n",
    "            if i > 20:\n",
    "                logging.info(f'Break While loop i={i}')\n",
    "                break\n",
    "            try:\n",
    "                expand_arrow_xpath = \"//span[@class='arrow-_PBNXQ7k']\"\n",
    "                expand_arrow_element = self.driver.find_element_by_xpath(expand_arrow_xpath)\n",
    "                # self.driver.execute_script(\"arguments[0].scrollIntoView();\", expand_arrow_element) #scroll view to element\n",
    "\n",
    "                expand_arrow_element.click()\n",
    "                # print(expand_arrow_element.if_exists)\n",
    "\n",
    "            except:\n",
    "                logging.info('End Expanding CashFlow Rows Level-2')\n",
    "                break\n",
    "        \n",
    "\n",
    "    def scrapeStatistics(self, company_url):\n",
    "        logging.info('Start Statistics Scrape')\n",
    "        url = \"https://www.tradingview.com/symbols/\" + company_url + \"/financials-statistics-and-ratios/?selected=\"\n",
    "        self.driver.get(url)\n",
    "\n",
    "        # self.close_cookies_popup()\n",
    "        self.switch_annual_data()\n",
    "        \n",
    "\n",
    "        statistics_table_xpath = \"//div[@class='container-YOfamMRP']/div\"\n",
    "        statistics_table_rows = self.driver.find_elements_by_xpath(statistics_table_xpath)\n",
    "\n",
    "        # for item in financial_table[1]:\n",
    "        #     print(item)\n",
    "\n",
    "        # print(self.financial_table.text)\n",
    "        print(len(statistics_table_rows))\n",
    "        output = []\n",
    "        \n",
    "        for item in statistics_table_rows:\n",
    "            item_list = item.text.splitlines()\n",
    "            output_temp = []\n",
    "\n",
    "            #skip non-data items like Key stats, Profitability ratios, Liquidity ratios, Solvency ratios\n",
    "            if len(item_list) == 1:\n",
    "                continue\n",
    "            else:\n",
    "                for i in range(len(item_list)):\n",
    "\n",
    "                    output_temp.append(item_list[i].replace('\\u202a','').replace('\\u202c',''))\n",
    "                    # print(temp[i])\n",
    "\n",
    "                # print(type(temp), len(temp))\n",
    "                # print(temp)\n",
    "                output.append(output_temp)\n",
    "        \n",
    "        # for item in output:\n",
    "        #     print(len(item),item)\n",
    "        #     pass\n",
    "\n",
    "        self.statistics = self.scraped_data_to_dataframe(output=output)\n",
    "\n",
    "        self.driver.close()\n",
    "\n",
    "\n",
    "    def fixDataValues(self, input_data):\n",
    "        output = []\n",
    "        \n",
    "        for row in input_data:\n",
    "            output_row = []\n",
    "            for item in row:\n",
    "                # print(f'item={item}')\n",
    "\n",
    "                if '−' in item: #convert minus sign to real minus, for some reason the sign is not recognized as minus\n",
    "                    item = item.replace('−', '-')\n",
    "\n",
    "                if 'T' in item: #convert Trillion-values to numeric\n",
    "                    item = item.replace('T','')\n",
    "                    item = float(item)\n",
    "                    item = item*1000000000000\n",
    "                    # item = int(item)\n",
    "\n",
    "                elif 'B' in item: #convert Billion-values to numeric\n",
    "                    item = item.replace('B','')\n",
    "                    item = float(item)\n",
    "                    item = item*1000000000\n",
    "                    # item = int(item)\n",
    "\n",
    "                elif 'M' in item: #convert Milion-values to numeric\n",
    "                    item = item.replace('M','')\n",
    "                    item = float(item)\n",
    "                    item = item*1000000\n",
    "                    # item = int(item)\n",
    "\n",
    "                elif 'K' in item: #convert Thousants-values to numeric\n",
    "                    item = item.replace('K','')\n",
    "                    item = float(item)\n",
    "                    item = item*1000\n",
    "                    # item = int(item)\n",
    "\n",
    "                if isinstance(item, str): #if item is not integer (0.00, ---, -)\n",
    "\n",
    "                    if '—' in item: #set value to None\n",
    "                        item = None\n",
    "\n",
    "                    elif '.' in item: #convert value to float\n",
    "                        item = float(item)\n",
    "\n",
    "                if self.currency !='USD': #convert values to USD\n",
    "\n",
    "                    if self.currency == 'KRW':\n",
    "                        self.multiplier = 0.000700680009950\n",
    "\n",
    "                    if isinstance(item, float) or isinstance(item, int): #check if item is int or float\n",
    "                        item = item*self.multiplier\n",
    "\n",
    "\n",
    "                output_row.append(item)\n",
    "                    \n",
    "            output.append(output_row)\n",
    "\n",
    "        return output\n",
    "        \n",
    "\n",
    "run_scraper = ScrapeTrendingView()\n",
    "# run_scraper.driver.close()\n",
    "\n",
    "\n"
   ]
  },
  {
   "cell_type": "code",
   "execution_count": 81,
   "metadata": {},
   "outputs": [
    {
     "data": {
      "text/html": [
       "<div>\n",
       "<style scoped>\n",
       "    .dataframe tbody tr th:only-of-type {\n",
       "        vertical-align: middle;\n",
       "    }\n",
       "\n",
       "    .dataframe tbody tr th {\n",
       "        vertical-align: top;\n",
       "    }\n",
       "\n",
       "    .dataframe thead th {\n",
       "        text-align: right;\n",
       "    }\n",
       "</style>\n",
       "<table border=\"1\" class=\"dataframe\">\n",
       "  <thead>\n",
       "    <tr style=\"text-align: right;\">\n",
       "      <th></th>\n",
       "      <th>2015</th>\n",
       "      <th>2016</th>\n",
       "      <th>2017</th>\n",
       "      <th>2018</th>\n",
       "      <th>2019</th>\n",
       "      <th>2020</th>\n",
       "      <th>2021</th>\n",
       "      <th>Current</th>\n",
       "    </tr>\n",
       "  </thead>\n",
       "  <tbody>\n",
       "    <tr>\n",
       "      <th>Total common shares outstanding</th>\n",
       "      <td>2.232000e+10</td>\n",
       "      <td>2.134000e+10</td>\n",
       "      <td>2.050000e+10</td>\n",
       "      <td>1.902000e+10</td>\n",
       "      <td>1.777000e+10</td>\n",
       "      <td>1.698000e+10</td>\n",
       "      <td>1.643000e+10</td>\n",
       "      <td>1.607000e+10</td>\n",
       "    </tr>\n",
       "    <tr>\n",
       "      <th>Float shares outstanding</th>\n",
       "      <td>2.229000e+10</td>\n",
       "      <td>2.132000e+10</td>\n",
       "      <td>2.048000e+10</td>\n",
       "      <td>1.899000e+10</td>\n",
       "      <td>1.775000e+10</td>\n",
       "      <td>1.696000e+10</td>\n",
       "      <td>1.641000e+10</td>\n",
       "      <td>1.606000e+10</td>\n",
       "    </tr>\n",
       "    <tr>\n",
       "      <th>Number of employees</th>\n",
       "      <td>1.100000e+05</td>\n",
       "      <td>1.160000e+05</td>\n",
       "      <td>1.230000e+05</td>\n",
       "      <td>1.320000e+05</td>\n",
       "      <td>1.370000e+05</td>\n",
       "      <td>1.470000e+05</td>\n",
       "      <td>1.540000e+05</td>\n",
       "      <td>NaN</td>\n",
       "    </tr>\n",
       "    <tr>\n",
       "      <th>Number of shareholders</th>\n",
       "      <td>2.350000e+04</td>\n",
       "      <td>2.350000e+04</td>\n",
       "      <td>2.350000e+04</td>\n",
       "      <td>2.350000e+04</td>\n",
       "      <td>2.350000e+04</td>\n",
       "      <td>2.350000e+04</td>\n",
       "      <td>2.350000e+04</td>\n",
       "      <td>NaN</td>\n",
       "    </tr>\n",
       "    <tr>\n",
       "      <th>Price to earnings ratio</th>\n",
       "      <td>1.244000e+01</td>\n",
       "      <td>1.356000e+01</td>\n",
       "      <td>1.673000e+01</td>\n",
       "      <td>1.895000e+01</td>\n",
       "      <td>1.841000e+01</td>\n",
       "      <td>3.428000e+01</td>\n",
       "      <td>2.617000e+01</td>\n",
       "      <td>2.468000e+01</td>\n",
       "    </tr>\n",
       "    <tr>\n",
       "      <th>Price to sales ratio</th>\n",
       "      <td>2.870000e+00</td>\n",
       "      <td>2.890000e+00</td>\n",
       "      <td>3.540000e+00</td>\n",
       "      <td>4.250000e+00</td>\n",
       "      <td>3.910000e+00</td>\n",
       "      <td>7.180000e+00</td>\n",
       "      <td>6.770000e+00</td>\n",
       "      <td>6.270000e+00</td>\n",
       "    </tr>\n",
       "    <tr>\n",
       "      <th>Price to cash flow ratio</th>\n",
       "      <td>8.180000e+00</td>\n",
       "      <td>9.420000e+00</td>\n",
       "      <td>1.273000e+01</td>\n",
       "      <td>1.458000e+01</td>\n",
       "      <td>1.466000e+01</td>\n",
       "      <td>2.440000e+01</td>\n",
       "      <td>2.382000e+01</td>\n",
       "      <td>2.054000e+01</td>\n",
       "    </tr>\n",
       "    <tr>\n",
       "      <th>Price to book ratio</th>\n",
       "      <td>5.360000e+00</td>\n",
       "      <td>4.690000e+00</td>\n",
       "      <td>5.890000e+00</td>\n",
       "      <td>1.002000e+01</td>\n",
       "      <td>1.074000e+01</td>\n",
       "      <td>2.917000e+01</td>\n",
       "      <td>3.825000e+01</td>\n",
       "      <td>4.137000e+01</td>\n",
       "    </tr>\n",
       "    <tr>\n",
       "      <th>Enterprise value</th>\n",
       "      <td>6.873800e+11</td>\n",
       "      <td>6.398100e+11</td>\n",
       "      <td>8.508900e+11</td>\n",
       "      <td>1.180000e+12</td>\n",
       "      <td>1.020000e+12</td>\n",
       "      <td>2.000000e+12</td>\n",
       "      <td>2.550000e+12</td>\n",
       "      <td>2.470000e+12</td>\n",
       "    </tr>\n",
       "    <tr>\n",
       "      <th>Enterprise value to EBITDA ratio</th>\n",
       "      <td>8.910000e+00</td>\n",
       "      <td>9.370000e+00</td>\n",
       "      <td>1.226000e+01</td>\n",
       "      <td>1.465000e+01</td>\n",
       "      <td>1.375000e+01</td>\n",
       "      <td>2.605000e+01</td>\n",
       "      <td>2.113000e+01</td>\n",
       "      <td>1.908000e+01</td>\n",
       "    </tr>\n",
       "    <tr>\n",
       "      <th>Return on assets %</th>\n",
       "      <td>2.045000e+01</td>\n",
       "      <td>1.493000e+01</td>\n",
       "      <td>1.387000e+01</td>\n",
       "      <td>1.607000e+01</td>\n",
       "      <td>1.569000e+01</td>\n",
       "      <td>1.733000e+01</td>\n",
       "      <td>2.806000e+01</td>\n",
       "      <td>2.991000e+01</td>\n",
       "    </tr>\n",
       "    <tr>\n",
       "      <th>Return on equity %</th>\n",
       "      <td>4.625000e+01</td>\n",
       "      <td>3.690000e+01</td>\n",
       "      <td>3.687000e+01</td>\n",
       "      <td>4.936000e+01</td>\n",
       "      <td>5.592000e+01</td>\n",
       "      <td>7.369000e+01</td>\n",
       "      <td>1.474400e+02</td>\n",
       "      <td>1.628200e+02</td>\n",
       "    </tr>\n",
       "    <tr>\n",
       "      <th>Return on invested capital %</th>\n",
       "      <td>3.408000e+01</td>\n",
       "      <td>2.427000e+01</td>\n",
       "      <td>2.223000e+01</td>\n",
       "      <td>2.755000e+01</td>\n",
       "      <td>2.884000e+01</td>\n",
       "      <td>3.237000e+01</td>\n",
       "      <td>5.336000e+01</td>\n",
       "      <td>6.172000e+01</td>\n",
       "    </tr>\n",
       "    <tr>\n",
       "      <th>Gross margin %</th>\n",
       "      <td>3.849000e+01</td>\n",
       "      <td>3.861000e+01</td>\n",
       "      <td>3.801000e+01</td>\n",
       "      <td>3.837000e+01</td>\n",
       "      <td>3.758000e+01</td>\n",
       "      <td>3.794000e+01</td>\n",
       "      <td>4.178000e+01</td>\n",
       "      <td>4.326000e+01</td>\n",
       "    </tr>\n",
       "    <tr>\n",
       "      <th>Operating margin %</th>\n",
       "      <td>2.881000e+01</td>\n",
       "      <td>2.730000e+01</td>\n",
       "      <td>2.626000e+01</td>\n",
       "      <td>2.673000e+01</td>\n",
       "      <td>2.433000e+01</td>\n",
       "      <td>2.383000e+01</td>\n",
       "      <td>2.978000e+01</td>\n",
       "      <td>2.782000e+01</td>\n",
       "    </tr>\n",
       "    <tr>\n",
       "      <th>EBITDA margin %</th>\n",
       "      <td>3.335000e+01</td>\n",
       "      <td>3.187000e+01</td>\n",
       "      <td>3.037000e+01</td>\n",
       "      <td>3.023000e+01</td>\n",
       "      <td>2.867000e+01</td>\n",
       "      <td>2.787000e+01</td>\n",
       "      <td>3.287000e+01</td>\n",
       "      <td>3.120000e+01</td>\n",
       "    </tr>\n",
       "    <tr>\n",
       "      <th>Net margin %</th>\n",
       "      <td>2.309000e+01</td>\n",
       "      <td>2.133000e+01</td>\n",
       "      <td>2.115000e+01</td>\n",
       "      <td>2.240000e+01</td>\n",
       "      <td>2.125000e+01</td>\n",
       "      <td>2.094000e+01</td>\n",
       "      <td>2.588000e+01</td>\n",
       "      <td>2.344000e+01</td>\n",
       "    </tr>\n",
       "    <tr>\n",
       "      <th>Quick ratio</th>\n",
       "      <td>1.080000e+00</td>\n",
       "      <td>1.330000e+00</td>\n",
       "      <td>1.230000e+00</td>\n",
       "      <td>1.090000e+00</td>\n",
       "      <td>1.500000e+00</td>\n",
       "      <td>1.330000e+00</td>\n",
       "      <td>1.020000e+00</td>\n",
       "      <td>8.200000e-01</td>\n",
       "    </tr>\n",
       "    <tr>\n",
       "      <th>Current ratio</th>\n",
       "      <td>1.110000e+00</td>\n",
       "      <td>1.350000e+00</td>\n",
       "      <td>1.280000e+00</td>\n",
       "      <td>1.120000e+00</td>\n",
       "      <td>1.540000e+00</td>\n",
       "      <td>1.360000e+00</td>\n",
       "      <td>1.070000e+00</td>\n",
       "      <td>8.600000e-01</td>\n",
       "    </tr>\n",
       "    <tr>\n",
       "      <th>Inventory turnover</th>\n",
       "      <td>6.379000e+01</td>\n",
       "      <td>5.869000e+01</td>\n",
       "      <td>4.056000e+01</td>\n",
       "      <td>3.719000e+01</td>\n",
       "      <td>4.025000e+01</td>\n",
       "      <td>4.167000e+01</td>\n",
       "      <td>4.003000e+01</td>\n",
       "      <td>4.141000e+01</td>\n",
       "    </tr>\n",
       "    <tr>\n",
       "      <th>Asset turnover</th>\n",
       "      <td>8.900000e-01</td>\n",
       "      <td>7.000000e-01</td>\n",
       "      <td>6.600000e-01</td>\n",
       "      <td>7.200000e-01</td>\n",
       "      <td>7.400000e-01</td>\n",
       "      <td>8.300000e-01</td>\n",
       "      <td>1.080000e+00</td>\n",
       "      <td>1.160000e+00</td>\n",
       "    </tr>\n",
       "    <tr>\n",
       "      <th>Debt to assets ratio</th>\n",
       "      <td>2.200000e-01</td>\n",
       "      <td>2.700000e-01</td>\n",
       "      <td>3.100000e-01</td>\n",
       "      <td>3.100000e-01</td>\n",
       "      <td>3.200000e-01</td>\n",
       "      <td>3.800000e-01</td>\n",
       "      <td>3.900000e-01</td>\n",
       "      <td>3.600000e-01</td>\n",
       "    </tr>\n",
       "    <tr>\n",
       "      <th>Debt to equity ratio</th>\n",
       "      <td>5.400000e-01</td>\n",
       "      <td>6.800000e-01</td>\n",
       "      <td>8.600000e-01</td>\n",
       "      <td>1.070000e+00</td>\n",
       "      <td>1.190000e+00</td>\n",
       "      <td>1.870000e+00</td>\n",
       "      <td>2.160000e+00</td>\n",
       "      <td>2.060000e+00</td>\n",
       "    </tr>\n",
       "    <tr>\n",
       "      <th>Long term debt to total assets ratio</th>\n",
       "      <td>1.800000e-01</td>\n",
       "      <td>2.300000e-01</td>\n",
       "      <td>2.600000e-01</td>\n",
       "      <td>2.600000e-01</td>\n",
       "      <td>2.700000e-01</td>\n",
       "      <td>3.300000e-01</td>\n",
       "      <td>3.400000e-01</td>\n",
       "      <td>2.800000e-01</td>\n",
       "    </tr>\n",
       "  </tbody>\n",
       "</table>\n",
       "</div>"
      ],
      "text/plain": [
       "                                              2015          2016  \\\n",
       "Total common shares outstanding       2.232000e+10  2.134000e+10   \n",
       "Float shares outstanding              2.229000e+10  2.132000e+10   \n",
       "Number of employees                   1.100000e+05  1.160000e+05   \n",
       "Number of shareholders                2.350000e+04  2.350000e+04   \n",
       "Price to earnings ratio               1.244000e+01  1.356000e+01   \n",
       "Price to sales ratio                  2.870000e+00  2.890000e+00   \n",
       "Price to cash flow ratio              8.180000e+00  9.420000e+00   \n",
       "Price to book ratio                   5.360000e+00  4.690000e+00   \n",
       "Enterprise value                      6.873800e+11  6.398100e+11   \n",
       "Enterprise value to EBITDA ratio      8.910000e+00  9.370000e+00   \n",
       "Return on assets %                    2.045000e+01  1.493000e+01   \n",
       "Return on equity %                    4.625000e+01  3.690000e+01   \n",
       "Return on invested capital %          3.408000e+01  2.427000e+01   \n",
       "Gross margin %                        3.849000e+01  3.861000e+01   \n",
       "Operating margin %                    2.881000e+01  2.730000e+01   \n",
       "EBITDA margin %                       3.335000e+01  3.187000e+01   \n",
       "Net margin %                          2.309000e+01  2.133000e+01   \n",
       "Quick ratio                           1.080000e+00  1.330000e+00   \n",
       "Current ratio                         1.110000e+00  1.350000e+00   \n",
       "Inventory turnover                    6.379000e+01  5.869000e+01   \n",
       "Asset turnover                        8.900000e-01  7.000000e-01   \n",
       "Debt to assets ratio                  2.200000e-01  2.700000e-01   \n",
       "Debt to equity ratio                  5.400000e-01  6.800000e-01   \n",
       "Long term debt to total assets ratio  1.800000e-01  2.300000e-01   \n",
       "\n",
       "                                              2017          2018  \\\n",
       "Total common shares outstanding       2.050000e+10  1.902000e+10   \n",
       "Float shares outstanding              2.048000e+10  1.899000e+10   \n",
       "Number of employees                   1.230000e+05  1.320000e+05   \n",
       "Number of shareholders                2.350000e+04  2.350000e+04   \n",
       "Price to earnings ratio               1.673000e+01  1.895000e+01   \n",
       "Price to sales ratio                  3.540000e+00  4.250000e+00   \n",
       "Price to cash flow ratio              1.273000e+01  1.458000e+01   \n",
       "Price to book ratio                   5.890000e+00  1.002000e+01   \n",
       "Enterprise value                      8.508900e+11  1.180000e+12   \n",
       "Enterprise value to EBITDA ratio      1.226000e+01  1.465000e+01   \n",
       "Return on assets %                    1.387000e+01  1.607000e+01   \n",
       "Return on equity %                    3.687000e+01  4.936000e+01   \n",
       "Return on invested capital %          2.223000e+01  2.755000e+01   \n",
       "Gross margin %                        3.801000e+01  3.837000e+01   \n",
       "Operating margin %                    2.626000e+01  2.673000e+01   \n",
       "EBITDA margin %                       3.037000e+01  3.023000e+01   \n",
       "Net margin %                          2.115000e+01  2.240000e+01   \n",
       "Quick ratio                           1.230000e+00  1.090000e+00   \n",
       "Current ratio                         1.280000e+00  1.120000e+00   \n",
       "Inventory turnover                    4.056000e+01  3.719000e+01   \n",
       "Asset turnover                        6.600000e-01  7.200000e-01   \n",
       "Debt to assets ratio                  3.100000e-01  3.100000e-01   \n",
       "Debt to equity ratio                  8.600000e-01  1.070000e+00   \n",
       "Long term debt to total assets ratio  2.600000e-01  2.600000e-01   \n",
       "\n",
       "                                              2019          2020  \\\n",
       "Total common shares outstanding       1.777000e+10  1.698000e+10   \n",
       "Float shares outstanding              1.775000e+10  1.696000e+10   \n",
       "Number of employees                   1.370000e+05  1.470000e+05   \n",
       "Number of shareholders                2.350000e+04  2.350000e+04   \n",
       "Price to earnings ratio               1.841000e+01  3.428000e+01   \n",
       "Price to sales ratio                  3.910000e+00  7.180000e+00   \n",
       "Price to cash flow ratio              1.466000e+01  2.440000e+01   \n",
       "Price to book ratio                   1.074000e+01  2.917000e+01   \n",
       "Enterprise value                      1.020000e+12  2.000000e+12   \n",
       "Enterprise value to EBITDA ratio      1.375000e+01  2.605000e+01   \n",
       "Return on assets %                    1.569000e+01  1.733000e+01   \n",
       "Return on equity %                    5.592000e+01  7.369000e+01   \n",
       "Return on invested capital %          2.884000e+01  3.237000e+01   \n",
       "Gross margin %                        3.758000e+01  3.794000e+01   \n",
       "Operating margin %                    2.433000e+01  2.383000e+01   \n",
       "EBITDA margin %                       2.867000e+01  2.787000e+01   \n",
       "Net margin %                          2.125000e+01  2.094000e+01   \n",
       "Quick ratio                           1.500000e+00  1.330000e+00   \n",
       "Current ratio                         1.540000e+00  1.360000e+00   \n",
       "Inventory turnover                    4.025000e+01  4.167000e+01   \n",
       "Asset turnover                        7.400000e-01  8.300000e-01   \n",
       "Debt to assets ratio                  3.200000e-01  3.800000e-01   \n",
       "Debt to equity ratio                  1.190000e+00  1.870000e+00   \n",
       "Long term debt to total assets ratio  2.700000e-01  3.300000e-01   \n",
       "\n",
       "                                              2021       Current  \n",
       "Total common shares outstanding       1.643000e+10  1.607000e+10  \n",
       "Float shares outstanding              1.641000e+10  1.606000e+10  \n",
       "Number of employees                   1.540000e+05           NaN  \n",
       "Number of shareholders                2.350000e+04           NaN  \n",
       "Price to earnings ratio               2.617000e+01  2.468000e+01  \n",
       "Price to sales ratio                  6.770000e+00  6.270000e+00  \n",
       "Price to cash flow ratio              2.382000e+01  2.054000e+01  \n",
       "Price to book ratio                   3.825000e+01  4.137000e+01  \n",
       "Enterprise value                      2.550000e+12  2.470000e+12  \n",
       "Enterprise value to EBITDA ratio      2.113000e+01  1.908000e+01  \n",
       "Return on assets %                    2.806000e+01  2.991000e+01  \n",
       "Return on equity %                    1.474400e+02  1.628200e+02  \n",
       "Return on invested capital %          5.336000e+01  6.172000e+01  \n",
       "Gross margin %                        4.178000e+01  4.326000e+01  \n",
       "Operating margin %                    2.978000e+01  2.782000e+01  \n",
       "EBITDA margin %                       3.287000e+01  3.120000e+01  \n",
       "Net margin %                          2.588000e+01  2.344000e+01  \n",
       "Quick ratio                           1.020000e+00  8.200000e-01  \n",
       "Current ratio                         1.070000e+00  8.600000e-01  \n",
       "Inventory turnover                    4.003000e+01  4.141000e+01  \n",
       "Asset turnover                        1.080000e+00  1.160000e+00  \n",
       "Debt to assets ratio                  3.900000e-01  3.600000e-01  \n",
       "Debt to equity ratio                  2.160000e+00  2.060000e+00  \n",
       "Long term debt to total assets ratio  3.400000e-01  2.800000e-01  "
      ]
     },
     "execution_count": 81,
     "metadata": {},
     "output_type": "execute_result"
    }
   ],
   "source": [
    "run_scraper.statistics"
   ]
  },
  {
   "cell_type": "code",
   "execution_count": null,
   "metadata": {},
   "outputs": [],
   "source": [
    "#plotting the data\n",
    "plt.figure(figsize=(20,8)) #set figure size\n",
    "\n",
    "\n",
    "# tesla_data.financial_ratios_quarter.loc['Current Ratio'].plot()\n",
    "# apple_data.financial_ratios_quarter.loc['Current Ratio'].plot()\n",
    "\n",
    "# print(run_scraper.income_statement.index[0])\n",
    "# param_name = run_scraper.income_statement.index[0] #get parameter name from dataframe columns\n",
    "\n",
    "\n",
    "run_scraper.income_statement.loc['Total revenue'].plot()\n",
    "run_scraper.income_statement.loc['Net income'].plot()\n",
    "# run_scraper.income_statement.loc['Interest expense on debt'].plot()\n",
    "# plt.plot()\n",
    "\n",
    "#invert x-axis (2009 on the left, 2022 on the right)\n",
    "# ax = plt.gca()\n",
    "# ax.invert_xaxis()\n",
    "plt.grid(True)\n",
    "plt.legend()\n",
    "plt.show()"
   ]
  },
  {
   "cell_type": "code",
   "execution_count": null,
   "metadata": {},
   "outputs": [],
   "source": [
    "# df = px.data.gapminder().query(\"country=='Canada'\")\n",
    "fig = px.line(x=run_scraper.income_statement.columns, \n",
    "            y=[run_scraper.income_statement.loc['Total revenue'],\n",
    "            run_scraper.income_statement.loc['Net income']],\n",
    "            title='Total Revenue')\n",
    "fig.show()"
   ]
  },
  {
   "cell_type": "code",
   "execution_count": null,
   "metadata": {},
   "outputs": [],
   "source": [
    "run_scraper.income_statement.transpose()"
   ]
  },
  {
   "cell_type": "code",
   "execution_count": 111,
   "metadata": {},
   "outputs": [
    {
     "data": {
      "application/vnd.plotly.v1+json": {
       "config": {
        "plotlyServerURL": "https://plot.ly"
       },
       "data": [
        {
         "hovertemplate": "variable=Total revenue<br>index=%{x}<br>value=%{y}<extra></extra>",
         "legendgroup": "Total revenue",
         "line": {
          "color": "#636efa",
          "dash": "solid"
         },
         "marker": {
          "symbol": "circle"
         },
         "mode": "lines+markers",
         "name": "Total revenue",
         "orientation": "v",
         "showlegend": true,
         "type": "scatter",
         "x": [
          "2015",
          "2016",
          "2017",
          "2018",
          "2019",
          "2020",
          "2021",
          "TTM"
         ],
         "xaxis": "x",
         "y": [
          231280000000,
          214230000000,
          228570000000,
          265810000000,
          259970000000.00003,
          274149999999.99997,
          365820000000,
          387540000000
         ],
         "yaxis": "y"
        },
        {
         "hovertemplate": "variable=Cost of goods sold<br>index=%{x}<br>value=%{y}<extra></extra>",
         "legendgroup": "Cost of goods sold",
         "line": {
          "color": "#EF553B",
          "dash": "solid"
         },
         "marker": {
          "symbol": "circle"
         },
         "mode": "lines+markers",
         "name": "Cost of goods sold",
         "orientation": "v",
         "showlegend": true,
         "type": "scatter",
         "x": [
          "2015",
          "2016",
          "2017",
          "2018",
          "2019",
          "2020",
          "2021",
          "TTM"
         ],
         "xaxis": "x",
         "y": [
          -142260000000,
          -131509999999.99998,
          -141700000000,
          -163830000000,
          -162260000000,
          -170140000000,
          -212980000000,
          -219680000000
         ],
         "yaxis": "y"
        },
        {
         "hovertemplate": "variable=Gross profit<br>index=%{x}<br>value=%{y}<extra></extra>",
         "legendgroup": "Gross profit",
         "line": {
          "color": "#00cc96",
          "dash": "solid"
         },
         "marker": {
          "symbol": "circle"
         },
         "mode": "lines+markers",
         "name": "Gross profit",
         "orientation": "v",
         "showlegend": true,
         "type": "scatter",
         "x": [
          "2015",
          "2016",
          "2017",
          "2018",
          "2019",
          "2020",
          "2021",
          "TTM"
         ],
         "xaxis": "x",
         "y": [
          89030000000,
          82720000000,
          86870000000,
          101980000000,
          97700000000,
          104010000000,
          152840000000,
          167860000000
         ],
         "yaxis": "y"
        }
       ],
       "layout": {
        "legend": {
         "title": {
          "text": "variable"
         },
         "tracegroupgap": 0
        },
        "template": {
         "data": {
          "bar": [
           {
            "error_x": {
             "color": "#2a3f5f"
            },
            "error_y": {
             "color": "#2a3f5f"
            },
            "marker": {
             "line": {
              "color": "#E5ECF6",
              "width": 0.5
             },
             "pattern": {
              "fillmode": "overlay",
              "size": 10,
              "solidity": 0.2
             }
            },
            "type": "bar"
           }
          ],
          "barpolar": [
           {
            "marker": {
             "line": {
              "color": "#E5ECF6",
              "width": 0.5
             },
             "pattern": {
              "fillmode": "overlay",
              "size": 10,
              "solidity": 0.2
             }
            },
            "type": "barpolar"
           }
          ],
          "carpet": [
           {
            "aaxis": {
             "endlinecolor": "#2a3f5f",
             "gridcolor": "white",
             "linecolor": "white",
             "minorgridcolor": "white",
             "startlinecolor": "#2a3f5f"
            },
            "baxis": {
             "endlinecolor": "#2a3f5f",
             "gridcolor": "white",
             "linecolor": "white",
             "minorgridcolor": "white",
             "startlinecolor": "#2a3f5f"
            },
            "type": "carpet"
           }
          ],
          "choropleth": [
           {
            "colorbar": {
             "outlinewidth": 0,
             "ticks": ""
            },
            "type": "choropleth"
           }
          ],
          "contour": [
           {
            "colorbar": {
             "outlinewidth": 0,
             "ticks": ""
            },
            "colorscale": [
             [
              0,
              "#0d0887"
             ],
             [
              0.1111111111111111,
              "#46039f"
             ],
             [
              0.2222222222222222,
              "#7201a8"
             ],
             [
              0.3333333333333333,
              "#9c179e"
             ],
             [
              0.4444444444444444,
              "#bd3786"
             ],
             [
              0.5555555555555556,
              "#d8576b"
             ],
             [
              0.6666666666666666,
              "#ed7953"
             ],
             [
              0.7777777777777778,
              "#fb9f3a"
             ],
             [
              0.8888888888888888,
              "#fdca26"
             ],
             [
              1,
              "#f0f921"
             ]
            ],
            "type": "contour"
           }
          ],
          "contourcarpet": [
           {
            "colorbar": {
             "outlinewidth": 0,
             "ticks": ""
            },
            "type": "contourcarpet"
           }
          ],
          "heatmap": [
           {
            "colorbar": {
             "outlinewidth": 0,
             "ticks": ""
            },
            "colorscale": [
             [
              0,
              "#0d0887"
             ],
             [
              0.1111111111111111,
              "#46039f"
             ],
             [
              0.2222222222222222,
              "#7201a8"
             ],
             [
              0.3333333333333333,
              "#9c179e"
             ],
             [
              0.4444444444444444,
              "#bd3786"
             ],
             [
              0.5555555555555556,
              "#d8576b"
             ],
             [
              0.6666666666666666,
              "#ed7953"
             ],
             [
              0.7777777777777778,
              "#fb9f3a"
             ],
             [
              0.8888888888888888,
              "#fdca26"
             ],
             [
              1,
              "#f0f921"
             ]
            ],
            "type": "heatmap"
           }
          ],
          "heatmapgl": [
           {
            "colorbar": {
             "outlinewidth": 0,
             "ticks": ""
            },
            "colorscale": [
             [
              0,
              "#0d0887"
             ],
             [
              0.1111111111111111,
              "#46039f"
             ],
             [
              0.2222222222222222,
              "#7201a8"
             ],
             [
              0.3333333333333333,
              "#9c179e"
             ],
             [
              0.4444444444444444,
              "#bd3786"
             ],
             [
              0.5555555555555556,
              "#d8576b"
             ],
             [
              0.6666666666666666,
              "#ed7953"
             ],
             [
              0.7777777777777778,
              "#fb9f3a"
             ],
             [
              0.8888888888888888,
              "#fdca26"
             ],
             [
              1,
              "#f0f921"
             ]
            ],
            "type": "heatmapgl"
           }
          ],
          "histogram": [
           {
            "marker": {
             "pattern": {
              "fillmode": "overlay",
              "size": 10,
              "solidity": 0.2
             }
            },
            "type": "histogram"
           }
          ],
          "histogram2d": [
           {
            "colorbar": {
             "outlinewidth": 0,
             "ticks": ""
            },
            "colorscale": [
             [
              0,
              "#0d0887"
             ],
             [
              0.1111111111111111,
              "#46039f"
             ],
             [
              0.2222222222222222,
              "#7201a8"
             ],
             [
              0.3333333333333333,
              "#9c179e"
             ],
             [
              0.4444444444444444,
              "#bd3786"
             ],
             [
              0.5555555555555556,
              "#d8576b"
             ],
             [
              0.6666666666666666,
              "#ed7953"
             ],
             [
              0.7777777777777778,
              "#fb9f3a"
             ],
             [
              0.8888888888888888,
              "#fdca26"
             ],
             [
              1,
              "#f0f921"
             ]
            ],
            "type": "histogram2d"
           }
          ],
          "histogram2dcontour": [
           {
            "colorbar": {
             "outlinewidth": 0,
             "ticks": ""
            },
            "colorscale": [
             [
              0,
              "#0d0887"
             ],
             [
              0.1111111111111111,
              "#46039f"
             ],
             [
              0.2222222222222222,
              "#7201a8"
             ],
             [
              0.3333333333333333,
              "#9c179e"
             ],
             [
              0.4444444444444444,
              "#bd3786"
             ],
             [
              0.5555555555555556,
              "#d8576b"
             ],
             [
              0.6666666666666666,
              "#ed7953"
             ],
             [
              0.7777777777777778,
              "#fb9f3a"
             ],
             [
              0.8888888888888888,
              "#fdca26"
             ],
             [
              1,
              "#f0f921"
             ]
            ],
            "type": "histogram2dcontour"
           }
          ],
          "mesh3d": [
           {
            "colorbar": {
             "outlinewidth": 0,
             "ticks": ""
            },
            "type": "mesh3d"
           }
          ],
          "parcoords": [
           {
            "line": {
             "colorbar": {
              "outlinewidth": 0,
              "ticks": ""
             }
            },
            "type": "parcoords"
           }
          ],
          "pie": [
           {
            "automargin": true,
            "type": "pie"
           }
          ],
          "scatter": [
           {
            "marker": {
             "colorbar": {
              "outlinewidth": 0,
              "ticks": ""
             }
            },
            "type": "scatter"
           }
          ],
          "scatter3d": [
           {
            "line": {
             "colorbar": {
              "outlinewidth": 0,
              "ticks": ""
             }
            },
            "marker": {
             "colorbar": {
              "outlinewidth": 0,
              "ticks": ""
             }
            },
            "type": "scatter3d"
           }
          ],
          "scattercarpet": [
           {
            "marker": {
             "colorbar": {
              "outlinewidth": 0,
              "ticks": ""
             }
            },
            "type": "scattercarpet"
           }
          ],
          "scattergeo": [
           {
            "marker": {
             "colorbar": {
              "outlinewidth": 0,
              "ticks": ""
             }
            },
            "type": "scattergeo"
           }
          ],
          "scattergl": [
           {
            "marker": {
             "colorbar": {
              "outlinewidth": 0,
              "ticks": ""
             }
            },
            "type": "scattergl"
           }
          ],
          "scattermapbox": [
           {
            "marker": {
             "colorbar": {
              "outlinewidth": 0,
              "ticks": ""
             }
            },
            "type": "scattermapbox"
           }
          ],
          "scatterpolar": [
           {
            "marker": {
             "colorbar": {
              "outlinewidth": 0,
              "ticks": ""
             }
            },
            "type": "scatterpolar"
           }
          ],
          "scatterpolargl": [
           {
            "marker": {
             "colorbar": {
              "outlinewidth": 0,
              "ticks": ""
             }
            },
            "type": "scatterpolargl"
           }
          ],
          "scatterternary": [
           {
            "marker": {
             "colorbar": {
              "outlinewidth": 0,
              "ticks": ""
             }
            },
            "type": "scatterternary"
           }
          ],
          "surface": [
           {
            "colorbar": {
             "outlinewidth": 0,
             "ticks": ""
            },
            "colorscale": [
             [
              0,
              "#0d0887"
             ],
             [
              0.1111111111111111,
              "#46039f"
             ],
             [
              0.2222222222222222,
              "#7201a8"
             ],
             [
              0.3333333333333333,
              "#9c179e"
             ],
             [
              0.4444444444444444,
              "#bd3786"
             ],
             [
              0.5555555555555556,
              "#d8576b"
             ],
             [
              0.6666666666666666,
              "#ed7953"
             ],
             [
              0.7777777777777778,
              "#fb9f3a"
             ],
             [
              0.8888888888888888,
              "#fdca26"
             ],
             [
              1,
              "#f0f921"
             ]
            ],
            "type": "surface"
           }
          ],
          "table": [
           {
            "cells": {
             "fill": {
              "color": "#EBF0F8"
             },
             "line": {
              "color": "white"
             }
            },
            "header": {
             "fill": {
              "color": "#C8D4E3"
             },
             "line": {
              "color": "white"
             }
            },
            "type": "table"
           }
          ]
         },
         "layout": {
          "annotationdefaults": {
           "arrowcolor": "#2a3f5f",
           "arrowhead": 0,
           "arrowwidth": 1
          },
          "autotypenumbers": "strict",
          "coloraxis": {
           "colorbar": {
            "outlinewidth": 0,
            "ticks": ""
           }
          },
          "colorscale": {
           "diverging": [
            [
             0,
             "#8e0152"
            ],
            [
             0.1,
             "#c51b7d"
            ],
            [
             0.2,
             "#de77ae"
            ],
            [
             0.3,
             "#f1b6da"
            ],
            [
             0.4,
             "#fde0ef"
            ],
            [
             0.5,
             "#f7f7f7"
            ],
            [
             0.6,
             "#e6f5d0"
            ],
            [
             0.7,
             "#b8e186"
            ],
            [
             0.8,
             "#7fbc41"
            ],
            [
             0.9,
             "#4d9221"
            ],
            [
             1,
             "#276419"
            ]
           ],
           "sequential": [
            [
             0,
             "#0d0887"
            ],
            [
             0.1111111111111111,
             "#46039f"
            ],
            [
             0.2222222222222222,
             "#7201a8"
            ],
            [
             0.3333333333333333,
             "#9c179e"
            ],
            [
             0.4444444444444444,
             "#bd3786"
            ],
            [
             0.5555555555555556,
             "#d8576b"
            ],
            [
             0.6666666666666666,
             "#ed7953"
            ],
            [
             0.7777777777777778,
             "#fb9f3a"
            ],
            [
             0.8888888888888888,
             "#fdca26"
            ],
            [
             1,
             "#f0f921"
            ]
           ],
           "sequentialminus": [
            [
             0,
             "#0d0887"
            ],
            [
             0.1111111111111111,
             "#46039f"
            ],
            [
             0.2222222222222222,
             "#7201a8"
            ],
            [
             0.3333333333333333,
             "#9c179e"
            ],
            [
             0.4444444444444444,
             "#bd3786"
            ],
            [
             0.5555555555555556,
             "#d8576b"
            ],
            [
             0.6666666666666666,
             "#ed7953"
            ],
            [
             0.7777777777777778,
             "#fb9f3a"
            ],
            [
             0.8888888888888888,
             "#fdca26"
            ],
            [
             1,
             "#f0f921"
            ]
           ]
          },
          "colorway": [
           "#636efa",
           "#EF553B",
           "#00cc96",
           "#ab63fa",
           "#FFA15A",
           "#19d3f3",
           "#FF6692",
           "#B6E880",
           "#FF97FF",
           "#FECB52"
          ],
          "font": {
           "color": "#2a3f5f"
          },
          "geo": {
           "bgcolor": "white",
           "lakecolor": "white",
           "landcolor": "#E5ECF6",
           "showlakes": true,
           "showland": true,
           "subunitcolor": "white"
          },
          "hoverlabel": {
           "align": "left"
          },
          "hovermode": "closest",
          "mapbox": {
           "style": "light"
          },
          "paper_bgcolor": "white",
          "plot_bgcolor": "#E5ECF6",
          "polar": {
           "angularaxis": {
            "gridcolor": "white",
            "linecolor": "white",
            "ticks": ""
           },
           "bgcolor": "#E5ECF6",
           "radialaxis": {
            "gridcolor": "white",
            "linecolor": "white",
            "ticks": ""
           }
          },
          "scene": {
           "xaxis": {
            "backgroundcolor": "#E5ECF6",
            "gridcolor": "white",
            "gridwidth": 2,
            "linecolor": "white",
            "showbackground": true,
            "ticks": "",
            "zerolinecolor": "white"
           },
           "yaxis": {
            "backgroundcolor": "#E5ECF6",
            "gridcolor": "white",
            "gridwidth": 2,
            "linecolor": "white",
            "showbackground": true,
            "ticks": "",
            "zerolinecolor": "white"
           },
           "zaxis": {
            "backgroundcolor": "#E5ECF6",
            "gridcolor": "white",
            "gridwidth": 2,
            "linecolor": "white",
            "showbackground": true,
            "ticks": "",
            "zerolinecolor": "white"
           }
          },
          "shapedefaults": {
           "line": {
            "color": "#2a3f5f"
           }
          },
          "ternary": {
           "aaxis": {
            "gridcolor": "white",
            "linecolor": "white",
            "ticks": ""
           },
           "baxis": {
            "gridcolor": "white",
            "linecolor": "white",
            "ticks": ""
           },
           "bgcolor": "#E5ECF6",
           "caxis": {
            "gridcolor": "white",
            "linecolor": "white",
            "ticks": ""
           }
          },
          "title": {
           "x": 0.05
          },
          "xaxis": {
           "automargin": true,
           "gridcolor": "white",
           "linecolor": "white",
           "ticks": "",
           "title": {
            "standoff": 15
           },
           "zerolinecolor": "white",
           "zerolinewidth": 2
          },
          "yaxis": {
           "automargin": true,
           "gridcolor": "white",
           "linecolor": "white",
           "ticks": "",
           "title": {
            "standoff": 15
           },
           "zerolinecolor": "white",
           "zerolinewidth": 2
          }
         }
        },
        "title": {
         "text": "Total Revenue"
        },
        "xaxis": {
         "anchor": "y",
         "domain": [
          0,
          1
         ],
         "title": {
          "text": "index"
         }
        },
        "yaxis": {
         "anchor": "x",
         "domain": [
          0,
          1
         ],
         "title": {
          "text": "value"
         }
        }
       }
      }
     },
     "metadata": {},
     "output_type": "display_data"
    },
    {
     "data": {
      "application/vnd.plotly.v1+json": {
       "config": {
        "plotlyServerURL": "https://plot.ly"
       },
       "data": [
        {
         "hovertemplate": "variable=Gross margin %<br>x=%{x}<br>value=%{y}<extra></extra>",
         "legendgroup": "Gross margin %",
         "line": {
          "color": "#636efa",
          "dash": "solid"
         },
         "marker": {
          "symbol": "circle"
         },
         "mode": "lines+markers",
         "name": "Gross margin %",
         "orientation": "v",
         "showlegend": true,
         "type": "scatter",
         "x": [
          "2015",
          "2016",
          "2017",
          "2018",
          "2019",
          "2020",
          "2021",
          "Current"
         ],
         "xaxis": "x",
         "y": [
          38.49,
          38.61,
          38.01,
          38.37,
          37.58,
          37.94,
          41.78,
          43.26
         ],
         "yaxis": "y"
        },
        {
         "hovertemplate": "variable=EBITDA margin %<br>x=%{x}<br>value=%{y}<extra></extra>",
         "legendgroup": "EBITDA margin %",
         "line": {
          "color": "#EF553B",
          "dash": "solid"
         },
         "marker": {
          "symbol": "circle"
         },
         "mode": "lines+markers",
         "name": "EBITDA margin %",
         "orientation": "v",
         "showlegend": true,
         "type": "scatter",
         "x": [
          "2015",
          "2016",
          "2017",
          "2018",
          "2019",
          "2020",
          "2021",
          "Current"
         ],
         "xaxis": "x",
         "y": [
          33.35,
          31.87,
          30.37,
          30.23,
          28.67,
          27.87,
          32.87,
          31.2
         ],
         "yaxis": "y"
        },
        {
         "hovertemplate": "variable=Net margin %<br>x=%{x}<br>value=%{y}<extra></extra>",
         "legendgroup": "Net margin %",
         "line": {
          "color": "#00cc96",
          "dash": "solid"
         },
         "marker": {
          "symbol": "circle"
         },
         "mode": "lines+markers",
         "name": "Net margin %",
         "orientation": "v",
         "showlegend": true,
         "type": "scatter",
         "x": [
          "2015",
          "2016",
          "2017",
          "2018",
          "2019",
          "2020",
          "2021",
          "Current"
         ],
         "xaxis": "x",
         "y": [
          23.09,
          21.33,
          21.15,
          22.4,
          21.25,
          20.94,
          25.88,
          23.44
         ],
         "yaxis": "y"
        },
        {
         "hovertemplate": "variable=Operating margin %<br>x=%{x}<br>value=%{y}<extra></extra>",
         "legendgroup": "Operating margin %",
         "line": {
          "color": "#ab63fa",
          "dash": "solid"
         },
         "marker": {
          "symbol": "circle"
         },
         "mode": "lines+markers",
         "name": "Operating margin %",
         "orientation": "v",
         "showlegend": true,
         "type": "scatter",
         "x": [
          "2015",
          "2016",
          "2017",
          "2018",
          "2019",
          "2020",
          "2021",
          "Current"
         ],
         "xaxis": "x",
         "y": [
          28.81,
          27.3,
          26.26,
          26.73,
          24.33,
          23.83,
          29.78,
          27.82
         ],
         "yaxis": "y"
        }
       ],
       "layout": {
        "legend": {
         "title": {
          "text": "variable"
         },
         "tracegroupgap": 0
        },
        "template": {
         "data": {
          "bar": [
           {
            "error_x": {
             "color": "#2a3f5f"
            },
            "error_y": {
             "color": "#2a3f5f"
            },
            "marker": {
             "line": {
              "color": "#E5ECF6",
              "width": 0.5
             },
             "pattern": {
              "fillmode": "overlay",
              "size": 10,
              "solidity": 0.2
             }
            },
            "type": "bar"
           }
          ],
          "barpolar": [
           {
            "marker": {
             "line": {
              "color": "#E5ECF6",
              "width": 0.5
             },
             "pattern": {
              "fillmode": "overlay",
              "size": 10,
              "solidity": 0.2
             }
            },
            "type": "barpolar"
           }
          ],
          "carpet": [
           {
            "aaxis": {
             "endlinecolor": "#2a3f5f",
             "gridcolor": "white",
             "linecolor": "white",
             "minorgridcolor": "white",
             "startlinecolor": "#2a3f5f"
            },
            "baxis": {
             "endlinecolor": "#2a3f5f",
             "gridcolor": "white",
             "linecolor": "white",
             "minorgridcolor": "white",
             "startlinecolor": "#2a3f5f"
            },
            "type": "carpet"
           }
          ],
          "choropleth": [
           {
            "colorbar": {
             "outlinewidth": 0,
             "ticks": ""
            },
            "type": "choropleth"
           }
          ],
          "contour": [
           {
            "colorbar": {
             "outlinewidth": 0,
             "ticks": ""
            },
            "colorscale": [
             [
              0,
              "#0d0887"
             ],
             [
              0.1111111111111111,
              "#46039f"
             ],
             [
              0.2222222222222222,
              "#7201a8"
             ],
             [
              0.3333333333333333,
              "#9c179e"
             ],
             [
              0.4444444444444444,
              "#bd3786"
             ],
             [
              0.5555555555555556,
              "#d8576b"
             ],
             [
              0.6666666666666666,
              "#ed7953"
             ],
             [
              0.7777777777777778,
              "#fb9f3a"
             ],
             [
              0.8888888888888888,
              "#fdca26"
             ],
             [
              1,
              "#f0f921"
             ]
            ],
            "type": "contour"
           }
          ],
          "contourcarpet": [
           {
            "colorbar": {
             "outlinewidth": 0,
             "ticks": ""
            },
            "type": "contourcarpet"
           }
          ],
          "heatmap": [
           {
            "colorbar": {
             "outlinewidth": 0,
             "ticks": ""
            },
            "colorscale": [
             [
              0,
              "#0d0887"
             ],
             [
              0.1111111111111111,
              "#46039f"
             ],
             [
              0.2222222222222222,
              "#7201a8"
             ],
             [
              0.3333333333333333,
              "#9c179e"
             ],
             [
              0.4444444444444444,
              "#bd3786"
             ],
             [
              0.5555555555555556,
              "#d8576b"
             ],
             [
              0.6666666666666666,
              "#ed7953"
             ],
             [
              0.7777777777777778,
              "#fb9f3a"
             ],
             [
              0.8888888888888888,
              "#fdca26"
             ],
             [
              1,
              "#f0f921"
             ]
            ],
            "type": "heatmap"
           }
          ],
          "heatmapgl": [
           {
            "colorbar": {
             "outlinewidth": 0,
             "ticks": ""
            },
            "colorscale": [
             [
              0,
              "#0d0887"
             ],
             [
              0.1111111111111111,
              "#46039f"
             ],
             [
              0.2222222222222222,
              "#7201a8"
             ],
             [
              0.3333333333333333,
              "#9c179e"
             ],
             [
              0.4444444444444444,
              "#bd3786"
             ],
             [
              0.5555555555555556,
              "#d8576b"
             ],
             [
              0.6666666666666666,
              "#ed7953"
             ],
             [
              0.7777777777777778,
              "#fb9f3a"
             ],
             [
              0.8888888888888888,
              "#fdca26"
             ],
             [
              1,
              "#f0f921"
             ]
            ],
            "type": "heatmapgl"
           }
          ],
          "histogram": [
           {
            "marker": {
             "pattern": {
              "fillmode": "overlay",
              "size": 10,
              "solidity": 0.2
             }
            },
            "type": "histogram"
           }
          ],
          "histogram2d": [
           {
            "colorbar": {
             "outlinewidth": 0,
             "ticks": ""
            },
            "colorscale": [
             [
              0,
              "#0d0887"
             ],
             [
              0.1111111111111111,
              "#46039f"
             ],
             [
              0.2222222222222222,
              "#7201a8"
             ],
             [
              0.3333333333333333,
              "#9c179e"
             ],
             [
              0.4444444444444444,
              "#bd3786"
             ],
             [
              0.5555555555555556,
              "#d8576b"
             ],
             [
              0.6666666666666666,
              "#ed7953"
             ],
             [
              0.7777777777777778,
              "#fb9f3a"
             ],
             [
              0.8888888888888888,
              "#fdca26"
             ],
             [
              1,
              "#f0f921"
             ]
            ],
            "type": "histogram2d"
           }
          ],
          "histogram2dcontour": [
           {
            "colorbar": {
             "outlinewidth": 0,
             "ticks": ""
            },
            "colorscale": [
             [
              0,
              "#0d0887"
             ],
             [
              0.1111111111111111,
              "#46039f"
             ],
             [
              0.2222222222222222,
              "#7201a8"
             ],
             [
              0.3333333333333333,
              "#9c179e"
             ],
             [
              0.4444444444444444,
              "#bd3786"
             ],
             [
              0.5555555555555556,
              "#d8576b"
             ],
             [
              0.6666666666666666,
              "#ed7953"
             ],
             [
              0.7777777777777778,
              "#fb9f3a"
             ],
             [
              0.8888888888888888,
              "#fdca26"
             ],
             [
              1,
              "#f0f921"
             ]
            ],
            "type": "histogram2dcontour"
           }
          ],
          "mesh3d": [
           {
            "colorbar": {
             "outlinewidth": 0,
             "ticks": ""
            },
            "type": "mesh3d"
           }
          ],
          "parcoords": [
           {
            "line": {
             "colorbar": {
              "outlinewidth": 0,
              "ticks": ""
             }
            },
            "type": "parcoords"
           }
          ],
          "pie": [
           {
            "automargin": true,
            "type": "pie"
           }
          ],
          "scatter": [
           {
            "marker": {
             "colorbar": {
              "outlinewidth": 0,
              "ticks": ""
             }
            },
            "type": "scatter"
           }
          ],
          "scatter3d": [
           {
            "line": {
             "colorbar": {
              "outlinewidth": 0,
              "ticks": ""
             }
            },
            "marker": {
             "colorbar": {
              "outlinewidth": 0,
              "ticks": ""
             }
            },
            "type": "scatter3d"
           }
          ],
          "scattercarpet": [
           {
            "marker": {
             "colorbar": {
              "outlinewidth": 0,
              "ticks": ""
             }
            },
            "type": "scattercarpet"
           }
          ],
          "scattergeo": [
           {
            "marker": {
             "colorbar": {
              "outlinewidth": 0,
              "ticks": ""
             }
            },
            "type": "scattergeo"
           }
          ],
          "scattergl": [
           {
            "marker": {
             "colorbar": {
              "outlinewidth": 0,
              "ticks": ""
             }
            },
            "type": "scattergl"
           }
          ],
          "scattermapbox": [
           {
            "marker": {
             "colorbar": {
              "outlinewidth": 0,
              "ticks": ""
             }
            },
            "type": "scattermapbox"
           }
          ],
          "scatterpolar": [
           {
            "marker": {
             "colorbar": {
              "outlinewidth": 0,
              "ticks": ""
             }
            },
            "type": "scatterpolar"
           }
          ],
          "scatterpolargl": [
           {
            "marker": {
             "colorbar": {
              "outlinewidth": 0,
              "ticks": ""
             }
            },
            "type": "scatterpolargl"
           }
          ],
          "scatterternary": [
           {
            "marker": {
             "colorbar": {
              "outlinewidth": 0,
              "ticks": ""
             }
            },
            "type": "scatterternary"
           }
          ],
          "surface": [
           {
            "colorbar": {
             "outlinewidth": 0,
             "ticks": ""
            },
            "colorscale": [
             [
              0,
              "#0d0887"
             ],
             [
              0.1111111111111111,
              "#46039f"
             ],
             [
              0.2222222222222222,
              "#7201a8"
             ],
             [
              0.3333333333333333,
              "#9c179e"
             ],
             [
              0.4444444444444444,
              "#bd3786"
             ],
             [
              0.5555555555555556,
              "#d8576b"
             ],
             [
              0.6666666666666666,
              "#ed7953"
             ],
             [
              0.7777777777777778,
              "#fb9f3a"
             ],
             [
              0.8888888888888888,
              "#fdca26"
             ],
             [
              1,
              "#f0f921"
             ]
            ],
            "type": "surface"
           }
          ],
          "table": [
           {
            "cells": {
             "fill": {
              "color": "#EBF0F8"
             },
             "line": {
              "color": "white"
             }
            },
            "header": {
             "fill": {
              "color": "#C8D4E3"
             },
             "line": {
              "color": "white"
             }
            },
            "type": "table"
           }
          ]
         },
         "layout": {
          "annotationdefaults": {
           "arrowcolor": "#2a3f5f",
           "arrowhead": 0,
           "arrowwidth": 1
          },
          "autotypenumbers": "strict",
          "coloraxis": {
           "colorbar": {
            "outlinewidth": 0,
            "ticks": ""
           }
          },
          "colorscale": {
           "diverging": [
            [
             0,
             "#8e0152"
            ],
            [
             0.1,
             "#c51b7d"
            ],
            [
             0.2,
             "#de77ae"
            ],
            [
             0.3,
             "#f1b6da"
            ],
            [
             0.4,
             "#fde0ef"
            ],
            [
             0.5,
             "#f7f7f7"
            ],
            [
             0.6,
             "#e6f5d0"
            ],
            [
             0.7,
             "#b8e186"
            ],
            [
             0.8,
             "#7fbc41"
            ],
            [
             0.9,
             "#4d9221"
            ],
            [
             1,
             "#276419"
            ]
           ],
           "sequential": [
            [
             0,
             "#0d0887"
            ],
            [
             0.1111111111111111,
             "#46039f"
            ],
            [
             0.2222222222222222,
             "#7201a8"
            ],
            [
             0.3333333333333333,
             "#9c179e"
            ],
            [
             0.4444444444444444,
             "#bd3786"
            ],
            [
             0.5555555555555556,
             "#d8576b"
            ],
            [
             0.6666666666666666,
             "#ed7953"
            ],
            [
             0.7777777777777778,
             "#fb9f3a"
            ],
            [
             0.8888888888888888,
             "#fdca26"
            ],
            [
             1,
             "#f0f921"
            ]
           ],
           "sequentialminus": [
            [
             0,
             "#0d0887"
            ],
            [
             0.1111111111111111,
             "#46039f"
            ],
            [
             0.2222222222222222,
             "#7201a8"
            ],
            [
             0.3333333333333333,
             "#9c179e"
            ],
            [
             0.4444444444444444,
             "#bd3786"
            ],
            [
             0.5555555555555556,
             "#d8576b"
            ],
            [
             0.6666666666666666,
             "#ed7953"
            ],
            [
             0.7777777777777778,
             "#fb9f3a"
            ],
            [
             0.8888888888888888,
             "#fdca26"
            ],
            [
             1,
             "#f0f921"
            ]
           ]
          },
          "colorway": [
           "#636efa",
           "#EF553B",
           "#00cc96",
           "#ab63fa",
           "#FFA15A",
           "#19d3f3",
           "#FF6692",
           "#B6E880",
           "#FF97FF",
           "#FECB52"
          ],
          "font": {
           "color": "#2a3f5f"
          },
          "geo": {
           "bgcolor": "white",
           "lakecolor": "white",
           "landcolor": "#E5ECF6",
           "showlakes": true,
           "showland": true,
           "subunitcolor": "white"
          },
          "hoverlabel": {
           "align": "left"
          },
          "hovermode": "closest",
          "mapbox": {
           "style": "light"
          },
          "paper_bgcolor": "white",
          "plot_bgcolor": "#E5ECF6",
          "polar": {
           "angularaxis": {
            "gridcolor": "white",
            "linecolor": "white",
            "ticks": ""
           },
           "bgcolor": "#E5ECF6",
           "radialaxis": {
            "gridcolor": "white",
            "linecolor": "white",
            "ticks": ""
           }
          },
          "scene": {
           "xaxis": {
            "backgroundcolor": "#E5ECF6",
            "gridcolor": "white",
            "gridwidth": 2,
            "linecolor": "white",
            "showbackground": true,
            "ticks": "",
            "zerolinecolor": "white"
           },
           "yaxis": {
            "backgroundcolor": "#E5ECF6",
            "gridcolor": "white",
            "gridwidth": 2,
            "linecolor": "white",
            "showbackground": true,
            "ticks": "",
            "zerolinecolor": "white"
           },
           "zaxis": {
            "backgroundcolor": "#E5ECF6",
            "gridcolor": "white",
            "gridwidth": 2,
            "linecolor": "white",
            "showbackground": true,
            "ticks": "",
            "zerolinecolor": "white"
           }
          },
          "shapedefaults": {
           "line": {
            "color": "#2a3f5f"
           }
          },
          "ternary": {
           "aaxis": {
            "gridcolor": "white",
            "linecolor": "white",
            "ticks": ""
           },
           "baxis": {
            "gridcolor": "white",
            "linecolor": "white",
            "ticks": ""
           },
           "bgcolor": "#E5ECF6",
           "caxis": {
            "gridcolor": "white",
            "linecolor": "white",
            "ticks": ""
           }
          },
          "title": {
           "x": 0.05
          },
          "xaxis": {
           "automargin": true,
           "gridcolor": "white",
           "linecolor": "white",
           "ticks": "",
           "title": {
            "standoff": 15
           },
           "zerolinecolor": "white",
           "zerolinewidth": 2
          },
          "yaxis": {
           "automargin": true,
           "gridcolor": "white",
           "linecolor": "white",
           "ticks": "",
           "title": {
            "standoff": 15
           },
           "zerolinecolor": "white",
           "zerolinewidth": 2
          }
         }
        },
        "title": {
         "text": "Margins"
        },
        "xaxis": {
         "anchor": "y",
         "domain": [
          0,
          1
         ],
         "title": {
          "text": "x"
         }
        },
        "yaxis": {
         "anchor": "x",
         "domain": [
          0,
          1
         ],
         "title": {
          "text": "value"
         }
        }
       }
      }
     },
     "metadata": {},
     "output_type": "display_data"
    },
    {
     "data": {
      "application/vnd.plotly.v1+json": {
       "config": {
        "plotlyServerURL": "https://plot.ly"
       },
       "data": [
        {
         "hovertemplate": "variable=Total common shares outstanding<br>x=%{x}<br>value=%{y}<extra></extra>",
         "legendgroup": "Total common shares outstanding",
         "line": {
          "color": "#636efa",
          "dash": "solid"
         },
         "marker": {
          "symbol": "circle"
         },
         "mode": "lines+markers",
         "name": "Total common shares outstanding",
         "orientation": "v",
         "showlegend": true,
         "type": "scatter",
         "x": [
          "2015",
          "2016",
          "2017",
          "2018",
          "2019",
          "2020",
          "2021",
          "Current"
         ],
         "xaxis": "x",
         "y": [
          22320000000,
          21340000000,
          20500000000,
          19020000000,
          17770000000,
          16980000000,
          16430000000,
          16070000000
         ],
         "yaxis": "y"
        },
        {
         "hovertemplate": "variable=Float shares outstanding<br>x=%{x}<br>value=%{y}<extra></extra>",
         "legendgroup": "Float shares outstanding",
         "line": {
          "color": "#EF553B",
          "dash": "solid"
         },
         "marker": {
          "symbol": "circle"
         },
         "mode": "lines+markers",
         "name": "Float shares outstanding",
         "orientation": "v",
         "showlegend": true,
         "type": "scatter",
         "x": [
          "2015",
          "2016",
          "2017",
          "2018",
          "2019",
          "2020",
          "2021",
          "Current"
         ],
         "xaxis": "x",
         "y": [
          22290000000,
          21320000000,
          20480000000,
          18990000000,
          17750000000,
          16960000000,
          16410000000,
          16059999999.999998
         ],
         "yaxis": "y"
        }
       ],
       "layout": {
        "legend": {
         "title": {
          "text": "variable"
         },
         "tracegroupgap": 0
        },
        "template": {
         "data": {
          "bar": [
           {
            "error_x": {
             "color": "#2a3f5f"
            },
            "error_y": {
             "color": "#2a3f5f"
            },
            "marker": {
             "line": {
              "color": "#E5ECF6",
              "width": 0.5
             },
             "pattern": {
              "fillmode": "overlay",
              "size": 10,
              "solidity": 0.2
             }
            },
            "type": "bar"
           }
          ],
          "barpolar": [
           {
            "marker": {
             "line": {
              "color": "#E5ECF6",
              "width": 0.5
             },
             "pattern": {
              "fillmode": "overlay",
              "size": 10,
              "solidity": 0.2
             }
            },
            "type": "barpolar"
           }
          ],
          "carpet": [
           {
            "aaxis": {
             "endlinecolor": "#2a3f5f",
             "gridcolor": "white",
             "linecolor": "white",
             "minorgridcolor": "white",
             "startlinecolor": "#2a3f5f"
            },
            "baxis": {
             "endlinecolor": "#2a3f5f",
             "gridcolor": "white",
             "linecolor": "white",
             "minorgridcolor": "white",
             "startlinecolor": "#2a3f5f"
            },
            "type": "carpet"
           }
          ],
          "choropleth": [
           {
            "colorbar": {
             "outlinewidth": 0,
             "ticks": ""
            },
            "type": "choropleth"
           }
          ],
          "contour": [
           {
            "colorbar": {
             "outlinewidth": 0,
             "ticks": ""
            },
            "colorscale": [
             [
              0,
              "#0d0887"
             ],
             [
              0.1111111111111111,
              "#46039f"
             ],
             [
              0.2222222222222222,
              "#7201a8"
             ],
             [
              0.3333333333333333,
              "#9c179e"
             ],
             [
              0.4444444444444444,
              "#bd3786"
             ],
             [
              0.5555555555555556,
              "#d8576b"
             ],
             [
              0.6666666666666666,
              "#ed7953"
             ],
             [
              0.7777777777777778,
              "#fb9f3a"
             ],
             [
              0.8888888888888888,
              "#fdca26"
             ],
             [
              1,
              "#f0f921"
             ]
            ],
            "type": "contour"
           }
          ],
          "contourcarpet": [
           {
            "colorbar": {
             "outlinewidth": 0,
             "ticks": ""
            },
            "type": "contourcarpet"
           }
          ],
          "heatmap": [
           {
            "colorbar": {
             "outlinewidth": 0,
             "ticks": ""
            },
            "colorscale": [
             [
              0,
              "#0d0887"
             ],
             [
              0.1111111111111111,
              "#46039f"
             ],
             [
              0.2222222222222222,
              "#7201a8"
             ],
             [
              0.3333333333333333,
              "#9c179e"
             ],
             [
              0.4444444444444444,
              "#bd3786"
             ],
             [
              0.5555555555555556,
              "#d8576b"
             ],
             [
              0.6666666666666666,
              "#ed7953"
             ],
             [
              0.7777777777777778,
              "#fb9f3a"
             ],
             [
              0.8888888888888888,
              "#fdca26"
             ],
             [
              1,
              "#f0f921"
             ]
            ],
            "type": "heatmap"
           }
          ],
          "heatmapgl": [
           {
            "colorbar": {
             "outlinewidth": 0,
             "ticks": ""
            },
            "colorscale": [
             [
              0,
              "#0d0887"
             ],
             [
              0.1111111111111111,
              "#46039f"
             ],
             [
              0.2222222222222222,
              "#7201a8"
             ],
             [
              0.3333333333333333,
              "#9c179e"
             ],
             [
              0.4444444444444444,
              "#bd3786"
             ],
             [
              0.5555555555555556,
              "#d8576b"
             ],
             [
              0.6666666666666666,
              "#ed7953"
             ],
             [
              0.7777777777777778,
              "#fb9f3a"
             ],
             [
              0.8888888888888888,
              "#fdca26"
             ],
             [
              1,
              "#f0f921"
             ]
            ],
            "type": "heatmapgl"
           }
          ],
          "histogram": [
           {
            "marker": {
             "pattern": {
              "fillmode": "overlay",
              "size": 10,
              "solidity": 0.2
             }
            },
            "type": "histogram"
           }
          ],
          "histogram2d": [
           {
            "colorbar": {
             "outlinewidth": 0,
             "ticks": ""
            },
            "colorscale": [
             [
              0,
              "#0d0887"
             ],
             [
              0.1111111111111111,
              "#46039f"
             ],
             [
              0.2222222222222222,
              "#7201a8"
             ],
             [
              0.3333333333333333,
              "#9c179e"
             ],
             [
              0.4444444444444444,
              "#bd3786"
             ],
             [
              0.5555555555555556,
              "#d8576b"
             ],
             [
              0.6666666666666666,
              "#ed7953"
             ],
             [
              0.7777777777777778,
              "#fb9f3a"
             ],
             [
              0.8888888888888888,
              "#fdca26"
             ],
             [
              1,
              "#f0f921"
             ]
            ],
            "type": "histogram2d"
           }
          ],
          "histogram2dcontour": [
           {
            "colorbar": {
             "outlinewidth": 0,
             "ticks": ""
            },
            "colorscale": [
             [
              0,
              "#0d0887"
             ],
             [
              0.1111111111111111,
              "#46039f"
             ],
             [
              0.2222222222222222,
              "#7201a8"
             ],
             [
              0.3333333333333333,
              "#9c179e"
             ],
             [
              0.4444444444444444,
              "#bd3786"
             ],
             [
              0.5555555555555556,
              "#d8576b"
             ],
             [
              0.6666666666666666,
              "#ed7953"
             ],
             [
              0.7777777777777778,
              "#fb9f3a"
             ],
             [
              0.8888888888888888,
              "#fdca26"
             ],
             [
              1,
              "#f0f921"
             ]
            ],
            "type": "histogram2dcontour"
           }
          ],
          "mesh3d": [
           {
            "colorbar": {
             "outlinewidth": 0,
             "ticks": ""
            },
            "type": "mesh3d"
           }
          ],
          "parcoords": [
           {
            "line": {
             "colorbar": {
              "outlinewidth": 0,
              "ticks": ""
             }
            },
            "type": "parcoords"
           }
          ],
          "pie": [
           {
            "automargin": true,
            "type": "pie"
           }
          ],
          "scatter": [
           {
            "marker": {
             "colorbar": {
              "outlinewidth": 0,
              "ticks": ""
             }
            },
            "type": "scatter"
           }
          ],
          "scatter3d": [
           {
            "line": {
             "colorbar": {
              "outlinewidth": 0,
              "ticks": ""
             }
            },
            "marker": {
             "colorbar": {
              "outlinewidth": 0,
              "ticks": ""
             }
            },
            "type": "scatter3d"
           }
          ],
          "scattercarpet": [
           {
            "marker": {
             "colorbar": {
              "outlinewidth": 0,
              "ticks": ""
             }
            },
            "type": "scattercarpet"
           }
          ],
          "scattergeo": [
           {
            "marker": {
             "colorbar": {
              "outlinewidth": 0,
              "ticks": ""
             }
            },
            "type": "scattergeo"
           }
          ],
          "scattergl": [
           {
            "marker": {
             "colorbar": {
              "outlinewidth": 0,
              "ticks": ""
             }
            },
            "type": "scattergl"
           }
          ],
          "scattermapbox": [
           {
            "marker": {
             "colorbar": {
              "outlinewidth": 0,
              "ticks": ""
             }
            },
            "type": "scattermapbox"
           }
          ],
          "scatterpolar": [
           {
            "marker": {
             "colorbar": {
              "outlinewidth": 0,
              "ticks": ""
             }
            },
            "type": "scatterpolar"
           }
          ],
          "scatterpolargl": [
           {
            "marker": {
             "colorbar": {
              "outlinewidth": 0,
              "ticks": ""
             }
            },
            "type": "scatterpolargl"
           }
          ],
          "scatterternary": [
           {
            "marker": {
             "colorbar": {
              "outlinewidth": 0,
              "ticks": ""
             }
            },
            "type": "scatterternary"
           }
          ],
          "surface": [
           {
            "colorbar": {
             "outlinewidth": 0,
             "ticks": ""
            },
            "colorscale": [
             [
              0,
              "#0d0887"
             ],
             [
              0.1111111111111111,
              "#46039f"
             ],
             [
              0.2222222222222222,
              "#7201a8"
             ],
             [
              0.3333333333333333,
              "#9c179e"
             ],
             [
              0.4444444444444444,
              "#bd3786"
             ],
             [
              0.5555555555555556,
              "#d8576b"
             ],
             [
              0.6666666666666666,
              "#ed7953"
             ],
             [
              0.7777777777777778,
              "#fb9f3a"
             ],
             [
              0.8888888888888888,
              "#fdca26"
             ],
             [
              1,
              "#f0f921"
             ]
            ],
            "type": "surface"
           }
          ],
          "table": [
           {
            "cells": {
             "fill": {
              "color": "#EBF0F8"
             },
             "line": {
              "color": "white"
             }
            },
            "header": {
             "fill": {
              "color": "#C8D4E3"
             },
             "line": {
              "color": "white"
             }
            },
            "type": "table"
           }
          ]
         },
         "layout": {
          "annotationdefaults": {
           "arrowcolor": "#2a3f5f",
           "arrowhead": 0,
           "arrowwidth": 1
          },
          "autotypenumbers": "strict",
          "coloraxis": {
           "colorbar": {
            "outlinewidth": 0,
            "ticks": ""
           }
          },
          "colorscale": {
           "diverging": [
            [
             0,
             "#8e0152"
            ],
            [
             0.1,
             "#c51b7d"
            ],
            [
             0.2,
             "#de77ae"
            ],
            [
             0.3,
             "#f1b6da"
            ],
            [
             0.4,
             "#fde0ef"
            ],
            [
             0.5,
             "#f7f7f7"
            ],
            [
             0.6,
             "#e6f5d0"
            ],
            [
             0.7,
             "#b8e186"
            ],
            [
             0.8,
             "#7fbc41"
            ],
            [
             0.9,
             "#4d9221"
            ],
            [
             1,
             "#276419"
            ]
           ],
           "sequential": [
            [
             0,
             "#0d0887"
            ],
            [
             0.1111111111111111,
             "#46039f"
            ],
            [
             0.2222222222222222,
             "#7201a8"
            ],
            [
             0.3333333333333333,
             "#9c179e"
            ],
            [
             0.4444444444444444,
             "#bd3786"
            ],
            [
             0.5555555555555556,
             "#d8576b"
            ],
            [
             0.6666666666666666,
             "#ed7953"
            ],
            [
             0.7777777777777778,
             "#fb9f3a"
            ],
            [
             0.8888888888888888,
             "#fdca26"
            ],
            [
             1,
             "#f0f921"
            ]
           ],
           "sequentialminus": [
            [
             0,
             "#0d0887"
            ],
            [
             0.1111111111111111,
             "#46039f"
            ],
            [
             0.2222222222222222,
             "#7201a8"
            ],
            [
             0.3333333333333333,
             "#9c179e"
            ],
            [
             0.4444444444444444,
             "#bd3786"
            ],
            [
             0.5555555555555556,
             "#d8576b"
            ],
            [
             0.6666666666666666,
             "#ed7953"
            ],
            [
             0.7777777777777778,
             "#fb9f3a"
            ],
            [
             0.8888888888888888,
             "#fdca26"
            ],
            [
             1,
             "#f0f921"
            ]
           ]
          },
          "colorway": [
           "#636efa",
           "#EF553B",
           "#00cc96",
           "#ab63fa",
           "#FFA15A",
           "#19d3f3",
           "#FF6692",
           "#B6E880",
           "#FF97FF",
           "#FECB52"
          ],
          "font": {
           "color": "#2a3f5f"
          },
          "geo": {
           "bgcolor": "white",
           "lakecolor": "white",
           "landcolor": "#E5ECF6",
           "showlakes": true,
           "showland": true,
           "subunitcolor": "white"
          },
          "hoverlabel": {
           "align": "left"
          },
          "hovermode": "closest",
          "mapbox": {
           "style": "light"
          },
          "paper_bgcolor": "white",
          "plot_bgcolor": "#E5ECF6",
          "polar": {
           "angularaxis": {
            "gridcolor": "white",
            "linecolor": "white",
            "ticks": ""
           },
           "bgcolor": "#E5ECF6",
           "radialaxis": {
            "gridcolor": "white",
            "linecolor": "white",
            "ticks": ""
           }
          },
          "scene": {
           "xaxis": {
            "backgroundcolor": "#E5ECF6",
            "gridcolor": "white",
            "gridwidth": 2,
            "linecolor": "white",
            "showbackground": true,
            "ticks": "",
            "zerolinecolor": "white"
           },
           "yaxis": {
            "backgroundcolor": "#E5ECF6",
            "gridcolor": "white",
            "gridwidth": 2,
            "linecolor": "white",
            "showbackground": true,
            "ticks": "",
            "zerolinecolor": "white"
           },
           "zaxis": {
            "backgroundcolor": "#E5ECF6",
            "gridcolor": "white",
            "gridwidth": 2,
            "linecolor": "white",
            "showbackground": true,
            "ticks": "",
            "zerolinecolor": "white"
           }
          },
          "shapedefaults": {
           "line": {
            "color": "#2a3f5f"
           }
          },
          "ternary": {
           "aaxis": {
            "gridcolor": "white",
            "linecolor": "white",
            "ticks": ""
           },
           "baxis": {
            "gridcolor": "white",
            "linecolor": "white",
            "ticks": ""
           },
           "bgcolor": "#E5ECF6",
           "caxis": {
            "gridcolor": "white",
            "linecolor": "white",
            "ticks": ""
           }
          },
          "title": {
           "x": 0.05
          },
          "xaxis": {
           "automargin": true,
           "gridcolor": "white",
           "linecolor": "white",
           "ticks": "",
           "title": {
            "standoff": 15
           },
           "zerolinecolor": "white",
           "zerolinewidth": 2
          },
          "yaxis": {
           "automargin": true,
           "gridcolor": "white",
           "linecolor": "white",
           "ticks": "",
           "title": {
            "standoff": 15
           },
           "zerolinecolor": "white",
           "zerolinewidth": 2
          }
         }
        },
        "title": {
         "text": "Shares"
        },
        "xaxis": {
         "anchor": "y",
         "domain": [
          0,
          1
         ],
         "title": {
          "text": "x"
         }
        },
        "yaxis": {
         "anchor": "x",
         "domain": [
          0,
          1
         ],
         "title": {
          "text": "value"
         }
        }
       }
      }
     },
     "metadata": {},
     "output_type": "display_data"
    },
    {
     "data": {
      "application/vnd.plotly.v1+json": {
       "config": {
        "plotlyServerURL": "https://plot.ly"
       },
       "data": [
        {
         "hovertemplate": "variable=Number of employees<br>x=%{x}<br>value=%{y}<extra></extra>",
         "legendgroup": "Number of employees",
         "line": {
          "color": "#636efa",
          "dash": "solid"
         },
         "marker": {
          "symbol": "circle"
         },
         "mode": "lines+markers",
         "name": "Number of employees",
         "orientation": "v",
         "showlegend": true,
         "type": "scatter",
         "x": [
          "2015",
          "2016",
          "2017",
          "2018",
          "2019",
          "2020",
          "2021",
          "Current"
         ],
         "xaxis": "x",
         "y": [
          110000,
          116000,
          123000,
          132000,
          137000,
          147000,
          154000,
          null
         ],
         "yaxis": "y"
        },
        {
         "hovertemplate": "variable=Number of shareholders<br>x=%{x}<br>value=%{y}<extra></extra>",
         "legendgroup": "Number of shareholders",
         "line": {
          "color": "#EF553B",
          "dash": "solid"
         },
         "marker": {
          "symbol": "circle"
         },
         "mode": "lines+markers",
         "name": "Number of shareholders",
         "orientation": "v",
         "showlegend": true,
         "type": "scatter",
         "x": [
          "2015",
          "2016",
          "2017",
          "2018",
          "2019",
          "2020",
          "2021",
          "Current"
         ],
         "xaxis": "x",
         "y": [
          23500,
          23500,
          23500,
          23500,
          23500,
          23500,
          23500,
          null
         ],
         "yaxis": "y"
        }
       ],
       "layout": {
        "legend": {
         "title": {
          "text": "variable"
         },
         "tracegroupgap": 0
        },
        "template": {
         "data": {
          "bar": [
           {
            "error_x": {
             "color": "#2a3f5f"
            },
            "error_y": {
             "color": "#2a3f5f"
            },
            "marker": {
             "line": {
              "color": "#E5ECF6",
              "width": 0.5
             },
             "pattern": {
              "fillmode": "overlay",
              "size": 10,
              "solidity": 0.2
             }
            },
            "type": "bar"
           }
          ],
          "barpolar": [
           {
            "marker": {
             "line": {
              "color": "#E5ECF6",
              "width": 0.5
             },
             "pattern": {
              "fillmode": "overlay",
              "size": 10,
              "solidity": 0.2
             }
            },
            "type": "barpolar"
           }
          ],
          "carpet": [
           {
            "aaxis": {
             "endlinecolor": "#2a3f5f",
             "gridcolor": "white",
             "linecolor": "white",
             "minorgridcolor": "white",
             "startlinecolor": "#2a3f5f"
            },
            "baxis": {
             "endlinecolor": "#2a3f5f",
             "gridcolor": "white",
             "linecolor": "white",
             "minorgridcolor": "white",
             "startlinecolor": "#2a3f5f"
            },
            "type": "carpet"
           }
          ],
          "choropleth": [
           {
            "colorbar": {
             "outlinewidth": 0,
             "ticks": ""
            },
            "type": "choropleth"
           }
          ],
          "contour": [
           {
            "colorbar": {
             "outlinewidth": 0,
             "ticks": ""
            },
            "colorscale": [
             [
              0,
              "#0d0887"
             ],
             [
              0.1111111111111111,
              "#46039f"
             ],
             [
              0.2222222222222222,
              "#7201a8"
             ],
             [
              0.3333333333333333,
              "#9c179e"
             ],
             [
              0.4444444444444444,
              "#bd3786"
             ],
             [
              0.5555555555555556,
              "#d8576b"
             ],
             [
              0.6666666666666666,
              "#ed7953"
             ],
             [
              0.7777777777777778,
              "#fb9f3a"
             ],
             [
              0.8888888888888888,
              "#fdca26"
             ],
             [
              1,
              "#f0f921"
             ]
            ],
            "type": "contour"
           }
          ],
          "contourcarpet": [
           {
            "colorbar": {
             "outlinewidth": 0,
             "ticks": ""
            },
            "type": "contourcarpet"
           }
          ],
          "heatmap": [
           {
            "colorbar": {
             "outlinewidth": 0,
             "ticks": ""
            },
            "colorscale": [
             [
              0,
              "#0d0887"
             ],
             [
              0.1111111111111111,
              "#46039f"
             ],
             [
              0.2222222222222222,
              "#7201a8"
             ],
             [
              0.3333333333333333,
              "#9c179e"
             ],
             [
              0.4444444444444444,
              "#bd3786"
             ],
             [
              0.5555555555555556,
              "#d8576b"
             ],
             [
              0.6666666666666666,
              "#ed7953"
             ],
             [
              0.7777777777777778,
              "#fb9f3a"
             ],
             [
              0.8888888888888888,
              "#fdca26"
             ],
             [
              1,
              "#f0f921"
             ]
            ],
            "type": "heatmap"
           }
          ],
          "heatmapgl": [
           {
            "colorbar": {
             "outlinewidth": 0,
             "ticks": ""
            },
            "colorscale": [
             [
              0,
              "#0d0887"
             ],
             [
              0.1111111111111111,
              "#46039f"
             ],
             [
              0.2222222222222222,
              "#7201a8"
             ],
             [
              0.3333333333333333,
              "#9c179e"
             ],
             [
              0.4444444444444444,
              "#bd3786"
             ],
             [
              0.5555555555555556,
              "#d8576b"
             ],
             [
              0.6666666666666666,
              "#ed7953"
             ],
             [
              0.7777777777777778,
              "#fb9f3a"
             ],
             [
              0.8888888888888888,
              "#fdca26"
             ],
             [
              1,
              "#f0f921"
             ]
            ],
            "type": "heatmapgl"
           }
          ],
          "histogram": [
           {
            "marker": {
             "pattern": {
              "fillmode": "overlay",
              "size": 10,
              "solidity": 0.2
             }
            },
            "type": "histogram"
           }
          ],
          "histogram2d": [
           {
            "colorbar": {
             "outlinewidth": 0,
             "ticks": ""
            },
            "colorscale": [
             [
              0,
              "#0d0887"
             ],
             [
              0.1111111111111111,
              "#46039f"
             ],
             [
              0.2222222222222222,
              "#7201a8"
             ],
             [
              0.3333333333333333,
              "#9c179e"
             ],
             [
              0.4444444444444444,
              "#bd3786"
             ],
             [
              0.5555555555555556,
              "#d8576b"
             ],
             [
              0.6666666666666666,
              "#ed7953"
             ],
             [
              0.7777777777777778,
              "#fb9f3a"
             ],
             [
              0.8888888888888888,
              "#fdca26"
             ],
             [
              1,
              "#f0f921"
             ]
            ],
            "type": "histogram2d"
           }
          ],
          "histogram2dcontour": [
           {
            "colorbar": {
             "outlinewidth": 0,
             "ticks": ""
            },
            "colorscale": [
             [
              0,
              "#0d0887"
             ],
             [
              0.1111111111111111,
              "#46039f"
             ],
             [
              0.2222222222222222,
              "#7201a8"
             ],
             [
              0.3333333333333333,
              "#9c179e"
             ],
             [
              0.4444444444444444,
              "#bd3786"
             ],
             [
              0.5555555555555556,
              "#d8576b"
             ],
             [
              0.6666666666666666,
              "#ed7953"
             ],
             [
              0.7777777777777778,
              "#fb9f3a"
             ],
             [
              0.8888888888888888,
              "#fdca26"
             ],
             [
              1,
              "#f0f921"
             ]
            ],
            "type": "histogram2dcontour"
           }
          ],
          "mesh3d": [
           {
            "colorbar": {
             "outlinewidth": 0,
             "ticks": ""
            },
            "type": "mesh3d"
           }
          ],
          "parcoords": [
           {
            "line": {
             "colorbar": {
              "outlinewidth": 0,
              "ticks": ""
             }
            },
            "type": "parcoords"
           }
          ],
          "pie": [
           {
            "automargin": true,
            "type": "pie"
           }
          ],
          "scatter": [
           {
            "marker": {
             "colorbar": {
              "outlinewidth": 0,
              "ticks": ""
             }
            },
            "type": "scatter"
           }
          ],
          "scatter3d": [
           {
            "line": {
             "colorbar": {
              "outlinewidth": 0,
              "ticks": ""
             }
            },
            "marker": {
             "colorbar": {
              "outlinewidth": 0,
              "ticks": ""
             }
            },
            "type": "scatter3d"
           }
          ],
          "scattercarpet": [
           {
            "marker": {
             "colorbar": {
              "outlinewidth": 0,
              "ticks": ""
             }
            },
            "type": "scattercarpet"
           }
          ],
          "scattergeo": [
           {
            "marker": {
             "colorbar": {
              "outlinewidth": 0,
              "ticks": ""
             }
            },
            "type": "scattergeo"
           }
          ],
          "scattergl": [
           {
            "marker": {
             "colorbar": {
              "outlinewidth": 0,
              "ticks": ""
             }
            },
            "type": "scattergl"
           }
          ],
          "scattermapbox": [
           {
            "marker": {
             "colorbar": {
              "outlinewidth": 0,
              "ticks": ""
             }
            },
            "type": "scattermapbox"
           }
          ],
          "scatterpolar": [
           {
            "marker": {
             "colorbar": {
              "outlinewidth": 0,
              "ticks": ""
             }
            },
            "type": "scatterpolar"
           }
          ],
          "scatterpolargl": [
           {
            "marker": {
             "colorbar": {
              "outlinewidth": 0,
              "ticks": ""
             }
            },
            "type": "scatterpolargl"
           }
          ],
          "scatterternary": [
           {
            "marker": {
             "colorbar": {
              "outlinewidth": 0,
              "ticks": ""
             }
            },
            "type": "scatterternary"
           }
          ],
          "surface": [
           {
            "colorbar": {
             "outlinewidth": 0,
             "ticks": ""
            },
            "colorscale": [
             [
              0,
              "#0d0887"
             ],
             [
              0.1111111111111111,
              "#46039f"
             ],
             [
              0.2222222222222222,
              "#7201a8"
             ],
             [
              0.3333333333333333,
              "#9c179e"
             ],
             [
              0.4444444444444444,
              "#bd3786"
             ],
             [
              0.5555555555555556,
              "#d8576b"
             ],
             [
              0.6666666666666666,
              "#ed7953"
             ],
             [
              0.7777777777777778,
              "#fb9f3a"
             ],
             [
              0.8888888888888888,
              "#fdca26"
             ],
             [
              1,
              "#f0f921"
             ]
            ],
            "type": "surface"
           }
          ],
          "table": [
           {
            "cells": {
             "fill": {
              "color": "#EBF0F8"
             },
             "line": {
              "color": "white"
             }
            },
            "header": {
             "fill": {
              "color": "#C8D4E3"
             },
             "line": {
              "color": "white"
             }
            },
            "type": "table"
           }
          ]
         },
         "layout": {
          "annotationdefaults": {
           "arrowcolor": "#2a3f5f",
           "arrowhead": 0,
           "arrowwidth": 1
          },
          "autotypenumbers": "strict",
          "coloraxis": {
           "colorbar": {
            "outlinewidth": 0,
            "ticks": ""
           }
          },
          "colorscale": {
           "diverging": [
            [
             0,
             "#8e0152"
            ],
            [
             0.1,
             "#c51b7d"
            ],
            [
             0.2,
             "#de77ae"
            ],
            [
             0.3,
             "#f1b6da"
            ],
            [
             0.4,
             "#fde0ef"
            ],
            [
             0.5,
             "#f7f7f7"
            ],
            [
             0.6,
             "#e6f5d0"
            ],
            [
             0.7,
             "#b8e186"
            ],
            [
             0.8,
             "#7fbc41"
            ],
            [
             0.9,
             "#4d9221"
            ],
            [
             1,
             "#276419"
            ]
           ],
           "sequential": [
            [
             0,
             "#0d0887"
            ],
            [
             0.1111111111111111,
             "#46039f"
            ],
            [
             0.2222222222222222,
             "#7201a8"
            ],
            [
             0.3333333333333333,
             "#9c179e"
            ],
            [
             0.4444444444444444,
             "#bd3786"
            ],
            [
             0.5555555555555556,
             "#d8576b"
            ],
            [
             0.6666666666666666,
             "#ed7953"
            ],
            [
             0.7777777777777778,
             "#fb9f3a"
            ],
            [
             0.8888888888888888,
             "#fdca26"
            ],
            [
             1,
             "#f0f921"
            ]
           ],
           "sequentialminus": [
            [
             0,
             "#0d0887"
            ],
            [
             0.1111111111111111,
             "#46039f"
            ],
            [
             0.2222222222222222,
             "#7201a8"
            ],
            [
             0.3333333333333333,
             "#9c179e"
            ],
            [
             0.4444444444444444,
             "#bd3786"
            ],
            [
             0.5555555555555556,
             "#d8576b"
            ],
            [
             0.6666666666666666,
             "#ed7953"
            ],
            [
             0.7777777777777778,
             "#fb9f3a"
            ],
            [
             0.8888888888888888,
             "#fdca26"
            ],
            [
             1,
             "#f0f921"
            ]
           ]
          },
          "colorway": [
           "#636efa",
           "#EF553B",
           "#00cc96",
           "#ab63fa",
           "#FFA15A",
           "#19d3f3",
           "#FF6692",
           "#B6E880",
           "#FF97FF",
           "#FECB52"
          ],
          "font": {
           "color": "#2a3f5f"
          },
          "geo": {
           "bgcolor": "white",
           "lakecolor": "white",
           "landcolor": "#E5ECF6",
           "showlakes": true,
           "showland": true,
           "subunitcolor": "white"
          },
          "hoverlabel": {
           "align": "left"
          },
          "hovermode": "closest",
          "mapbox": {
           "style": "light"
          },
          "paper_bgcolor": "white",
          "plot_bgcolor": "#E5ECF6",
          "polar": {
           "angularaxis": {
            "gridcolor": "white",
            "linecolor": "white",
            "ticks": ""
           },
           "bgcolor": "#E5ECF6",
           "radialaxis": {
            "gridcolor": "white",
            "linecolor": "white",
            "ticks": ""
           }
          },
          "scene": {
           "xaxis": {
            "backgroundcolor": "#E5ECF6",
            "gridcolor": "white",
            "gridwidth": 2,
            "linecolor": "white",
            "showbackground": true,
            "ticks": "",
            "zerolinecolor": "white"
           },
           "yaxis": {
            "backgroundcolor": "#E5ECF6",
            "gridcolor": "white",
            "gridwidth": 2,
            "linecolor": "white",
            "showbackground": true,
            "ticks": "",
            "zerolinecolor": "white"
           },
           "zaxis": {
            "backgroundcolor": "#E5ECF6",
            "gridcolor": "white",
            "gridwidth": 2,
            "linecolor": "white",
            "showbackground": true,
            "ticks": "",
            "zerolinecolor": "white"
           }
          },
          "shapedefaults": {
           "line": {
            "color": "#2a3f5f"
           }
          },
          "ternary": {
           "aaxis": {
            "gridcolor": "white",
            "linecolor": "white",
            "ticks": ""
           },
           "baxis": {
            "gridcolor": "white",
            "linecolor": "white",
            "ticks": ""
           },
           "bgcolor": "#E5ECF6",
           "caxis": {
            "gridcolor": "white",
            "linecolor": "white",
            "ticks": ""
           }
          },
          "title": {
           "x": 0.05
          },
          "xaxis": {
           "automargin": true,
           "gridcolor": "white",
           "linecolor": "white",
           "ticks": "",
           "title": {
            "standoff": 15
           },
           "zerolinecolor": "white",
           "zerolinewidth": 2
          },
          "yaxis": {
           "automargin": true,
           "gridcolor": "white",
           "linecolor": "white",
           "ticks": "",
           "title": {
            "standoff": 15
           },
           "zerolinecolor": "white",
           "zerolinewidth": 2
          }
         }
        },
        "title": {
         "text": "Total Revenue"
        },
        "xaxis": {
         "anchor": "y",
         "domain": [
          0,
          1
         ],
         "title": {
          "text": "x"
         }
        },
        "yaxis": {
         "anchor": "x",
         "domain": [
          0,
          1
         ],
         "title": {
          "text": "value"
         }
        }
       }
      }
     },
     "metadata": {},
     "output_type": "display_data"
    },
    {
     "data": {
      "application/vnd.plotly.v1+json": {
       "config": {
        "plotlyServerURL": "https://plot.ly"
       },
       "data": [
        {
         "hovertemplate": "variable=Price to earnings ratio<br>x=%{x}<br>value=%{y}<extra></extra>",
         "legendgroup": "Price to earnings ratio",
         "line": {
          "color": "#636efa",
          "dash": "solid"
         },
         "marker": {
          "symbol": "circle"
         },
         "mode": "lines+markers",
         "name": "Price to earnings ratio",
         "orientation": "v",
         "showlegend": true,
         "type": "scatter",
         "x": [
          "2015",
          "2016",
          "2017",
          "2018",
          "2019",
          "2020",
          "2021",
          "Current"
         ],
         "xaxis": "x",
         "y": [
          12.44,
          13.56,
          16.73,
          18.95,
          18.41,
          34.28,
          26.17,
          24.68
         ],
         "yaxis": "y"
        },
        {
         "hovertemplate": "variable=Price to sales ratio<br>x=%{x}<br>value=%{y}<extra></extra>",
         "legendgroup": "Price to sales ratio",
         "line": {
          "color": "#EF553B",
          "dash": "solid"
         },
         "marker": {
          "symbol": "circle"
         },
         "mode": "lines+markers",
         "name": "Price to sales ratio",
         "orientation": "v",
         "showlegend": true,
         "type": "scatter",
         "x": [
          "2015",
          "2016",
          "2017",
          "2018",
          "2019",
          "2020",
          "2021",
          "Current"
         ],
         "xaxis": "x",
         "y": [
          2.87,
          2.89,
          3.54,
          4.25,
          3.91,
          7.18,
          6.77,
          6.27
         ],
         "yaxis": "y"
        },
        {
         "hovertemplate": "variable=Price to cash flow ratio<br>x=%{x}<br>value=%{y}<extra></extra>",
         "legendgroup": "Price to cash flow ratio",
         "line": {
          "color": "#00cc96",
          "dash": "solid"
         },
         "marker": {
          "symbol": "circle"
         },
         "mode": "lines+markers",
         "name": "Price to cash flow ratio",
         "orientation": "v",
         "showlegend": true,
         "type": "scatter",
         "x": [
          "2015",
          "2016",
          "2017",
          "2018",
          "2019",
          "2020",
          "2021",
          "Current"
         ],
         "xaxis": "x",
         "y": [
          8.18,
          9.42,
          12.73,
          14.58,
          14.66,
          24.4,
          23.82,
          20.54
         ],
         "yaxis": "y"
        },
        {
         "hovertemplate": "variable=Enterprise value to EBITDA ratio<br>x=%{x}<br>value=%{y}<extra></extra>",
         "legendgroup": "Enterprise value to EBITDA ratio",
         "line": {
          "color": "#ab63fa",
          "dash": "solid"
         },
         "marker": {
          "symbol": "circle"
         },
         "mode": "lines+markers",
         "name": "Enterprise value to EBITDA ratio",
         "orientation": "v",
         "showlegend": true,
         "type": "scatter",
         "x": [
          "2015",
          "2016",
          "2017",
          "2018",
          "2019",
          "2020",
          "2021",
          "Current"
         ],
         "xaxis": "x",
         "y": [
          8.91,
          9.37,
          12.26,
          14.65,
          13.75,
          26.05,
          21.13,
          19.08
         ],
         "yaxis": "y"
        },
        {
         "hovertemplate": "variable=Price to book ratio<br>x=%{x}<br>value=%{y}<extra></extra>",
         "legendgroup": "Price to book ratio",
         "line": {
          "color": "#FFA15A",
          "dash": "solid"
         },
         "marker": {
          "symbol": "circle"
         },
         "mode": "lines+markers",
         "name": "Price to book ratio",
         "orientation": "v",
         "showlegend": true,
         "type": "scatter",
         "x": [
          "2015",
          "2016",
          "2017",
          "2018",
          "2019",
          "2020",
          "2021",
          "Current"
         ],
         "xaxis": "x",
         "y": [
          5.36,
          4.69,
          5.89,
          10.02,
          10.74,
          29.17,
          38.25,
          41.37
         ],
         "yaxis": "y"
        }
       ],
       "layout": {
        "legend": {
         "title": {
          "text": "variable"
         },
         "tracegroupgap": 0
        },
        "template": {
         "data": {
          "bar": [
           {
            "error_x": {
             "color": "#2a3f5f"
            },
            "error_y": {
             "color": "#2a3f5f"
            },
            "marker": {
             "line": {
              "color": "#E5ECF6",
              "width": 0.5
             },
             "pattern": {
              "fillmode": "overlay",
              "size": 10,
              "solidity": 0.2
             }
            },
            "type": "bar"
           }
          ],
          "barpolar": [
           {
            "marker": {
             "line": {
              "color": "#E5ECF6",
              "width": 0.5
             },
             "pattern": {
              "fillmode": "overlay",
              "size": 10,
              "solidity": 0.2
             }
            },
            "type": "barpolar"
           }
          ],
          "carpet": [
           {
            "aaxis": {
             "endlinecolor": "#2a3f5f",
             "gridcolor": "white",
             "linecolor": "white",
             "minorgridcolor": "white",
             "startlinecolor": "#2a3f5f"
            },
            "baxis": {
             "endlinecolor": "#2a3f5f",
             "gridcolor": "white",
             "linecolor": "white",
             "minorgridcolor": "white",
             "startlinecolor": "#2a3f5f"
            },
            "type": "carpet"
           }
          ],
          "choropleth": [
           {
            "colorbar": {
             "outlinewidth": 0,
             "ticks": ""
            },
            "type": "choropleth"
           }
          ],
          "contour": [
           {
            "colorbar": {
             "outlinewidth": 0,
             "ticks": ""
            },
            "colorscale": [
             [
              0,
              "#0d0887"
             ],
             [
              0.1111111111111111,
              "#46039f"
             ],
             [
              0.2222222222222222,
              "#7201a8"
             ],
             [
              0.3333333333333333,
              "#9c179e"
             ],
             [
              0.4444444444444444,
              "#bd3786"
             ],
             [
              0.5555555555555556,
              "#d8576b"
             ],
             [
              0.6666666666666666,
              "#ed7953"
             ],
             [
              0.7777777777777778,
              "#fb9f3a"
             ],
             [
              0.8888888888888888,
              "#fdca26"
             ],
             [
              1,
              "#f0f921"
             ]
            ],
            "type": "contour"
           }
          ],
          "contourcarpet": [
           {
            "colorbar": {
             "outlinewidth": 0,
             "ticks": ""
            },
            "type": "contourcarpet"
           }
          ],
          "heatmap": [
           {
            "colorbar": {
             "outlinewidth": 0,
             "ticks": ""
            },
            "colorscale": [
             [
              0,
              "#0d0887"
             ],
             [
              0.1111111111111111,
              "#46039f"
             ],
             [
              0.2222222222222222,
              "#7201a8"
             ],
             [
              0.3333333333333333,
              "#9c179e"
             ],
             [
              0.4444444444444444,
              "#bd3786"
             ],
             [
              0.5555555555555556,
              "#d8576b"
             ],
             [
              0.6666666666666666,
              "#ed7953"
             ],
             [
              0.7777777777777778,
              "#fb9f3a"
             ],
             [
              0.8888888888888888,
              "#fdca26"
             ],
             [
              1,
              "#f0f921"
             ]
            ],
            "type": "heatmap"
           }
          ],
          "heatmapgl": [
           {
            "colorbar": {
             "outlinewidth": 0,
             "ticks": ""
            },
            "colorscale": [
             [
              0,
              "#0d0887"
             ],
             [
              0.1111111111111111,
              "#46039f"
             ],
             [
              0.2222222222222222,
              "#7201a8"
             ],
             [
              0.3333333333333333,
              "#9c179e"
             ],
             [
              0.4444444444444444,
              "#bd3786"
             ],
             [
              0.5555555555555556,
              "#d8576b"
             ],
             [
              0.6666666666666666,
              "#ed7953"
             ],
             [
              0.7777777777777778,
              "#fb9f3a"
             ],
             [
              0.8888888888888888,
              "#fdca26"
             ],
             [
              1,
              "#f0f921"
             ]
            ],
            "type": "heatmapgl"
           }
          ],
          "histogram": [
           {
            "marker": {
             "pattern": {
              "fillmode": "overlay",
              "size": 10,
              "solidity": 0.2
             }
            },
            "type": "histogram"
           }
          ],
          "histogram2d": [
           {
            "colorbar": {
             "outlinewidth": 0,
             "ticks": ""
            },
            "colorscale": [
             [
              0,
              "#0d0887"
             ],
             [
              0.1111111111111111,
              "#46039f"
             ],
             [
              0.2222222222222222,
              "#7201a8"
             ],
             [
              0.3333333333333333,
              "#9c179e"
             ],
             [
              0.4444444444444444,
              "#bd3786"
             ],
             [
              0.5555555555555556,
              "#d8576b"
             ],
             [
              0.6666666666666666,
              "#ed7953"
             ],
             [
              0.7777777777777778,
              "#fb9f3a"
             ],
             [
              0.8888888888888888,
              "#fdca26"
             ],
             [
              1,
              "#f0f921"
             ]
            ],
            "type": "histogram2d"
           }
          ],
          "histogram2dcontour": [
           {
            "colorbar": {
             "outlinewidth": 0,
             "ticks": ""
            },
            "colorscale": [
             [
              0,
              "#0d0887"
             ],
             [
              0.1111111111111111,
              "#46039f"
             ],
             [
              0.2222222222222222,
              "#7201a8"
             ],
             [
              0.3333333333333333,
              "#9c179e"
             ],
             [
              0.4444444444444444,
              "#bd3786"
             ],
             [
              0.5555555555555556,
              "#d8576b"
             ],
             [
              0.6666666666666666,
              "#ed7953"
             ],
             [
              0.7777777777777778,
              "#fb9f3a"
             ],
             [
              0.8888888888888888,
              "#fdca26"
             ],
             [
              1,
              "#f0f921"
             ]
            ],
            "type": "histogram2dcontour"
           }
          ],
          "mesh3d": [
           {
            "colorbar": {
             "outlinewidth": 0,
             "ticks": ""
            },
            "type": "mesh3d"
           }
          ],
          "parcoords": [
           {
            "line": {
             "colorbar": {
              "outlinewidth": 0,
              "ticks": ""
             }
            },
            "type": "parcoords"
           }
          ],
          "pie": [
           {
            "automargin": true,
            "type": "pie"
           }
          ],
          "scatter": [
           {
            "marker": {
             "colorbar": {
              "outlinewidth": 0,
              "ticks": ""
             }
            },
            "type": "scatter"
           }
          ],
          "scatter3d": [
           {
            "line": {
             "colorbar": {
              "outlinewidth": 0,
              "ticks": ""
             }
            },
            "marker": {
             "colorbar": {
              "outlinewidth": 0,
              "ticks": ""
             }
            },
            "type": "scatter3d"
           }
          ],
          "scattercarpet": [
           {
            "marker": {
             "colorbar": {
              "outlinewidth": 0,
              "ticks": ""
             }
            },
            "type": "scattercarpet"
           }
          ],
          "scattergeo": [
           {
            "marker": {
             "colorbar": {
              "outlinewidth": 0,
              "ticks": ""
             }
            },
            "type": "scattergeo"
           }
          ],
          "scattergl": [
           {
            "marker": {
             "colorbar": {
              "outlinewidth": 0,
              "ticks": ""
             }
            },
            "type": "scattergl"
           }
          ],
          "scattermapbox": [
           {
            "marker": {
             "colorbar": {
              "outlinewidth": 0,
              "ticks": ""
             }
            },
            "type": "scattermapbox"
           }
          ],
          "scatterpolar": [
           {
            "marker": {
             "colorbar": {
              "outlinewidth": 0,
              "ticks": ""
             }
            },
            "type": "scatterpolar"
           }
          ],
          "scatterpolargl": [
           {
            "marker": {
             "colorbar": {
              "outlinewidth": 0,
              "ticks": ""
             }
            },
            "type": "scatterpolargl"
           }
          ],
          "scatterternary": [
           {
            "marker": {
             "colorbar": {
              "outlinewidth": 0,
              "ticks": ""
             }
            },
            "type": "scatterternary"
           }
          ],
          "surface": [
           {
            "colorbar": {
             "outlinewidth": 0,
             "ticks": ""
            },
            "colorscale": [
             [
              0,
              "#0d0887"
             ],
             [
              0.1111111111111111,
              "#46039f"
             ],
             [
              0.2222222222222222,
              "#7201a8"
             ],
             [
              0.3333333333333333,
              "#9c179e"
             ],
             [
              0.4444444444444444,
              "#bd3786"
             ],
             [
              0.5555555555555556,
              "#d8576b"
             ],
             [
              0.6666666666666666,
              "#ed7953"
             ],
             [
              0.7777777777777778,
              "#fb9f3a"
             ],
             [
              0.8888888888888888,
              "#fdca26"
             ],
             [
              1,
              "#f0f921"
             ]
            ],
            "type": "surface"
           }
          ],
          "table": [
           {
            "cells": {
             "fill": {
              "color": "#EBF0F8"
             },
             "line": {
              "color": "white"
             }
            },
            "header": {
             "fill": {
              "color": "#C8D4E3"
             },
             "line": {
              "color": "white"
             }
            },
            "type": "table"
           }
          ]
         },
         "layout": {
          "annotationdefaults": {
           "arrowcolor": "#2a3f5f",
           "arrowhead": 0,
           "arrowwidth": 1
          },
          "autotypenumbers": "strict",
          "coloraxis": {
           "colorbar": {
            "outlinewidth": 0,
            "ticks": ""
           }
          },
          "colorscale": {
           "diverging": [
            [
             0,
             "#8e0152"
            ],
            [
             0.1,
             "#c51b7d"
            ],
            [
             0.2,
             "#de77ae"
            ],
            [
             0.3,
             "#f1b6da"
            ],
            [
             0.4,
             "#fde0ef"
            ],
            [
             0.5,
             "#f7f7f7"
            ],
            [
             0.6,
             "#e6f5d0"
            ],
            [
             0.7,
             "#b8e186"
            ],
            [
             0.8,
             "#7fbc41"
            ],
            [
             0.9,
             "#4d9221"
            ],
            [
             1,
             "#276419"
            ]
           ],
           "sequential": [
            [
             0,
             "#0d0887"
            ],
            [
             0.1111111111111111,
             "#46039f"
            ],
            [
             0.2222222222222222,
             "#7201a8"
            ],
            [
             0.3333333333333333,
             "#9c179e"
            ],
            [
             0.4444444444444444,
             "#bd3786"
            ],
            [
             0.5555555555555556,
             "#d8576b"
            ],
            [
             0.6666666666666666,
             "#ed7953"
            ],
            [
             0.7777777777777778,
             "#fb9f3a"
            ],
            [
             0.8888888888888888,
             "#fdca26"
            ],
            [
             1,
             "#f0f921"
            ]
           ],
           "sequentialminus": [
            [
             0,
             "#0d0887"
            ],
            [
             0.1111111111111111,
             "#46039f"
            ],
            [
             0.2222222222222222,
             "#7201a8"
            ],
            [
             0.3333333333333333,
             "#9c179e"
            ],
            [
             0.4444444444444444,
             "#bd3786"
            ],
            [
             0.5555555555555556,
             "#d8576b"
            ],
            [
             0.6666666666666666,
             "#ed7953"
            ],
            [
             0.7777777777777778,
             "#fb9f3a"
            ],
            [
             0.8888888888888888,
             "#fdca26"
            ],
            [
             1,
             "#f0f921"
            ]
           ]
          },
          "colorway": [
           "#636efa",
           "#EF553B",
           "#00cc96",
           "#ab63fa",
           "#FFA15A",
           "#19d3f3",
           "#FF6692",
           "#B6E880",
           "#FF97FF",
           "#FECB52"
          ],
          "font": {
           "color": "#2a3f5f"
          },
          "geo": {
           "bgcolor": "white",
           "lakecolor": "white",
           "landcolor": "#E5ECF6",
           "showlakes": true,
           "showland": true,
           "subunitcolor": "white"
          },
          "hoverlabel": {
           "align": "left"
          },
          "hovermode": "closest",
          "mapbox": {
           "style": "light"
          },
          "paper_bgcolor": "white",
          "plot_bgcolor": "#E5ECF6",
          "polar": {
           "angularaxis": {
            "gridcolor": "white",
            "linecolor": "white",
            "ticks": ""
           },
           "bgcolor": "#E5ECF6",
           "radialaxis": {
            "gridcolor": "white",
            "linecolor": "white",
            "ticks": ""
           }
          },
          "scene": {
           "xaxis": {
            "backgroundcolor": "#E5ECF6",
            "gridcolor": "white",
            "gridwidth": 2,
            "linecolor": "white",
            "showbackground": true,
            "ticks": "",
            "zerolinecolor": "white"
           },
           "yaxis": {
            "backgroundcolor": "#E5ECF6",
            "gridcolor": "white",
            "gridwidth": 2,
            "linecolor": "white",
            "showbackground": true,
            "ticks": "",
            "zerolinecolor": "white"
           },
           "zaxis": {
            "backgroundcolor": "#E5ECF6",
            "gridcolor": "white",
            "gridwidth": 2,
            "linecolor": "white",
            "showbackground": true,
            "ticks": "",
            "zerolinecolor": "white"
           }
          },
          "shapedefaults": {
           "line": {
            "color": "#2a3f5f"
           }
          },
          "ternary": {
           "aaxis": {
            "gridcolor": "white",
            "linecolor": "white",
            "ticks": ""
           },
           "baxis": {
            "gridcolor": "white",
            "linecolor": "white",
            "ticks": ""
           },
           "bgcolor": "#E5ECF6",
           "caxis": {
            "gridcolor": "white",
            "linecolor": "white",
            "ticks": ""
           }
          },
          "title": {
           "x": 0.05
          },
          "xaxis": {
           "automargin": true,
           "gridcolor": "white",
           "linecolor": "white",
           "ticks": "",
           "title": {
            "standoff": 15
           },
           "zerolinecolor": "white",
           "zerolinewidth": 2
          },
          "yaxis": {
           "automargin": true,
           "gridcolor": "white",
           "linecolor": "white",
           "ticks": "",
           "title": {
            "standoff": 15
           },
           "zerolinecolor": "white",
           "zerolinewidth": 2
          }
         }
        },
        "title": {
         "text": "Total Revenue"
        },
        "xaxis": {
         "anchor": "y",
         "domain": [
          0,
          1
         ],
         "title": {
          "text": "x"
         }
        },
        "yaxis": {
         "anchor": "x",
         "domain": [
          0,
          1
         ],
         "title": {
          "text": "value"
         }
        }
       }
      }
     },
     "metadata": {},
     "output_type": "display_data"
    },
    {
     "data": {
      "application/vnd.plotly.v1+json": {
       "config": {
        "plotlyServerURL": "https://plot.ly"
       },
       "data": [
        {
         "hovertemplate": "variable=Return on assets %<br>x=%{x}<br>value=%{y}<extra></extra>",
         "legendgroup": "Return on assets %",
         "line": {
          "color": "#636efa",
          "dash": "solid"
         },
         "marker": {
          "symbol": "circle"
         },
         "mode": "lines+markers",
         "name": "Return on assets %",
         "orientation": "v",
         "showlegend": true,
         "type": "scatter",
         "x": [
          "2015",
          "2016",
          "2017",
          "2018",
          "2019",
          "2020",
          "2021",
          "Current"
         ],
         "xaxis": "x",
         "y": [
          20.45,
          14.93,
          13.87,
          16.07,
          15.69,
          17.33,
          28.06,
          29.91
         ],
         "yaxis": "y"
        },
        {
         "hovertemplate": "variable=Return on equity %<br>x=%{x}<br>value=%{y}<extra></extra>",
         "legendgroup": "Return on equity %",
         "line": {
          "color": "#EF553B",
          "dash": "solid"
         },
         "marker": {
          "symbol": "circle"
         },
         "mode": "lines+markers",
         "name": "Return on equity %",
         "orientation": "v",
         "showlegend": true,
         "type": "scatter",
         "x": [
          "2015",
          "2016",
          "2017",
          "2018",
          "2019",
          "2020",
          "2021",
          "Current"
         ],
         "xaxis": "x",
         "y": [
          46.25,
          36.9,
          36.87,
          49.36,
          55.92,
          73.69,
          147.44,
          162.82
         ],
         "yaxis": "y"
        },
        {
         "hovertemplate": "variable=Return on invested capital %<br>x=%{x}<br>value=%{y}<extra></extra>",
         "legendgroup": "Return on invested capital %",
         "line": {
          "color": "#00cc96",
          "dash": "solid"
         },
         "marker": {
          "symbol": "circle"
         },
         "mode": "lines+markers",
         "name": "Return on invested capital %",
         "orientation": "v",
         "showlegend": true,
         "type": "scatter",
         "x": [
          "2015",
          "2016",
          "2017",
          "2018",
          "2019",
          "2020",
          "2021",
          "Current"
         ],
         "xaxis": "x",
         "y": [
          34.08,
          24.27,
          22.23,
          27.55,
          28.84,
          32.37,
          53.36,
          61.72
         ],
         "yaxis": "y"
        }
       ],
       "layout": {
        "legend": {
         "title": {
          "text": "variable"
         },
         "tracegroupgap": 0
        },
        "template": {
         "data": {
          "bar": [
           {
            "error_x": {
             "color": "#2a3f5f"
            },
            "error_y": {
             "color": "#2a3f5f"
            },
            "marker": {
             "line": {
              "color": "#E5ECF6",
              "width": 0.5
             },
             "pattern": {
              "fillmode": "overlay",
              "size": 10,
              "solidity": 0.2
             }
            },
            "type": "bar"
           }
          ],
          "barpolar": [
           {
            "marker": {
             "line": {
              "color": "#E5ECF6",
              "width": 0.5
             },
             "pattern": {
              "fillmode": "overlay",
              "size": 10,
              "solidity": 0.2
             }
            },
            "type": "barpolar"
           }
          ],
          "carpet": [
           {
            "aaxis": {
             "endlinecolor": "#2a3f5f",
             "gridcolor": "white",
             "linecolor": "white",
             "minorgridcolor": "white",
             "startlinecolor": "#2a3f5f"
            },
            "baxis": {
             "endlinecolor": "#2a3f5f",
             "gridcolor": "white",
             "linecolor": "white",
             "minorgridcolor": "white",
             "startlinecolor": "#2a3f5f"
            },
            "type": "carpet"
           }
          ],
          "choropleth": [
           {
            "colorbar": {
             "outlinewidth": 0,
             "ticks": ""
            },
            "type": "choropleth"
           }
          ],
          "contour": [
           {
            "colorbar": {
             "outlinewidth": 0,
             "ticks": ""
            },
            "colorscale": [
             [
              0,
              "#0d0887"
             ],
             [
              0.1111111111111111,
              "#46039f"
             ],
             [
              0.2222222222222222,
              "#7201a8"
             ],
             [
              0.3333333333333333,
              "#9c179e"
             ],
             [
              0.4444444444444444,
              "#bd3786"
             ],
             [
              0.5555555555555556,
              "#d8576b"
             ],
             [
              0.6666666666666666,
              "#ed7953"
             ],
             [
              0.7777777777777778,
              "#fb9f3a"
             ],
             [
              0.8888888888888888,
              "#fdca26"
             ],
             [
              1,
              "#f0f921"
             ]
            ],
            "type": "contour"
           }
          ],
          "contourcarpet": [
           {
            "colorbar": {
             "outlinewidth": 0,
             "ticks": ""
            },
            "type": "contourcarpet"
           }
          ],
          "heatmap": [
           {
            "colorbar": {
             "outlinewidth": 0,
             "ticks": ""
            },
            "colorscale": [
             [
              0,
              "#0d0887"
             ],
             [
              0.1111111111111111,
              "#46039f"
             ],
             [
              0.2222222222222222,
              "#7201a8"
             ],
             [
              0.3333333333333333,
              "#9c179e"
             ],
             [
              0.4444444444444444,
              "#bd3786"
             ],
             [
              0.5555555555555556,
              "#d8576b"
             ],
             [
              0.6666666666666666,
              "#ed7953"
             ],
             [
              0.7777777777777778,
              "#fb9f3a"
             ],
             [
              0.8888888888888888,
              "#fdca26"
             ],
             [
              1,
              "#f0f921"
             ]
            ],
            "type": "heatmap"
           }
          ],
          "heatmapgl": [
           {
            "colorbar": {
             "outlinewidth": 0,
             "ticks": ""
            },
            "colorscale": [
             [
              0,
              "#0d0887"
             ],
             [
              0.1111111111111111,
              "#46039f"
             ],
             [
              0.2222222222222222,
              "#7201a8"
             ],
             [
              0.3333333333333333,
              "#9c179e"
             ],
             [
              0.4444444444444444,
              "#bd3786"
             ],
             [
              0.5555555555555556,
              "#d8576b"
             ],
             [
              0.6666666666666666,
              "#ed7953"
             ],
             [
              0.7777777777777778,
              "#fb9f3a"
             ],
             [
              0.8888888888888888,
              "#fdca26"
             ],
             [
              1,
              "#f0f921"
             ]
            ],
            "type": "heatmapgl"
           }
          ],
          "histogram": [
           {
            "marker": {
             "pattern": {
              "fillmode": "overlay",
              "size": 10,
              "solidity": 0.2
             }
            },
            "type": "histogram"
           }
          ],
          "histogram2d": [
           {
            "colorbar": {
             "outlinewidth": 0,
             "ticks": ""
            },
            "colorscale": [
             [
              0,
              "#0d0887"
             ],
             [
              0.1111111111111111,
              "#46039f"
             ],
             [
              0.2222222222222222,
              "#7201a8"
             ],
             [
              0.3333333333333333,
              "#9c179e"
             ],
             [
              0.4444444444444444,
              "#bd3786"
             ],
             [
              0.5555555555555556,
              "#d8576b"
             ],
             [
              0.6666666666666666,
              "#ed7953"
             ],
             [
              0.7777777777777778,
              "#fb9f3a"
             ],
             [
              0.8888888888888888,
              "#fdca26"
             ],
             [
              1,
              "#f0f921"
             ]
            ],
            "type": "histogram2d"
           }
          ],
          "histogram2dcontour": [
           {
            "colorbar": {
             "outlinewidth": 0,
             "ticks": ""
            },
            "colorscale": [
             [
              0,
              "#0d0887"
             ],
             [
              0.1111111111111111,
              "#46039f"
             ],
             [
              0.2222222222222222,
              "#7201a8"
             ],
             [
              0.3333333333333333,
              "#9c179e"
             ],
             [
              0.4444444444444444,
              "#bd3786"
             ],
             [
              0.5555555555555556,
              "#d8576b"
             ],
             [
              0.6666666666666666,
              "#ed7953"
             ],
             [
              0.7777777777777778,
              "#fb9f3a"
             ],
             [
              0.8888888888888888,
              "#fdca26"
             ],
             [
              1,
              "#f0f921"
             ]
            ],
            "type": "histogram2dcontour"
           }
          ],
          "mesh3d": [
           {
            "colorbar": {
             "outlinewidth": 0,
             "ticks": ""
            },
            "type": "mesh3d"
           }
          ],
          "parcoords": [
           {
            "line": {
             "colorbar": {
              "outlinewidth": 0,
              "ticks": ""
             }
            },
            "type": "parcoords"
           }
          ],
          "pie": [
           {
            "automargin": true,
            "type": "pie"
           }
          ],
          "scatter": [
           {
            "marker": {
             "colorbar": {
              "outlinewidth": 0,
              "ticks": ""
             }
            },
            "type": "scatter"
           }
          ],
          "scatter3d": [
           {
            "line": {
             "colorbar": {
              "outlinewidth": 0,
              "ticks": ""
             }
            },
            "marker": {
             "colorbar": {
              "outlinewidth": 0,
              "ticks": ""
             }
            },
            "type": "scatter3d"
           }
          ],
          "scattercarpet": [
           {
            "marker": {
             "colorbar": {
              "outlinewidth": 0,
              "ticks": ""
             }
            },
            "type": "scattercarpet"
           }
          ],
          "scattergeo": [
           {
            "marker": {
             "colorbar": {
              "outlinewidth": 0,
              "ticks": ""
             }
            },
            "type": "scattergeo"
           }
          ],
          "scattergl": [
           {
            "marker": {
             "colorbar": {
              "outlinewidth": 0,
              "ticks": ""
             }
            },
            "type": "scattergl"
           }
          ],
          "scattermapbox": [
           {
            "marker": {
             "colorbar": {
              "outlinewidth": 0,
              "ticks": ""
             }
            },
            "type": "scattermapbox"
           }
          ],
          "scatterpolar": [
           {
            "marker": {
             "colorbar": {
              "outlinewidth": 0,
              "ticks": ""
             }
            },
            "type": "scatterpolar"
           }
          ],
          "scatterpolargl": [
           {
            "marker": {
             "colorbar": {
              "outlinewidth": 0,
              "ticks": ""
             }
            },
            "type": "scatterpolargl"
           }
          ],
          "scatterternary": [
           {
            "marker": {
             "colorbar": {
              "outlinewidth": 0,
              "ticks": ""
             }
            },
            "type": "scatterternary"
           }
          ],
          "surface": [
           {
            "colorbar": {
             "outlinewidth": 0,
             "ticks": ""
            },
            "colorscale": [
             [
              0,
              "#0d0887"
             ],
             [
              0.1111111111111111,
              "#46039f"
             ],
             [
              0.2222222222222222,
              "#7201a8"
             ],
             [
              0.3333333333333333,
              "#9c179e"
             ],
             [
              0.4444444444444444,
              "#bd3786"
             ],
             [
              0.5555555555555556,
              "#d8576b"
             ],
             [
              0.6666666666666666,
              "#ed7953"
             ],
             [
              0.7777777777777778,
              "#fb9f3a"
             ],
             [
              0.8888888888888888,
              "#fdca26"
             ],
             [
              1,
              "#f0f921"
             ]
            ],
            "type": "surface"
           }
          ],
          "table": [
           {
            "cells": {
             "fill": {
              "color": "#EBF0F8"
             },
             "line": {
              "color": "white"
             }
            },
            "header": {
             "fill": {
              "color": "#C8D4E3"
             },
             "line": {
              "color": "white"
             }
            },
            "type": "table"
           }
          ]
         },
         "layout": {
          "annotationdefaults": {
           "arrowcolor": "#2a3f5f",
           "arrowhead": 0,
           "arrowwidth": 1
          },
          "autotypenumbers": "strict",
          "coloraxis": {
           "colorbar": {
            "outlinewidth": 0,
            "ticks": ""
           }
          },
          "colorscale": {
           "diverging": [
            [
             0,
             "#8e0152"
            ],
            [
             0.1,
             "#c51b7d"
            ],
            [
             0.2,
             "#de77ae"
            ],
            [
             0.3,
             "#f1b6da"
            ],
            [
             0.4,
             "#fde0ef"
            ],
            [
             0.5,
             "#f7f7f7"
            ],
            [
             0.6,
             "#e6f5d0"
            ],
            [
             0.7,
             "#b8e186"
            ],
            [
             0.8,
             "#7fbc41"
            ],
            [
             0.9,
             "#4d9221"
            ],
            [
             1,
             "#276419"
            ]
           ],
           "sequential": [
            [
             0,
             "#0d0887"
            ],
            [
             0.1111111111111111,
             "#46039f"
            ],
            [
             0.2222222222222222,
             "#7201a8"
            ],
            [
             0.3333333333333333,
             "#9c179e"
            ],
            [
             0.4444444444444444,
             "#bd3786"
            ],
            [
             0.5555555555555556,
             "#d8576b"
            ],
            [
             0.6666666666666666,
             "#ed7953"
            ],
            [
             0.7777777777777778,
             "#fb9f3a"
            ],
            [
             0.8888888888888888,
             "#fdca26"
            ],
            [
             1,
             "#f0f921"
            ]
           ],
           "sequentialminus": [
            [
             0,
             "#0d0887"
            ],
            [
             0.1111111111111111,
             "#46039f"
            ],
            [
             0.2222222222222222,
             "#7201a8"
            ],
            [
             0.3333333333333333,
             "#9c179e"
            ],
            [
             0.4444444444444444,
             "#bd3786"
            ],
            [
             0.5555555555555556,
             "#d8576b"
            ],
            [
             0.6666666666666666,
             "#ed7953"
            ],
            [
             0.7777777777777778,
             "#fb9f3a"
            ],
            [
             0.8888888888888888,
             "#fdca26"
            ],
            [
             1,
             "#f0f921"
            ]
           ]
          },
          "colorway": [
           "#636efa",
           "#EF553B",
           "#00cc96",
           "#ab63fa",
           "#FFA15A",
           "#19d3f3",
           "#FF6692",
           "#B6E880",
           "#FF97FF",
           "#FECB52"
          ],
          "font": {
           "color": "#2a3f5f"
          },
          "geo": {
           "bgcolor": "white",
           "lakecolor": "white",
           "landcolor": "#E5ECF6",
           "showlakes": true,
           "showland": true,
           "subunitcolor": "white"
          },
          "hoverlabel": {
           "align": "left"
          },
          "hovermode": "closest",
          "mapbox": {
           "style": "light"
          },
          "paper_bgcolor": "white",
          "plot_bgcolor": "#E5ECF6",
          "polar": {
           "angularaxis": {
            "gridcolor": "white",
            "linecolor": "white",
            "ticks": ""
           },
           "bgcolor": "#E5ECF6",
           "radialaxis": {
            "gridcolor": "white",
            "linecolor": "white",
            "ticks": ""
           }
          },
          "scene": {
           "xaxis": {
            "backgroundcolor": "#E5ECF6",
            "gridcolor": "white",
            "gridwidth": 2,
            "linecolor": "white",
            "showbackground": true,
            "ticks": "",
            "zerolinecolor": "white"
           },
           "yaxis": {
            "backgroundcolor": "#E5ECF6",
            "gridcolor": "white",
            "gridwidth": 2,
            "linecolor": "white",
            "showbackground": true,
            "ticks": "",
            "zerolinecolor": "white"
           },
           "zaxis": {
            "backgroundcolor": "#E5ECF6",
            "gridcolor": "white",
            "gridwidth": 2,
            "linecolor": "white",
            "showbackground": true,
            "ticks": "",
            "zerolinecolor": "white"
           }
          },
          "shapedefaults": {
           "line": {
            "color": "#2a3f5f"
           }
          },
          "ternary": {
           "aaxis": {
            "gridcolor": "white",
            "linecolor": "white",
            "ticks": ""
           },
           "baxis": {
            "gridcolor": "white",
            "linecolor": "white",
            "ticks": ""
           },
           "bgcolor": "#E5ECF6",
           "caxis": {
            "gridcolor": "white",
            "linecolor": "white",
            "ticks": ""
           }
          },
          "title": {
           "x": 0.05
          },
          "xaxis": {
           "automargin": true,
           "gridcolor": "white",
           "linecolor": "white",
           "ticks": "",
           "title": {
            "standoff": 15
           },
           "zerolinecolor": "white",
           "zerolinewidth": 2
          },
          "yaxis": {
           "automargin": true,
           "gridcolor": "white",
           "linecolor": "white",
           "ticks": "",
           "title": {
            "standoff": 15
           },
           "zerolinecolor": "white",
           "zerolinewidth": 2
          }
         }
        },
        "title": {
         "text": "Total Revenue"
        },
        "xaxis": {
         "anchor": "y",
         "domain": [
          0,
          1
         ],
         "title": {
          "text": "x"
         }
        },
        "yaxis": {
         "anchor": "x",
         "domain": [
          0,
          1
         ],
         "title": {
          "text": "value"
         }
        }
       }
      }
     },
     "metadata": {},
     "output_type": "display_data"
    }
   ],
   "source": [
    "df_income_statement = run_scraper.income_statement.transpose()\n",
    "fig_revenue_cogs_grossProfit = px.line(df_income_statement, x=df_income_statement.index, y=['Total revenue','Cost of goods sold', 'Gross profit'], \n",
    "                title='Total Revenue', markers=True)\n",
    "fig_revenue_cogs_grossProfit.show()\n",
    "\n",
    "df_statistics = run_scraper.statistics.transpose()\n",
    "\n",
    "fig_margins = px.line(df_statistics, x=df.index, y=['Gross margin %','EBITDA margin %', 'Net margin %', 'Operating margin %'], title='Margins', markers=True)\n",
    "fig_margins.show()\n",
    "\n",
    "fig_shares_outstanding = px.line(df_statistics, x=df.index, y=['Total common shares outstanding', 'Float shares outstanding'], title='Shares', markers=True)\n",
    "fig_shares_outstanding.show()\n",
    "\n",
    "fig_numer_of_employees_shareholders = px.line(df_statistics, x=df.index, y=['Number of employees','Number of shareholders'], title='Number of employees/shareholders', markers=True)\n",
    "fig_numer_of_employees_shareholders.show()\n",
    "\n",
    "fig_price_ratios = px.line(df_statistics, x=df.index, y=['Price to earnings ratio', 'Price to sales ratio', 'Price to cash flow ratio','Enterprise value to EBITDA ratio',\n",
    "                                                        'Price to book ratio'], title='Price Ratios', markers=True)\n",
    "fig_price_ratios.show()\n",
    "\n",
    "fig_return_ratios = px.line(df_statistics, x=df.index, y=['Return on assets %', 'Return on equity %', 'Return on invested capital %'],\n",
    "                             title='Return Ratios', markers=True)\n",
    "fig_return_ratios.show()\n",
    "\n",
    "\n",
    "\n",
    "# [,\n",
    "#           'Enterprise value',\n",
    "#         ,\n",
    "#        'Current ratio', 'Inventory turnover', 'Asset turnover',\n",
    "#        'Debt to assets ratio', 'Debt to equity ratio',\n",
    "#        'Long term debt to total assets ratio'])\n",
    "            # , 'Quick ratio'\n"
   ]
  },
  {
   "cell_type": "code",
   "execution_count": 100,
   "metadata": {},
   "outputs": [
    {
     "data": {
      "text/plain": [
       "Index(['Total common shares outstanding', 'Float shares outstanding',\n",
       "       'Number of employees', 'Number of shareholders',\n",
       "       'Price to earnings ratio', 'Price to sales ratio',\n",
       "       'Price to cash flow ratio', 'Price to book ratio', 'Enterprise value',\n",
       "       'Enterprise value to EBITDA ratio', 'Return on assets %',\n",
       "       'Return on equity %', 'Return on invested capital %', 'Gross margin %',\n",
       "       'Operating margin %', 'EBITDA margin %', 'Net margin %', 'Quick ratio',\n",
       "       'Current ratio', 'Inventory turnover', 'Asset turnover',\n",
       "       'Debt to assets ratio', 'Debt to equity ratio',\n",
       "       'Long term debt to total assets ratio'],\n",
       "      dtype='object')"
      ]
     },
     "execution_count": 100,
     "metadata": {},
     "output_type": "execute_result"
    }
   ],
   "source": [
    "run_scraper.statistics.index"
   ]
  },
  {
   "cell_type": "code",
   "execution_count": null,
   "metadata": {},
   "outputs": [],
   "source": []
  }
 ],
 "metadata": {
  "kernelspec": {
   "display_name": "Python 3.9.12 ('base')",
   "language": "python",
   "name": "python3"
  },
  "language_info": {
   "codemirror_mode": {
    "name": "ipython",
    "version": 3
   },
   "file_extension": ".py",
   "mimetype": "text/x-python",
   "name": "python",
   "nbconvert_exporter": "python",
   "pygments_lexer": "ipython3",
   "version": "3.9.12"
  },
  "orig_nbformat": 4,
  "vscode": {
   "interpreter": {
    "hash": "b5234c3a68123d47bedd5252b78f01a988a4bd5dcba8aa660c71661565635d49"
   }
  }
 },
 "nbformat": 4,
 "nbformat_minor": 2
}
