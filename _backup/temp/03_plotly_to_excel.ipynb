{
 "cells": [
  {
   "cell_type": "code",
   "execution_count": 1,
   "metadata": {},
   "outputs": [],
   "source": [
    "from pyxll import xl_func, plot\n",
    "import plotly.express as px\n",
    "\n",
    "@xl_func\n",
    "def plotly_plot():\n",
    "    # Get some sample data from plotly.express\n",
    "    df = px.data.gapminder()\n",
    "\n",
    "    # Create a scatter plot figure\n",
    "    fig = px.scatter(df.query(\"year==2007\"),\n",
    "                     x=\"gdpPercap\", y=\"lifeExp\",\n",
    "                     size=\"pop\", color=\"continent\",\n",
    "                     log_x=True, size_max=60)\n",
    "\n",
    "    # Show the figure in Excel using pyxll.plot\n",
    "    plot(fig)"
   ]
  }
 ],
 "metadata": {
  "kernelspec": {
   "display_name": "Python 3.8.8 ('base')",
   "language": "python",
   "name": "python3"
  },
  "language_info": {
   "codemirror_mode": {
    "name": "ipython",
    "version": 3
   },
   "file_extension": ".py",
   "mimetype": "text/x-python",
   "name": "python",
   "nbconvert_exporter": "python",
   "pygments_lexer": "ipython3",
   "version": "3.8.8"
  },
  "orig_nbformat": 4,
  "vscode": {
   "interpreter": {
    "hash": "3c1ea65e26ef28b28e64095c9e5432f906157cd0ea853e6f943e47ec1b4a1819"
   }
  }
 },
 "nbformat": 4,
 "nbformat_minor": 2
}
