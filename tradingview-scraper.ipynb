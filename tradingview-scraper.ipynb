{
 "cells": [
  {
   "cell_type": "code",
   "execution_count": 2,
   "metadata": {},
   "outputs": [
    {
     "name": "stderr",
     "output_type": "stream",
     "text": [
      "c:\\Users\\Person\\anaconda3\\lib\\site-packages\\scipy\\__init__.py:146: UserWarning: A NumPy version >=1.16.5 and <1.23.0 is required for this version of SciPy (detected version 1.23.3\n",
      "  warnings.warn(f\"A NumPy version >={np_minversion} and <{np_maxversion}\"\n"
     ]
    }
   ],
   "source": [
    "#01 IMPORT LIBRARIES\n",
    "\n",
    "import pandas as pd\n",
    "import matplotlib.pyplot as plt\n",
    "\n",
    "import plotly.express as px\n",
    "import plotly.graph_objects as go\n",
    "from plotly.offline import iplot\n",
    "\n",
    "import requests\n",
    "import logging\n",
    "import time\n",
    "\n",
    "from selenium import webdriver\n",
    "from selenium.webdriver.common.by import By\n",
    "from selenium.webdriver.chrome.options import Options\n",
    "from selenium.webdriver.common.action_chains import ActionChains\n",
    "\n",
    "import sqlite3\n",
    "\n",
    "import xlwings as xw\n",
    "from pathlib import Path\n",
    "\n",
    "\n",
    "logging.getLogger().setLevel(logging.INFO)\n"
   ]
  },
  {
   "cell_type": "code",
   "execution_count": 3,
   "metadata": {},
   "outputs": [],
   "source": [
    "#02 DATABASE CLASS\n",
    "\n",
    "class DataBase():\n",
    "    \n",
    "    database_file = 'tradingview_database.db'\n",
    "    \n",
    "    @classmethod\n",
    "    def AddToDatabase(cls, data): #method that innitiates the write-to-database method with the needed parameters\n",
    "        \"\"\"\n",
    "        data = Instance of ScrapeTrendingView() Class\n",
    "        \"\"\"\n",
    "        \n",
    "        __class__.StoreInDatabase(data=data.income_statement, table_name=(data.exchange + '-' + data.company_ticker + '/Income-Statement'))\n",
    "        __class__.StoreInDatabase(data=data.balanse_sheet, table_name=(data.exchange + '-' + data.company_ticker + '/Balance-Sheet'))\n",
    "        __class__.StoreInDatabase(data=data.cashflow_statement, table_name=(data.exchange + '-' + data.company_ticker + '/Cashflow-Statement'))\n",
    "        __class__.StoreInDatabase(data=data.statistics, table_name=(data.exchange + '-' + data.company_ticker + '/Ratios'))\n",
    "        __class__.StoreInDatabase(data=data.company_data, table_name=(data.exchange + '-' + data.company_ticker + '/Company-Data'))\n",
    "\n",
    "    @classmethod\n",
    "    def StoreInDatabase(cls, data, table_name): #method that writes the data into the database\n",
    "        \"\"\"\n",
    "        data = ScrapeTrendingView().income_statement \\n\n",
    "        data = ScrapeTrendingView().balanse_sheet \\n\n",
    "        data = ScrapeTrendingView().cashflow_statement \\n\n",
    "        data = ScrapeTrendingView().statistics \\n\n",
    "        data = ScrapeTrendingView().company_data \\n\\n\n",
    "\n",
    "        table_name = Exchange-Ticker/Statement-Type \\n\n",
    "        Examples: \\n\n",
    "        table_name = NASDAQ-AAPL/Income-Statement \\n\n",
    "        table_name = NASDAQ-AAPL/Balance-Sheet \\n\n",
    "        table_name = NASDAQ-AAPL/Cashflow-Statement \\n\n",
    "        table_name = NASDAQ-AAPL/Ratios \\n\n",
    "        table_name = NASDAQ-AAPL/Company-Data \\n\n",
    "        \"\"\"\n",
    "\n",
    "        logging.info(f'Storring {table_name} in {__class__.database_file}')\n",
    "        conn = sqlite3.connect(__class__.database_file) #connect to sqlite3-database\n",
    "        data.to_sql(name=table_name, con=conn, if_exists='replace',  index=True) #store dataframe to sqlite-database\n",
    "        conn.close()\n",
    "\n",
    "    @classmethod\n",
    "    def ReadFromDatabase(cls, table_name): #read data from Database, if available return the data if not return None\n",
    "        \"\"\"\n",
    "        table_name = Exchange-Ticker/Statement-Type \\n\n",
    "        Examples: \\n\n",
    "        table_name = NASDAQ-AAPL/Income-Statement \\n\n",
    "        table_name = NASDAQ-AAPL/Balance-Sheet \\n\n",
    "        table_name = NASDAQ-AAPL/Cashflow-Statement \\n\n",
    "        table_name = NASDAQ-AAPL/Ratios \\n\n",
    "        table_name = NASDAQ-AAPL/Company-Data \\n\n",
    "        \"\"\"\n",
    "        conn = sqlite3.connect(__class__.database_file)\n",
    "\n",
    "        try: #get the data from database and put it in pandas-dataframe\n",
    "            output = pd.read_sql_query(f\"SELECT * from '{table_name}'\", conn, index_col='index') \n",
    "            logging.info(f\"Load {table_name} from DataBase\")\n",
    "            \n",
    "        except : #if data not available, return None\n",
    "            logging.error(f'ERROR: {table_name}, not found in {__class__.database_file}')\n",
    "            conn.close()\n",
    "            return None\n",
    "\n",
    "        conn.close()\n",
    "        return output\n",
    "\n",
    "    @classmethod\n",
    "    def DropTable(cls, table_name_prefix): \n",
    "        \"\"\"table_name=NASDAQ-AAPL\"\"\"\n",
    "\n",
    "        table_name_suffix = ['/Income-Statement', '/Balance-Sheet', '/Cashflow-Statement', '/Ratios', '/Company-Data']\n",
    "        #Connecting to sqlite\n",
    "        conn = sqlite3.connect(__class__.database_file)\n",
    "\n",
    "        #Creating a cursor object using the cursor() method\n",
    "        cursor = conn.cursor()\n",
    "\n",
    "        #Droping  table if already exists\n",
    "        for i in range(0,len(table_name_suffix)):\n",
    "            try:\n",
    "                cursor.execute(f\"DROP TABLE '{table_name_prefix + table_name_suffix[i]}'\")\n",
    "                logging.info(f\"Table {table_name_prefix + table_name_suffix[i]} dropped... \")\n",
    "            except sqlite3.OperationalError:\n",
    "                logging.error(f' Error removing {table_name_prefix + table_name_suffix[i]}. Table is probably not availabe in the database!')\n",
    "\n",
    "        # Commit your changes in the database\n",
    "        conn.commit()\n",
    "\n",
    "        #Closing the connection\n",
    "        conn.close()\n",
    "\n",
    "\n",
    "    def GetFromDataBase(self, company_url):\n",
    "        #get financial data from DataBase\n",
    "        self.income_statement = __class__.ReadFromDatabase(table_name= company_url + \"/Income-Statement\") #attempt to get the data from database\n",
    "        self.balanse_sheet = __class__.ReadFromDatabase(table_name= company_url + \"/Balance-Sheet\") #attempt to get the data from database\n",
    "        self.cashflow_statement = __class__.ReadFromDatabase(table_name= company_url + \"/Cashflow-Statement\") #attempt to get the data from database\n",
    "        self.statistics = __class__.ReadFromDatabase(table_name= company_url + \"/Ratios\") #attempt to get the data from database\n",
    "        self.company_data = __class__.ReadFromDatabase(table_name= company_url + \"/Company-Data\") #attempt to get the data from database\n",
    "        \n",
    "        if self.company_data is not None:\n",
    "            self.company_name = self.company_data.loc['company_name'][0]\n",
    "            self.company_ticker = self.company_data.loc['company_ticker'][0]\n",
    "            \n",
    "# DataBase.DropTable(table_name_prefix='NASDAQ-AAPL')\n",
    "# DataBase.DropTable()\n"
   ]
  },
  {
   "cell_type": "code",
   "execution_count": 43,
   "metadata": {},
   "outputs": [],
   "source": [
    "#EXCEL CLASS\n",
    "class Excel():\n",
    "    wb = None\n",
    "    sht = None\n",
    "    height = None\n",
    "    width = None\n",
    "\n",
    "    insert_row = None\n",
    "    insert_col = None\n",
    "\n",
    "    def start(name=\"Income Statement\", height=375, width=550):\n",
    "        # Create an empty workbook & rename sheet\n",
    "        __class__.wb = xw.Book()\n",
    "        __class__.sht = __class__.wb.sheets[0]\n",
    "        __class__.sht.name = name\n",
    "\n",
    "        __class__.height = height\n",
    "        __class__.width = width\n",
    "\n",
    "        __class__.insert_row = 1 #default insert cell-row\n",
    "        __class__.insert_col = 'A' #default insert cell-column\n",
    "\n",
    "        # Create output directory\n",
    "        OUTPUT_DIR = Path.cwd() / 'Output'\n",
    "        OUTPUT_DIR.mkdir(exist_ok=True)\n",
    "\n",
    "    # Helper function to insert 'Headings' into Excel cells\n",
    "    def insert_heading(cell, text):\n",
    "        \"\"\" insert_heading(sht.range(\"A2\"), \"Matplotlib Chart\") \"\"\"\n",
    "        rng = __class__.sht.range(cell)\n",
    "        rng.value = text\n",
    "        rng.font.bold = True\n",
    "        rng.font.size = 24\n",
    "        rng.font.color = (0, 0, 139)\n",
    "\n",
    "    def insert_visual(fig, name):\n",
    "\n",
    "        cell = __class__.insert_col + str(__class__.insert_row) #calculate the cell where the visual will be inserted\n",
    "        logging.info(cell)\n",
    "\n",
    "        __class__.sht.pictures.add(fig,\n",
    "                                name = name,\n",
    "                                update = True,\n",
    "                                left = __class__.sht.range(cell).left,\n",
    "                                top = __class__.sht.range(cell).top,\n",
    "                                height = __class__.height,\n",
    "                                width = __class__.width)\n",
    "\n",
    "        __class__.insert_row = __class__.insert_row + 25 #increase row-number to offset the next visual\n",
    "        logging.info(__class__.insert_row)\n",
    "    \n",
    "    def close():\n",
    "        __class__.wb.save(__class__.OUTPUT_DIR / \"PythonCharts.xlsx\")\n",
    "        if len(__class__.wb.app.books) == 1:\n",
    "            __class__.wb.app.quit()\n",
    "        else:\n",
    "            __class__.wb.close()\n"
   ]
  },
  {
   "cell_type": "code",
   "execution_count": 5,
   "metadata": {},
   "outputs": [],
   "source": [
    "#03 SCRAPE TRENDINGVIEW CLASS\n",
    "\n",
    "class ScrapeTrendingView():\n",
    "\n",
    "    maximum_number_of_colapsed_rows = 50\n",
    "\n",
    "    def __init__(self, company_url):\n",
    "        \"\"\"\n",
    "        company_url = Exchange-Ticker \\n\n",
    "        company_url = NASDAQ-AAPL \\n\n",
    "        \"\"\"\n",
    "\n",
    "        # innitialize and set chrome-webdriver options\n",
    "        chrome_options = Options()\n",
    "        chrome_options.add_argument(\"--start-maximized\")\n",
    "        # self.chrome_options.add_argument(\"--window-size=1000,1080\")\n",
    "        # chrome_options.add_argument(\"--headless\")\n",
    "\n",
    "        self.driver = webdriver.Chrome(\"G:\\My Drive\\Investing\\Programming\\chromedriver.exe\", options=chrome_options)\n",
    "        self.driver.implicitly_wait(2)\n",
    "        self.time_sleep = 2\n",
    "        # self.driver.maximize_window()\n",
    "\n",
    "        self.scrapeIncomeStatement(company_url=company_url) #start Income-Statement scraping\n",
    "        self.scrapeBalanceSheet(company_url=company_url) #start Balance-Sheet scraping\n",
    "        self.scrapeCashFlow(company_url=company_url) #start Cashflow-Statement scraping\n",
    "        self.scrapeStatistics(company_url=company_url) #start Ratios scraping\n",
    "        self.scrapeCompanyData(company_url = company_url) #start Company-Data scraping\n",
    "\n",
    "        #add additional data to dataframe\n",
    "        self.companyData_to_dataframe()\n",
    "\n",
    "        self.driver.close()\n",
    "\n",
    "    def scrapeIncomeStatement(self, company_url):\n",
    "\n",
    "        self.income_statement_url = \"https://www.tradingview.com/symbols/\" + \\\n",
    "            company_url + \"/financials-income-statement/?selected=\"\n",
    "\n",
    "        self.driver.get(self.income_statement_url)\n",
    "        time.sleep(self.time_sleep)\n",
    "\n",
    "        self.switch_annual_data()\n",
    "        self.close_cookies_popup()\n",
    "        self.wait_page_to_load()\n",
    "\n",
    "        # expand income-statement collapsed rows\n",
    "        i = 0\n",
    "        while True:\n",
    "            i = i+1\n",
    "            if i > __class__.maximum_number_of_colapsed_rows:\n",
    "                logging.error(f'Break While loop i={i}')\n",
    "                break\n",
    "            try:\n",
    "                expand_arrow_xpath = \"//span[@class='arrow-_PBNXQ7k']\"\n",
    "                expand_arrow_element = self.driver.find_element_by_xpath(\n",
    "                    expand_arrow_xpath)\n",
    "                # self.driver.execute_script(\"arguments[0].scrollIntoView();\", expand_arrow_element) #scroll view to element\n",
    "\n",
    "                expand_arrow_element.click()\n",
    "                # print(expand_arrow_element.if_exists)\n",
    "\n",
    "            except:\n",
    "                break\n",
    "\n",
    "        # scrape the data\n",
    "        output = self.scrape_the_data()\n",
    "\n",
    "        self.income_statement = self.scraped_data_to_dataframe(output=output)\n",
    "\n",
    "    def scrapeBalanceSheet(self, company_url):\n",
    "        logging.info('Start Balance Sheet Scrape')\n",
    "        self.balanse_sheet_url = \"https://www.tradingview.com/symbols/\" + \\\n",
    "            company_url + \"/financials-balance-sheet/?selected=\"\n",
    "        self.driver.get(self.balanse_sheet_url)\n",
    "        time.sleep(self.time_sleep)\n",
    "\n",
    "        self.switch_annual_data()\n",
    "        self.wait_page_to_load()\n",
    "        # self.close_cookies_popup()\n",
    "\n",
    "        # expand balance-sheet collapsed-rows level-1\n",
    "        i = 0\n",
    "        while True:\n",
    "            # logging.info('Start Expanding Balance Sheet Rows Level-1')\n",
    "            i = i+1\n",
    "            if i > __class__.maximum_number_of_colapsed_rows:\n",
    "                logging.error(f'Break While loop i={i}')\n",
    "                break\n",
    "            try:\n",
    "                # expand_arrow_xpath = \"//span[@class='arrow-_PBNXQ7k']\"\n",
    "                expand_arrow_xpath = \"//span[@class='arrow-_PBNXQ7k hasChanges-_PBNXQ7k']\"\n",
    "                expand_arrow_element = self.driver.find_element_by_xpath(\n",
    "                    expand_arrow_xpath)\n",
    "                # self.driver.execute_script(\"arguments[0].scrollIntoView();\", expand_arrow_element) #scroll view to element\n",
    "\n",
    "                expand_arrow_element.click()\n",
    "                # print(expand_arrow_element.if_exists)\n",
    "\n",
    "            except:\n",
    "                # logging.info('End Expanding Balance Sheet Rows Level-1')\n",
    "                break\n",
    "\n",
    "         # expand balance-sheet collapsed-rows level-2\n",
    "        i = 0\n",
    "        while True:\n",
    "            # logging.info('Start Expanding Balance Sheet Rows Level-2')\n",
    "            i = i+1\n",
    "            if i >  __class__.maximum_number_of_colapsed_rows:\n",
    "                logging.error(f'Break While loop i={i}')\n",
    "                break\n",
    "            try:\n",
    "                expand_arrow_xpath = \"//span[@class='arrow-_PBNXQ7k']\"\n",
    "                expand_arrow_element = self.driver.find_element_by_xpath(\n",
    "                    expand_arrow_xpath)\n",
    "                # self.driver.execute_script(\"arguments[0].scrollIntoView();\", expand_arrow_element) #scroll view to element\n",
    "\n",
    "                expand_arrow_element.click()\n",
    "                # print(expand_arrow_element.if_exists)\n",
    "\n",
    "            except:\n",
    "                # logging.info('End Expanding Balance Sheet Rows Level-2')\n",
    "                break\n",
    "\n",
    "        # scrape the data\n",
    "        output = self.scrape_the_data()\n",
    "        self.balanse_sheet = self.scraped_data_to_dataframe(output=output)\n",
    "\n",
    "    def scrapeCashFlow(self, company_url):\n",
    "\n",
    "        logging.info('Start CashFlow Scrape')\n",
    "        self.cashflow_url = \"https://www.tradingview.com/symbols/\" + \\\n",
    "            company_url + \"/financials-cash-flow/?selected=\"\n",
    "\n",
    "        self.driver.get(self.cashflow_url)\n",
    "        time.sleep(self.time_sleep)\n",
    "\n",
    "        self.switch_annual_data()\n",
    "        self.wait_page_to_load()\n",
    "        # self.close_cookies_popup()\n",
    "\n",
    "        # expand cash-flow collapsed-rows level-1\n",
    "        i = 0\n",
    "        while True:\n",
    "            # logging.info('Start Expanding CashFlow Rows Level-1')\n",
    "            i = i+1\n",
    "            if i > 20:\n",
    "                logging.info(f'Break While loop i={i}')\n",
    "                break\n",
    "            try:\n",
    "                # expand_arrow_xpath = \"//span[@class='arrow-_PBNXQ7k']\"\n",
    "                expand_arrow_xpath = \"//span[@class='arrow-_PBNXQ7k hasChanges-_PBNXQ7k']\"\n",
    "                expand_arrow_element = self.driver.find_element_by_xpath(\n",
    "                    expand_arrow_xpath)\n",
    "                # self.driver.execute_script(\"arguments[0].scrollIntoView();\", expand_arrow_element) #scroll view to element\n",
    "\n",
    "                expand_arrow_element.click()\n",
    "                # print(expand_arrow_element.if_exists)\n",
    "\n",
    "            except:\n",
    "                # logging.info('End Expanding CashFlow Rows Level-1')\n",
    "                break\n",
    "\n",
    "        # expand cash-flow collapsed-rows level-2\n",
    "        i = 0\n",
    "        while True:\n",
    "            # logging.info('Start Expanding CashFlow Rows Level-2')\n",
    "            i = i+1\n",
    "            if i > 20:\n",
    "                logging.info(f'Break While loop i={i}')\n",
    "                break\n",
    "            try:\n",
    "                expand_arrow_xpath = \"//span[@class='arrow-_PBNXQ7k']\"\n",
    "                expand_arrow_element = self.driver.find_element_by_xpath(\n",
    "                    expand_arrow_xpath)\n",
    "                # self.driver.execute_script(\"arguments[0].scrollIntoView();\", expand_arrow_element) #scroll view to element\n",
    "\n",
    "                expand_arrow_element.click()\n",
    "                # print(expand_arrow_element.if_exists)\n",
    "\n",
    "            except:\n",
    "                # logging.info('End Expanding CashFlow Rows Level-2')\n",
    "                break\n",
    "\n",
    "        # scrape the data\n",
    "        output = self.scrape_the_data()\n",
    "        self.cashflow_statement = self.scraped_data_to_dataframe(output=output)\n",
    "\n",
    "    def scrapeStatistics(self, company_url):\n",
    "        logging.info('Start Statistics Scrape')\n",
    "        self.statistics_url = \"https://www.tradingview.com/symbols/\" + company_url + \"/financials-statistics-and-ratios/?selected=\"\n",
    "        self.driver.get(self.statistics_url)\n",
    "        time.sleep(self.time_sleep)\n",
    "\n",
    "        # self.close_cookies_popup()\n",
    "        self.switch_annual_data()\n",
    "        self.wait_page_to_load()\n",
    "\n",
    "        statistics_table_xpath = \"//div[@class='container-YOfamMRP']/div\"\n",
    "        statistics_table_rows = self.driver.find_elements_by_xpath(\n",
    "            statistics_table_xpath)\n",
    "\n",
    "        # for item in financial_table[1]:\n",
    "        #     print(item)\n",
    "\n",
    "        # print(self.financial_table.text)\n",
    "        # print(len(statistics_table_rows))\n",
    "        output = []\n",
    "\n",
    "        for item in statistics_table_rows:\n",
    "            item_list = item.text.splitlines()\n",
    "            output_temp = []\n",
    "\n",
    "            # skip non-data items like Key stats, Profitability ratios, Liquidity ratios, Solvency ratios\n",
    "            if len(item_list) == 1:\n",
    "                continue\n",
    "            else:\n",
    "                for i in range(len(item_list)):\n",
    "\n",
    "                    output_temp.append(item_list[i].replace(\n",
    "                        '\\u202a', '').replace('\\u202c', ''))\n",
    "                    # print(temp[i])\n",
    "\n",
    "                # print(type(temp), len(temp))\n",
    "                # print(temp)\n",
    "                output.append(output_temp)\n",
    "\n",
    "        # for item in output:\n",
    "        #     print(len(item),item)\n",
    "        #     pass\n",
    "\n",
    "        self.statistics = self.scraped_data_to_dataframe(output=output)\n",
    "\n",
    "\n",
    "    def scrapeCompanyData(self, company_url):\n",
    "        self.company_data_url = \"https://www.tradingview.com/symbols/\" + company_url + \"/forecast/\"\n",
    "        self.driver.get(self.company_data_url)\n",
    "        time.sleep(self.time_sleep)\n",
    "        self.wait_page_to_load()\n",
    "\n",
    "        company_name_css = \"h2[class='tv-symbol-header__first-line']\"\n",
    "        company_name_element = self.driver.find_element(By.CSS_SELECTOR, company_name_css)\n",
    "        self.company_name = company_name_element.text\n",
    "        # print(self.company_name)\n",
    "\n",
    "        company_ticker_css = \"span[class='tv-symbol-header__second-line tv-symbol-header__second-line--with-hover js-symbol-dropdown'] span[class='tv-symbol-header__second-line--text']\"\n",
    "        company_ticker_element = self.driver.find_element(By.CSS_SELECTOR, company_ticker_css)\n",
    "        self.company_ticker = company_ticker_element.text\n",
    "        # print(self.company_ticker)\n",
    "\n",
    "        exchage_css = \"span[class='tv-symbol-header__second-line tv-symbol-header__second-line--with-hover js-symbol-dropdown'] span[class='tv-symbol-header__exchange']\" #NASDAQ/NYSE\n",
    "        exchage_element = self.driver.find_element(By.CSS_SELECTOR, exchage_css)\n",
    "        self.exchange = exchage_element.text\n",
    "\n",
    "    def companyData_to_dataframe(self):\n",
    "\n",
    "        data = {'income_statement_url': self.income_statement_url,\n",
    "                'balanse_sheet_url': self.balanse_sheet_url,\n",
    "                'cashflow_url': self.cashflow_url,\n",
    "                'statistics_url': self.statistics_url,\n",
    "                'company_data_url': self.company_data_url,\n",
    "                'company_name':self.company_name,\n",
    "                'company_ticker': self.company_ticker,\n",
    "                \"exchange\": self.exchange}\n",
    "\n",
    "        self.company_data = pd.DataFrame.from_dict(data, orient='index')\n",
    "        \n",
    "    \n",
    "    def close_cookies_popup(self):\n",
    "        cookie_button_xpath = \"//button[@class='acceptAll-WvyPjcpY button-OvB35Th_ size-xsmall-OvB35Th_ color-brand-OvB35Th_ variant-primary-OvB35Th_']\"\n",
    "        cookie_button_element = self.driver.find_element_by_xpath(\n",
    "            cookie_button_xpath)\n",
    "        cookie_button_element.click()\n",
    "\n",
    "    def switch_annual_data(self):\n",
    "        annual_button_xpath = \"//button[@id='FY']\"\n",
    "        annual_button_element = self.driver.find_element_by_xpath(\n",
    "            annual_button_xpath)\n",
    "        annual_button_element.click()\n",
    "\n",
    "    def scraped_data_to_dataframe(self, output):\n",
    "        output_index = []\n",
    "        output_values = []\n",
    "        output_colums = output[0][1:]\n",
    "        self.currency = output[0][0].replace('Currency: ', '')\n",
    "        # print(self.currency)\n",
    "\n",
    "        for i in range(1, len(output)):\n",
    "            output_index.append(output[i][0])\n",
    "            output_values.append(output[i][1:])\n",
    "\n",
    "        # apply neccessery correction to fix the values-data\n",
    "        output_values = self.fix_data_values(input_data=output_values)\n",
    "        df = pd.DataFrame(output_values, columns=output_colums,\n",
    "                          index=output_index)  # add scraped data to dataframe\n",
    "        return df\n",
    "\n",
    "    def scrape_the_data(self):\n",
    "\n",
    "        # financial_table_xpath = \"//div[@class='container-YOfamMRP']\"\n",
    "        financial_table_xpath = \"//div[@class='container-YOfamMRP']/div\"\n",
    "        financial_table_rows = self.driver.find_elements_by_xpath(\n",
    "            financial_table_xpath)\n",
    "        # print(len(financial_table_rows))\n",
    "\n",
    "        output = []\n",
    "        number_of_periods = len(financial_table_rows[0].text.splitlines())\n",
    "\n",
    "        for item in financial_table_rows:\n",
    "            item_list = item.text.splitlines()\n",
    "            output_temp = []\n",
    "\n",
    "            if len(item_list) == number_of_periods:  # rows without YOY-grow\n",
    "\n",
    "                for i in range(len(item_list)):\n",
    "                    output_temp.append(item_list[i].replace(\n",
    "                        '\\u202a', '').replace('\\u202c', ''))\n",
    "            else:  # rows with YOY-grow\n",
    "                if 'YoY growth' in item_list:  # Quarterly\n",
    "                    for i in range(0, len(item_list), 2):  # skip YOY-grow row\n",
    "                        output_temp.append(item_list[i].replace(\n",
    "                            '\\u202a', '').replace('\\u202c', ''))\n",
    "                else:  # Anual report\n",
    "                    output_temp.append(item_list[0])\n",
    "                    for i in range(1, len(item_list), 2):  # skip YOY-grow row\n",
    "                        output_temp.append(item_list[i].replace(\n",
    "                            '\\u202a', '').replace('\\u202c', ''))\n",
    "\n",
    "            output.append(output_temp)\n",
    "\n",
    "        return output\n",
    "\n",
    "\n",
    "    def fix_data_values(self, input_data):\n",
    "        output = []\n",
    "\n",
    "        for row in input_data:\n",
    "            output_row = []\n",
    "            for item in row:\n",
    "                # print(f'item={item}')\n",
    "\n",
    "                if '−' in item:  # convert minus sign to real minus, for some reason the sign is not recognized as minus\n",
    "                    item = item.replace('−', '-')\n",
    "\n",
    "                if 'T' in item:  # convert Trillion-values to numeric\n",
    "                    item = item.replace('T', '')\n",
    "                    item = float(item)\n",
    "                    item = item*1000000000000\n",
    "                    # item = int(item)\n",
    "\n",
    "                elif 'B' in item:  # convert Billion-values to numeric\n",
    "                    item = item.replace('B', '')\n",
    "                    item = float(item)\n",
    "                    item = item*1000000000\n",
    "                    # item = int(item)\n",
    "\n",
    "                elif 'M' in item:  # convert Milion-values to numeric\n",
    "                    item = item.replace('M', '')\n",
    "                    item = float(item)\n",
    "                    item = item*1000000\n",
    "                    # item = int(item)\n",
    "\n",
    "                elif 'K' in item:  # convert Thousants-values to numeric\n",
    "                    item = item.replace('K', '')\n",
    "                    item = float(item)\n",
    "                    item = item*1000\n",
    "                    # item = int(item)\n",
    "\n",
    "                if isinstance(item, str):  # if item is not integer (0.00, ---, -)\n",
    "\n",
    "                    if '—' in item:  # set value to None\n",
    "                        item = None\n",
    "\n",
    "                    elif '.' in item:  # convert value to float\n",
    "                        item = float(item)\n",
    "\n",
    "                if self.currency != 'USD':  # convert values to USD\n",
    "\n",
    "                    if self.currency == 'KRW':\n",
    "                        self.multiplier = 0.000700680009950\n",
    "\n",
    "                    # check if item is int or float\n",
    "                    if isinstance(item, float) or isinstance(item, int):\n",
    "                        item = item*self.multiplier\n",
    "\n",
    "                output_row.append(item)\n",
    "\n",
    "            output.append(output_row)\n",
    "\n",
    "        return output\n",
    "\n",
    "    def wait_page_to_load(self):\n",
    "        \"\"\"wait the page to be fully loaded before proceeding with the scraping procedures\"\"\"\n",
    "\n",
    "        price_css = \"div[class='tv-symbol-price-quote__value js-symbol-last']\"\n",
    "        price_element = self.driver.find_element(By.CSS_SELECTOR, price_css)\n",
    "\n",
    "        currency_symbol_css = \".tv-symbol-price-quote__currency.js-symbol-currency\"\n",
    "        currency_symbol_element = self.driver.find_element(By.CSS_SELECTOR, currency_symbol_css)\n",
    "\n",
    "        prince_increase_css = \".js-symbol-change.tv-symbol-price-quote__change-value\"\n",
    "        prince_increase_element = self.driver.find_element(By.CSS_SELECTOR, prince_increase_css)\n",
    "\n",
    "        prince_increase_percent_css = \".js-symbol-change-pt.tv-symbol-price-quote__change-value\"\n",
    "        prince_increase_percent_element = self.driver.find_element(By.CSS_SELECTOR, prince_increase_percent_css)\n",
    "\n",
    "    "
   ]
  },
  {
   "cell_type": "code",
   "execution_count": 6,
   "metadata": {},
   "outputs": [],
   "source": [
    "#04 HELPER CLASS\n",
    "\n",
    "class Helper():\n",
    "\n",
    "    def generateClassVariables(self, company_statement):\n",
    "        \"\"\" Generate Income Statement / Balance Sheet / Cashflow Statement / Statistics variables \"\"\"\n",
    "\n",
    "        self.items = company_statement.transpose()\n",
    "        # self.item_keys = []\n",
    "\n",
    "        for item in self.items:\n",
    "            item_temp = item\n",
    "            item_temp = item_temp.lower()\n",
    "            item_temp = item_temp.replace(' - ', '_')\n",
    "            item_temp = item_temp.replace(' – ', '_')\n",
    "            item_temp = item_temp.replace('-', '_')\n",
    "            item_temp = item_temp.replace(' ', '_')\n",
    "            item_temp = item_temp.replace(\"'\", '')\n",
    "            item_temp = item_temp.replace('\"', '')\n",
    "            item_temp = item_temp.replace('(', '')\n",
    "            item_temp = item_temp.replace(')', '')\n",
    "            item_temp = item_temp.replace('&', 'and')\n",
    "            item_temp = item_temp.replace('.', '')\n",
    "            item_temp = item_temp.replace(',', '')\n",
    "            item_temp = item_temp.replace('/', '_')\n",
    "            item_temp = item_temp.replace('%', 'percent')\n",
    "            print(f'self.{item_temp}_str = \"{item}\"')\n",
    "            # self.item_keys.append(item_temp)\n",
    "\n",
    "\n",
    "        # self.res = {}\n",
    "        # for key in self.item_keys:\n",
    "        #     for value in self.items:\n",
    "        #         self.res[key] = value\n",
    "        #         self.items.remove(value)\n",
    "        #         break\n",
    "\n",
    "\n",
    "        # print(self.res)\n",
    "\n",
    "# helper = Helper()\n",
    "# helper.generateClassVariables(companies[0].statistics)"
   ]
  },
  {
   "cell_type": "code",
   "execution_count": 7,
   "metadata": {},
   "outputs": [],
   "source": [
    "#05 INCOME STATEMENT VISUALIZER CLASS\n",
    "\n",
    "class IncomeStatementVisualizer():\n",
    "    \n",
    "    def __init__(self, company_data):\n",
    "\n",
    "        self.company_name = company_data.company_data.loc['company_name'][0] #get company_name from the dataframe\n",
    "        self.df_income_statement = company_data.income_statement.transpose()\n",
    "        self.income_statement_vars()\n",
    "    \n",
    "    def income_statement_vars(self):\n",
    "\n",
    "        self.total_revenue_str = \"Total revenue\"\n",
    "        self.cost_of_goods_sold_str = \"Cost of goods sold\"\n",
    "        self.deprecation_and_amortization_str = \"Deprecation and amortization\"\n",
    "        self.depreciation_str = \"Depreciation\"\n",
    "        self.amortization_of_intangibles_str = \"Amortization of intangibles\"\n",
    "        self.amortization_of_deferred_charges_str = \"Amortization of deferred charges\"\n",
    "        self.other_cost_of_goods_sold_str = \"Other cost of goods sold\"\n",
    "        self.gross_profit_str = \"Gross profit\"\n",
    "        self.operating_expenses_excl_cogs_str = \"Operating expenses (excl. COGS)\"\n",
    "        self.selling_general_admin_expenses_total_str = \"Selling/general/admin expenses, total\"\n",
    "        self.research_and_development_str = \"Research & development\"\n",
    "        self.selling_general_admin_expenses_other_str = \"Selling/general/admin expenses, other\"\n",
    "        self.other_operating_expenses_total_str = \"Other operating expenses, total\"\n",
    "        self.operating_income_str = \"Operating income\"\n",
    "        self.non_operating_income_total_str = \"Non-operating income, total\"\n",
    "        self.interest_expense_net_of_interest_capitalized_str = \"Interest expense, net of interest capitalized\"\n",
    "        self.interest_expense_on_debt_str = \"Interest expense on debt\"\n",
    "        self.interest_capitalized_str = \"Interest capitalized\"\n",
    "        self.non_operating_income_excl_interest_expenses_str = \"Non-operating income, excl. interest expenses\"\n",
    "        self.non_operating_interest_income_str = \"Non-operating interest income\"\n",
    "        self.pretax_equity_in_earnings_str = \"Pretax equity in earnings\"\n",
    "        self.miscellaneous_non_operating_expense_str = \"Miscellaneous non-operating expense\"\n",
    "        self.unusual_income_expense_str = \"Unusual income/expense\"\n",
    "        self.impairments_str = \"Impairments\"\n",
    "        self.restructuring_charge_str = \"Restructuring charge\"\n",
    "        self.legal_claim_expense_str = \"Legal claim expense\"\n",
    "        self.unrealized_gain_loss_str = \"Unrealized gain/loss\"\n",
    "        self.other_exceptional_charges_str = \"Other exceptional charges\"\n",
    "        self.pretax_income_str = \"Pretax income\"\n",
    "        self.equity_in_earnings_str = \"Equity in earnings\"\n",
    "        self.taxes_str = \"Taxes\"\n",
    "        self.income_tax_current_str = \"Income tax, current\"\n",
    "        self.income_tax_current_domestic_str = \"Income tax, current - domestic\"\n",
    "        self.income_tax_current_foreign_str = \"Income Tax, current - foreign\"\n",
    "        self.income_tax_deferred_str = \"Income tax, deferred\"\n",
    "        self.income_tax_deferred_domestic_str = \"Income tax, deferred - domestic\"\n",
    "        self.income_tax_deferred_foreign_str = \"Income tax, deferred - foreign\"\n",
    "        self.income_tax_credits_str = \"Income Tax Credits\"\n",
    "        self.non_controlling_minority_interest_str = \"Non-controlling/minority interest\"\n",
    "        self.after_tax_other_income_expense_str = \"After tax other income/expense\"\n",
    "        self.net_income_before_discontinued_operations_str = \"Net income before discontinued operations\"\n",
    "        self.discontinued_operations_str = \"Discontinued operations\"\n",
    "        self.net_income_str = \"Net income\"\n",
    "        self.dilution_adjustment_str = \"Dilution adjustment\"\n",
    "        self.preferred_dividends_str = \"Preferred dividends\"\n",
    "        self.diluted_net_income_available_to_common_stockholders_str = \"Diluted net income available to common stockholders\"\n",
    "        self.basic_earnings_per_share_basic_eps_str = \"Basic earnings per share (Basic EPS)\"\n",
    "        self.diluted_earnings_per_share_diluted_eps_str = \"Diluted earnings per share (Diluted EPS)\"\n",
    "        self.average_basic_shares_outstanding_str = \"Average basic shares outstanding\"\n",
    "        self.diluted_shares_outstanding_str = \"Diluted shares outstanding\"\n",
    "        self.ebitda_str = \"EBITDA\"\n",
    "        self.ebit_str = \"EBIT\"\n",
    "        self.total_operating_expenses_str = \"Total operating expenses\"\n",
    "\n",
    "    def show_all_visuals(self):\n",
    "        self.revenue()\n",
    "        self.operating_income()\n",
    "        self.pretax_income()\n",
    "        self.discontinued_operations()\n",
    "        self.net_income()\n",
    "        self.diluted_net_income()\n",
    "        self.eps()\n",
    "        self.shares()\n",
    "        self.ebit()\n",
    "        self.operating_expenses()\n",
    "\n",
    "    def revenue(self):\n",
    "        params = ['Total revenue', 'Cost of goods sold', 'Gross profit']\n",
    "        title = 'Total Revenue - Cost Of Goods Sold = Gross Profit'\n",
    "        self.graph_template(y_axis_data=params, graph_title=title)\n",
    "\n",
    "    def operating_income(self):\n",
    "        params = ['Operating expenses (excl. COGS)', 'Operating income', 'Gross profit']\n",
    "        title = 'Gross Profit - Operating Expenses = Operating Income'\n",
    "        self.graph_template(y_axis_data=params, graph_title=title)\n",
    "\n",
    "    def pretax_income(self):\n",
    "        params = ['Operating income', 'Non-operating income, total', 'Pretax income']\n",
    "        title = 'Operating Income + Non Operating Income = Pretax Income'\n",
    "        self.graph_template(y_axis_data=params, graph_title=title)\n",
    "\n",
    "    def discontinued_operations(self):\n",
    "        params = ['Non-controlling/minority interest', 'After tax other income/expense', 'Net income before discontinued operations', 'Discontinued operations']\n",
    "        title = 'Net income before discontinued operations'\n",
    "        self.graph_template(y_axis_data=params, graph_title=title)\n",
    "\n",
    "    def net_income(self):\n",
    "        params = ['Pretax income', 'Taxes', 'Net income']\n",
    "        title = 'Pretax Income - Taxes = Net Income'\n",
    "        self.graph_template(y_axis_data=params, graph_title=title)\n",
    "\n",
    "    def diluted_net_income(self):\n",
    "        params = ['Dilution adjustment', 'Preferred dividends', 'Diluted net income available to common stockholders']\n",
    "        title = 'Net Income + Dilution Adjustment - Preferred Dividents = Diluted Net Income'\n",
    "        self.graph_template(y_axis_data=params, graph_title=title)\n",
    "\n",
    "    def eps(self):\n",
    "        params = ['Basic earnings per share (Basic EPS)', 'Diluted earnings per share (Diluted EPS)']\n",
    "        title = 'Earnings Per Share'\n",
    "        self.graph_template(y_axis_data=params, graph_title=title)\n",
    "\n",
    "    def shares(self):\n",
    "        params = ['Average basic shares outstanding', 'Diluted shares outstanding']\n",
    "        title = 'Shares Outstanding'\n",
    "        self.graph_template(y_axis_data=params, graph_title=title)\n",
    "\n",
    "    def ebit(self):\n",
    "        params = ['EBITDA', 'EBIT']\n",
    "        title = 'EBIT/EBITDA'\n",
    "        self.graph_template(y_axis_data=params, graph_title=title)\n",
    "\n",
    "    def operating_expenses(self):\n",
    "        params = ['Operating expenses (excl. COGS)', 'Cost of goods sold', 'Total operating expenses']\n",
    "        title = 'Operating Expenses + Cost of Goods Sold = Total Operating Expenses'\n",
    "        self.graph_template(y_axis_data=params, graph_title=title)\n",
    "\n",
    "    def graph_template(self, y_axis_data, graph_title):\n",
    "        \"\"\"\n",
    "        y_axis_list=['Total revenue', 'Cost of goods sold', 'Gross profit'] \n",
    "        graph_title= f'{self.company_name} | Total Revenue - Cost Of Goods Sold = Gross Profit'\n",
    "        \"\"\"\n",
    "\n",
    "        fig = px.line(self.df_income_statement,\n",
    "                        x = self.df_income_statement.index, \n",
    "                        y = y_axis_data,\n",
    "                        title = f'{self.company_name} | {graph_title}',\n",
    "                        markers = True)\n",
    "        fig.show()\n",
    "\n",
    "    \"\"\" \n",
    "        OLD GRAPH FUNCTIONS\n",
    "        def revenue(self):\n",
    "            fig_revenue = px.line(self.df_income_statement, x=self.df_income_statement.index, \n",
    "                                y=['Total revenue', 'Cost of goods sold', 'Gross profit'],\n",
    "                                title= f'{self.company_name} | Total Revenue - Cost Of Goods Sold = Gross Profit', markers=True)\n",
    "            fig_revenue.show()\n",
    "\n",
    "        def operating_income(self):\n",
    "            fig_operating_income = px.line(self.df_income_statement, x=self.df_income_statement.index, \n",
    "                                            y=['Operating expenses (excl. COGS)', 'Operating income', 'Gross profit'],\n",
    "                                            title='Gross Profit - Operating Expenses = Operating Income', markers=True)\n",
    "            fig_operating_income.show()\n",
    "\n",
    "        def pretax_income(self):\n",
    "            fig_pretax_income = px.line(self.df_income_statement, x=self.df_income_statement.index, \n",
    "                                        y=['Operating income', 'Non-operating income, total', 'Pretax income'],\n",
    "                                        title='Operating Income + Non Operating Income = Pretax Income', markers=True)\n",
    "            fig_pretax_income.show()\n",
    "\n",
    "        def discontinued_operations(self):\n",
    "            fig_discontinued_operations = px.line(self.df_income_statement, x=self.df_income_statement.index, \n",
    "                                                    y=['Non-controlling/minority interest', 'After tax other income/expense',\n",
    "                                                    'Net income before discontinued operations', 'Discontinued operations', ],\n",
    "                                                    title='Net income before discontinued operations', markers=True)\n",
    "            fig_discontinued_operations.show()\n",
    "\n",
    "        def net_income(self):\n",
    "            fig_net_income = px.line(self.df_income_statement, x=self.df_income_statement.index, \n",
    "                                    y=['Pretax income', 'Taxes', 'Net income'],\n",
    "                                    title='Pretax Income - Taxes = Net Income', markers=True)\n",
    "            fig_net_income.show()\n",
    "\n",
    "        def diluted_net_income(self):\n",
    "            fig_diluted_net_income = px.line(self.df_income_statement, x=self.df_income_statement.index, \n",
    "                                            y=['Dilution adjustment', 'Preferred dividends', 'Diluted net income available to common stockholders'],\n",
    "                                            title='Net Income + Dilution Adjustment - Preferred Dividents = Diluted Net Income', markers=True)\n",
    "            fig_diluted_net_income.show()\n",
    "\n",
    "        def eps(self):\n",
    "            fig_eps = px.line(self.df_income_statement, x=self.df_income_statement.index, \n",
    "                                y=['Basic earnings per share (Basic EPS)', 'Diluted earnings per share (Diluted EPS)'],\n",
    "                                title='Earnings Per Share', markers=True)\n",
    "            fig_eps.show()\n",
    "\n",
    "        def shares(self):\n",
    "            fig_shares = px.line(self.df_income_statement, x=self.df_income_statement.index, \n",
    "                                y=['Average basic shares outstanding', 'Diluted shares outstanding'],\n",
    "                                title='Shares Outstanding', markers=True)\n",
    "            fig_shares.show()\n",
    "\n",
    "        def ebit(self):\n",
    "            fig_ebit = px.line(self.df_income_statement, x=self.df_income_statement.index, \n",
    "                                y=['EBITDA', 'EBIT'],\n",
    "                                title='EBIT/EBITDA', markers=True)\n",
    "            fig_ebit.show()\n",
    "\n",
    "    def operating_expenses(self):\n",
    "    \"\"\""
   ]
  },
  {
   "cell_type": "code",
   "execution_count": 8,
   "metadata": {},
   "outputs": [],
   "source": [
    "#06 BALANCE SHEET VISUALIZER CLASS\n",
    "\n",
    "class BalanceSheetVisualizer():\n",
    "\n",
    "    def __init__(self, company_data):\n",
    "        \n",
    "        self.company_name = company_data.company_data.loc['company_name'][0] #get company_name from the dataframe\n",
    "        self.df_balanse_sheet = company_data.balanse_sheet.transpose()\n",
    "        self.balanse_sheet_vars()\n",
    "    \n",
    "    def balanse_sheet_vars(self):\n",
    "\n",
    "        self.total_assets_str = \"Total assets\"\n",
    "        self.total_current_assets_str = \"Total current assets\"\n",
    "        self.cash_and_short_term_investments_str = \"Cash and short term investments\"\n",
    "        self.cash_and_equivalents_str = \"Cash & equivalents\"\n",
    "        self.short_term_investments_str = \"Short term investments\"\n",
    "        self.total_receivables_net_str = \"Total receivables, net\"\n",
    "        self.accounts_receivable_trade_net_str = \"Accounts receivable - trade, net\"\n",
    "        self.accounts_receivables_gross_str = \"Accounts receivables, gross\"\n",
    "        self.bad_debt___doubtful_accounts_str = \"Bad debt / Doubtful accounts\"\n",
    "        self.other_receivables_str = \"Other receivables\"\n",
    "        self.total_inventory_str = \"Total inventory\"\n",
    "        self.inventories_work_in_progress_str = \"Inventories - work in progress\"\n",
    "        self.inventories_progress_payments_and_other_str = \"Inventories - progress payments & other\"\n",
    "        self.inventories_finished_goods_str = \"Inventories - finished goods\"\n",
    "        self.inventories_raw_materials_str = \"Inventories - raw materials\"\n",
    "        self.prepaid_expenses_str = \"Prepaid expenses\"\n",
    "        self.other_current_assets_total_str = \"Other current assets, total\"\n",
    "        self.total_non_current_assets_str = \"Total non-current assets\"\n",
    "        self.long_term_investments_str = \"Long term investments\"\n",
    "        self.note_receivable_long_term_str = \"Note receivable - long term\"\n",
    "        self.investments_in_unconsolidated_subsidiaries_str = \"Investments in unconsolidated subsidiaries\"\n",
    "        self.other_investments_str = \"Other investments\"\n",
    "        self.net_property_plant_equipment_str = \"Net property/plant/equipment\"\n",
    "        self.gross_property_plant_equipment_str = \"Gross property/plant/equipment\"\n",
    "        self.property_plant_equipment_buildings_str = \"Property/plant/equipment - Buildings\"\n",
    "        self.property_plant_equipment_construction_in_progress_str = \"Property/plant/equipment - Construction in progress\"\n",
    "        self.property_plant_equipment_machinery_and_equipment_str = \"Property/plant/equipment - Machinery & equipment\"\n",
    "        self.property_plant_equipment_land_and_improvement_str = \"Property/plant/equipment - Land & improvement\"\n",
    "        self.property_plant_equipment_leased_property_str = \"Property/plant/equipment - Leased property\"\n",
    "        self.property_plant_equipment_leases_str = \"Property/plant/equipment - Leases\"\n",
    "        self.property_plant_equipment_computer_software_and_equipment_str = \"Property/plant/equipment - Computer software and equipment\"\n",
    "        self.property_plant_equipment_transportation_equipment_str = \"Property/plant/equipment - Transportation equipment\"\n",
    "        self.property_plant_equipment_other_str = \"Property/plant/equipment - Other\"\n",
    "        self.accumulated_depreciation_total_str = \"Accumulated depreciation, total\"\n",
    "        self.accumulated_depreciation_buildings_str = \"Accumulated depreciation - Buildings\"\n",
    "        self.accumulated_depreciation_construction_in_progress_str = \"Accumulated depreciation - Construction in progress\"\n",
    "        self.accumulated_depreciation_machinery_and_equipment_str = \"Accumulated depreciation - Machinery & equipment\"\n",
    "        self.accumulated_depreciation_land_and_improvement_str = \"Accumulated depreciation - Land & improvement\"\n",
    "        self.accumulated_depreciation_leased_property_str = \"Accumulated depreciation - Leased property\"\n",
    "        self.accumulated_depreciation_leases_str = \"Accumulated depreciation - Leases\"\n",
    "        self.accumulated_depreciation_computer_software_and_equipment_str = \"Accumulated depreciation - Computer software and equipment\"\n",
    "        self.accumulated_depreciation_transportation_equipment_str = \"Accumulated depreciation - Transportation equipment\"\n",
    "        self.accumulated_depreciation_other_str = \"Accumulated depreciation - Other\"\n",
    "        self.deferred_tax_assets_str = \"Deferred tax assets\"\n",
    "        self.net_intangible_assets_str = \"Net intangible assets\"\n",
    "        self.goodwill_net_str = \"Goodwill, net\"\n",
    "        self.goodwill_gross_str = \"Goodwill, gross\"\n",
    "        self.accumulated_goodwill_amortization_str = \"Accumulated goodwill amortization\"\n",
    "        self.other_intangibles_net_str = \"Other intangibles, net\"\n",
    "        self.other_intangibles_gross_str = \"Other intangibles, gross\"\n",
    "        self.accumulated_amortization_of_other_intangibles_str = \"Accumulated amortization of other intangibles\"\n",
    "        self.deferred_charges_str = \"Deferred charges\"\n",
    "        self.other_long_term_assets_total_str = \"Other long term assets, total\"\n",
    "        self.total_liabilities_str = \"Total liabilities\"\n",
    "        self.total_current_liabilities_str = \"Total current liabilities\"\n",
    "        self.short_term_debt_str = \"Short term debt\"\n",
    "        self.current_portion_of_lt_debt_and_capital_leases_str = \"Current portion of LT debt and capital leases\"\n",
    "        self.short_term_debt_excl_current_portion_of_lt_debt_str = \"Short term debt excl. current portion of LT debt\"\n",
    "        self.notes_payable_str = \"Notes payable\"\n",
    "        self.other_short_term_debt_str = \"Other short term debt\"\n",
    "        self.accounts_payable_str = \"Accounts payable\"\n",
    "        self.income_tax_payable_str = \"Income tax payable\"\n",
    "        self.dividends_payable_str = \"Dividends payable\"\n",
    "        self.accrued_payroll_str = \"Accrued payroll\"\n",
    "        self.deferred_income_current_str = \"Deferred income, current\"\n",
    "        self.other_current_liabilities_str = \"Other current liabilities\"\n",
    "        self.total_non_current_liabilities_str = \"Total non-current liabilities\"\n",
    "        self.long_term_debt_str = \"Long term debt\"\n",
    "        self.long_term_debt_excl_lease_liabilities_str = \"Long term debt excl. lease liabilities\"\n",
    "        self.capital_and_operating_lease_obligations_str = \"Capital and operating lease obligations\"\n",
    "        self.capitalized_lease_obligations_str = \"Capitalized lease obligations\"\n",
    "        self.operating_lease_liabilities_str = \"Operating lease liabilities\"\n",
    "        self.provision_for_risks_and_charge_str = \"Provision for risks & charge\"\n",
    "        self.deferred_tax_liabilities_str = \"Deferred tax liabilities\"\n",
    "        self.deferred_income_non_current_str = \"Deferred income, non-current\"\n",
    "        self.other_non_current_liabilities_total_str = \"Other non-current liabilities, total\"\n",
    "        self.total_equity_str = \"Total equity\"\n",
    "        self.shareholders_equity_str = \"Shareholders' equity\"\n",
    "        self.common_equity_total_str = \"Common equity, total\"\n",
    "        self.retained_earnings_str = \"Retained earnings\"\n",
    "        self.paid_in_capital_str = \"Paid in capital\"\n",
    "        self.common_stock_par_carrying_value_str = \"Common stock par/Carrying value\"\n",
    "        self.additional_paid_in_capital_capital_surplus_str = \"Additional paid-in capital/Capital surplus\"\n",
    "        self.treasury_stock_common_str = \"Treasury stock - common\"\n",
    "        self.other_common_equity_str = \"Other common equity\"\n",
    "        self.preferred_stock_carrying_value_str = \"Preferred stock, carrying value\"\n",
    "        self.minority_interest_str = \"Minority interest\"\n",
    "        self.total_liabilities_and_shareholders_equities_str = \"Total liabilities & shareholders' equities\"\n",
    "        self.total_debt_str = \"Total debt\"\n",
    "        self.net_debt_str = \"Net debt\"\n",
    "        self.book_value_per_share_str = \"Book value per share\"\n",
    "\n",
    "    def show_all_visuals(self):\n",
    "        self.total_assets_liabilities_equity()\n",
    "        self.current_non_current_assets()\n",
    "        self.current_non_current_liabilities()\n",
    "        self.total_debt_net_debt()\n",
    "        self.book_value_per_share()\n",
    "\n",
    "\n",
    "    def total_assets_liabilities_equity(self):\n",
    "        params = ['Total assets', 'Total liabilities', 'Total equity',  \"Total liabilities & shareholders' equities\"]\n",
    "        title = 'Total Assets/Liabilities/Equity'\n",
    "        self.graph_template(y_axis_data=params, graph_title=title)\n",
    "        \n",
    "\n",
    "    def current_non_current_assets(self):\n",
    "        params = ['Total current assets', 'Total non-current assets']\n",
    "        title = 'Total Current/Non-Current Assets'\n",
    "        self.graph_template(y_axis_data=params, graph_title=title)\n",
    "\n",
    "    def current_non_current_liabilities(self):    \n",
    "        params = ['Total current liabilities', 'Total non-current liabilities']\n",
    "        title = 'Total Current/Non-Current Liabilities'\n",
    "        self.graph_template(y_axis_data=params, graph_title=title)\n",
    "\n",
    "    def total_debt_net_debt(self):    \n",
    "        params = ['Total debt', 'Net debt']\n",
    "        title = 'Total/Net Debt'\n",
    "        self.graph_template(y_axis_data=params, graph_title=title)\n",
    "\n",
    "    def book_value_per_share(self):    \n",
    "        params = ['Book value per share']\n",
    "        title = 'Book Value Per Share'\n",
    "        self.graph_template(y_axis_data=params, graph_title=title)\n",
    "    \n",
    "    def graph_template(self, y_axis_data, graph_title):\n",
    "        \"\"\"\n",
    "        y_axis_list=['Total revenue', 'Cost of goods sold', 'Gross profit'] \n",
    "        graph_title= f'{self.company_name} | Total Revenue - Cost Of Goods Sold = Gross Profit'\n",
    "        \"\"\"\n",
    "        fig = px.line(self.df_balanse_sheet,\n",
    "                        x = self.df_balanse_sheet.index, \n",
    "                        y = y_axis_data,\n",
    "                        title = f'{self.company_name} | {graph_title}',\n",
    "                        markers = True)\n",
    "        fig.show()\n",
    "\n",
    "\n",
    "    \"\"\" \n",
    "        OLD DEFs\n",
    "        def total_assets_liabilities_equity(self):\n",
    "                fig_total_assets_liabilities_equity = px.line(self.df_balanse_sheet, x=self.df_balanse_sheet.index, y=['Total assets', 'Total liabilities', 'Total equity',  \"Total liabilities & shareholders' equities\"],\n",
    "                                                            title='Total Assets/Liabilities/Equity', markers=True)\n",
    "                fig_total_assets_liabilities_equity.show()\n",
    "                \n",
    "\n",
    "        def current_non_current_assets(self):\n",
    "            fig_current_non_current_assets = px.line(self.df_balanse_sheet, x=self.df_balanse_sheet.index, y=['Total current assets', 'Total non-current assets'],\n",
    "                                                    title='Total Current/Non-Current Assets', markers=True)\n",
    "            fig_current_non_current_assets.show()\n",
    "\n",
    "        def current_non_current_liabilities(self):    \n",
    "            fig_current_non_current_liabilities = px.line(self.df_balanse_sheet, x=self.df_balanse_sheet.index, y=['Total current liabilities', 'Total non-current liabilities'],\n",
    "                                                        title='Total Current/Non-Current Liabilities', markers=True)\n",
    "            fig_current_non_current_liabilities.show()\n",
    "\n",
    "        def total_assets_liabilities_equity(self):    \n",
    "            fig_total_assets_liabilities_equity = px.line(self.df_balanse_sheet, x=self.df_balanse_sheet.index, y=['Total debt', 'Net debt'],\n",
    "                                                        title='Total/Net Debt', markers=True)\n",
    "            fig_total_assets_liabilities_equity.show()\n",
    "\n",
    "        def book_value_per_share(self):    \n",
    "            fig_book_value_per_share = px.line(self.df_balanse_sheet, x=self.df_balanse_sheet.index, y=['Book value per share'],\n",
    "                                            title='Book Value Per Share', markers=True)\n",
    "            fig_book_value_per_share.show()\n",
    "    \"\"\""
   ]
  },
  {
   "cell_type": "code",
   "execution_count": 9,
   "metadata": {},
   "outputs": [
    {
     "data": {
      "text/plain": [
       "' \\n    OLD DEFs\\n    def cashflow_operating_investing_financial (self):\\n        fig_cashflow_operating_investing_financial = px.line(self.df_cashflow_statement, x=self.df_cashflow_statement.index, y=[\\'Cash from operating activities\\', \\'Cash from investing activities\\',\\n                                                                                                \\'Cash from financing activities\\', \\'Free cash flow\\'],\\n                                                            title=\\'Cashflow From Operating/Investing/Financial Activities\\', markers=True)\\n\\n        fig_cashflow_operating_investing_financial.update_traces(\\n            mode=\"markers+lines\", hovertemplate=None)\\n        fig_cashflow_operating_investing_financial.update_layout(\\n            hovermode=\"x\", hoverlabel_namelength=-1)\\n        fig_cashflow_operating_investing_financial.show()\\n        \\n\\n    def cashflow_operating_activities(self):\\n        fig_cashflow_operating_activities = px.line(self.df_cashflow_statement, x=self.df_cashflow_statement.index, y=[\\'Cash from operating activities\\', \\'Funds from operations\\',\\n                                                                                        \\'Changes in working capital\\'],\\n                                                    title=\\'Cash from operating activities + Funds from operations = Cashflow From Operating Activities\\', markers=True)\\n        fig_cashflow_operating_activities.show()\\n\\n    def cashflow_investing_activities (self):\\n        fig_cashflow_investing_activities = px.line(self.df_cashflow_statement, x=self.df_cashflow_statement.index, y=[\\'Cash from investing activities\\', \\'Purchase/sale of business, net\\',\\n                                                                                        \\'Purchase/sale of investments, net\\', \\'Capital expenditures\\', \\'Other investing cash flow items, total\\'],\\n                                                    title=\\'Purchase/sale of business + Purchase/sale of investments + Capital expenditures + Other investing cash flow items = Cash from investing activities\\', markers=True)\\n        fig_cashflow_investing_activities.show()\\n\\n    def graph_template(self, y_axis_data, graph_title):\\n            \\n            #y_axis_list=[\\'Total revenue\\', \\'Cost of goods sold\\', \\'Gross profit\\'] \\n            #graph_title= f\\'{self.company_name} | Total Revenue - Cost Of Goods Sold = Gross Profit\\'\\n            \\n            fig = px.line(self.self.df_cashflow_statement,\\n                            x = self.self.df_cashflow_statement.index, \\n                            y = y_axis_data,\\n                            title = f\\'{self.company_name} | {graph_title}\\',\\n                            markers = True)\\n\\n            fig.update_traces(\\n                mode=\"markers+lines\", hovertemplate=None)\\n            fig.update_layout(\\n                hovermode=\"x\", hoverlabel_namelength=-1)\\n            fig.show()\\n    '"
      ]
     },
     "execution_count": 9,
     "metadata": {},
     "output_type": "execute_result"
    }
   ],
   "source": [
    "#07 CASHFLOW STATEMENT VIZUALIZER CLASS\n",
    "\n",
    "class CashflowStatementVisualizer():\n",
    "\n",
    "    def __init__(self, company_data):\n",
    "\n",
    "        self.company_name = company_data.company_data.loc['company_name'][0] #get company_name from the dataframe\n",
    "        self.df_cashflow_statement = company_data.cashflow_statement.transpose()\n",
    "        self.cashflow_statement_vars()\n",
    "    \n",
    "    def cashflow_statement_vars(self):\n",
    "\n",
    "        self.cash_from_operating_activities_str = \"Cash from operating activities\"\n",
    "        self.funds_from_operations_str = \"Funds from operations\"\n",
    "        self.net_income_cash_flow_str = \"Net income (cash flow)\"\n",
    "        self.depreciation_and_amortization_cash_flow_str = \"Depreciation & amortization (cash flow)\"\n",
    "        self.depreciation_depletion_str = \"Depreciation/depletion\"\n",
    "        self.amortization_str = \"Amortization\"\n",
    "        self.deferred_taxes_cash_flow_str = \"Deferred taxes (cash flow)\"\n",
    "        self.non_cash_items_str = \"Non-cash items\"\n",
    "        self.changes_in_working_capital_str = \"Changes in working capital\"\n",
    "        self.change_in_accounts_receivable_str = \"Change in accounts receivable\"\n",
    "        self.change_in_taxes_payable_str = \"Change in taxes payable\"\n",
    "        self.change_in_accounts_payable_str = \"Change in accounts payable\"\n",
    "        self.change_in_accrued_expenses_str = \"Change in accrued expenses\"\n",
    "        self.change_in_inventories_str = \"Change in inventories\"\n",
    "        self.change_in_other_assets_liabilities_str = \"Change in other assets/liabilities\"\n",
    "        self.cash_from_investing_activities_str = \"Cash from investing activities\"\n",
    "        self.purchase_sale_of_business_net_str = \"Purchase/sale of business, net\"\n",
    "        self.sale_of_fixed_assets_and_businesses_str = \"Sale of fixed assets & businesses\"\n",
    "        self.purchase_acquisition_of_business_str = \"Purchase/acquisition of business\"\n",
    "        self.purchase_sale_of_investments_net_str = \"Purchase/sale of investments, net\"\n",
    "        self.sale_maturity_of_investments_str = \"Sale/maturity of investments\"\n",
    "        self.purchase_of_investments_str = \"Purchase of investments\"\n",
    "        self.capital_expenditures_str = \"Capital expenditures\"\n",
    "        self.capital_expenditures_fixed_assets_str = \"Capital expenditures - fixed assets\"\n",
    "        self.capital_expenditures_other_assets_str = \"Capital expenditures - other assets\"\n",
    "        self.other_investing_cash_flow_items_total_str = \"Other investing cash flow items, total\"\n",
    "        self.investing_activities_other_sources_str = \"Investing activities – other sources\"\n",
    "        self.investing_activities_other_uses_str = \"Investing activities – other uses\"\n",
    "        self.cash_from_financing_activities_str = \"Cash from financing activities\"\n",
    "        self.issuance_retirement_of_stock_net_str = \"Issuance/retirement of stock, net\"\n",
    "        self.sale_of_common_and_preferred_stock_str = \"Sale of common & preferred stock\"\n",
    "        self.repurchase_of_common_and_preferred_stock_str = \"Repurchase of common & preferred stock\"\n",
    "        self.issuance_retirement_of_debt_net_str = \"Issuance/retirement of debt, net\"\n",
    "        self.issuance_retirement_of_long_term_debt_str = \"Issuance/retirement of long term debt\"\n",
    "        self.issuance_of_long_term_debt_str = \"Issuance of long term debt\"\n",
    "        self.reduction_of_long_term_debt_str = \"Reduction of long term debt\"\n",
    "        self.issuance_retirement_of_short_term_debt_str = \"Issuance/retirement of short term debt\"\n",
    "        self.issuance_retirement_of_other_debt_str = \"Issuance/retirement of other debt\"\n",
    "        self.total_cash_dividends_paid_str = \"Total cash dividends paid\"\n",
    "        self.common_dividends_paid_str = \"Common dividends paid\"\n",
    "        self.preferred_dividends_paid_str = \"Preferred dividends paid\"\n",
    "        self.other_financing_cash_flow_items_total_str = \"Other financing cash flow items, total\"\n",
    "        self.financing_activities_other_sources_str = \"Financing activities – other sources\"\n",
    "        self.financing_activities_other_uses_str = \"Financing activities – other uses\"\n",
    "        self.free_cash_flow_str = \"Free cash flow\"\n",
    "\n",
    "    def show_all_visuals(self):\n",
    "        self.cashflow_operating_investing_financial()\n",
    "        self.cashflow_operating_activities()\n",
    "        self.cashflow_investing_activities()\n",
    "        self.cash_from_financing_activities()\n",
    "\n",
    "\n",
    "    def cashflow_operating_investing_financial (self):\n",
    "        # params = ['Cash from operating activities', 'Cash from investing activities','Cash from financing activities', 'Free cash flow']\n",
    "        params = [self.cash_from_operating_activities_str,\n",
    "                self.cash_from_investing_activities_str,\n",
    "                self.cash_from_financing_activities_str,\n",
    "                self.free_cash_flow_str]\n",
    "        title = 'Cashflow From Operating/Investing/Financial Activities'\n",
    "        self.graph_template(y_axis_data=params, graph_title=title)\n",
    "        \n",
    "\n",
    "    def cashflow_operating_activities(self):\n",
    "        # params = ['Cash from operating activities', 'Funds from operations','Changes in working capital']\n",
    "        params = [self.cash_from_operating_activities_str,\n",
    "                self.funds_from_operations_str,\n",
    "                self.changes_in_working_capital_str]\n",
    "        title = 'Cash from operating activities + Funds from operations = Cashflow From Operating Activities'\n",
    "        self.graph_template(y_axis_data=params, graph_title=title)\n",
    "\n",
    "    def cashflow_investing_activities (self):\n",
    "        # params = ['Cash from investing activities', 'Purchase/sale of business, net','Purchase/sale of investments, net', 'Capital expenditures', 'Other investing cash flow items, total']\n",
    "        params = [ self.cash_from_investing_activities_str,\n",
    "                self.purchase_sale_of_business_net_str,\n",
    "                self.purchase_sale_of_investments_net_str,\n",
    "                self.capital_expenditures_str,\n",
    "                self.other_investing_cash_flow_items_total_str,]\n",
    "        title = 'Purchase/sale of business + Purchase/sale of investments + Capital expenditures + Other investing cash flow items = Cash from investing activities'\n",
    "        self.graph_template(y_axis_data=params, graph_title=title)\n",
    "\n",
    "\n",
    "    def cash_from_financing_activities(self):\n",
    "        params = [self.issuance_retirement_of_stock_net_str,\n",
    "                    self.issuance_retirement_of_debt_net_str,\n",
    "                    self.total_cash_dividends_paid_str,\n",
    "                    self.other_financing_cash_flow_items_total_str]\n",
    "        title =  '+'.join(params) + '= Cash from financial activities'\n",
    "        self.graph_template(y_axis_data=params, graph_title=title)\n",
    "\n",
    "\n",
    "    def graph_template(self, y_axis_data, graph_title):\n",
    "            \"\"\"\n",
    "            y_axis_list=['Total revenue', 'Cost of goods sold', 'Gross profit'] \n",
    "            graph_title= f'{self.company_name} | Total Revenue - Cost Of Goods Sold = Gross Profit'\n",
    "            \"\"\"\n",
    "            fig = px.line(self.df_cashflow_statement,\n",
    "                            x = self.df_cashflow_statement.index, \n",
    "                            y = y_axis_data,\n",
    "                            title = f'{self.company_name} | {graph_title}',\n",
    "                            markers = True)\n",
    "\n",
    "            fig.update_traces(\n",
    "                mode=\"markers+lines\", hovertemplate=None)\n",
    "            fig.update_layout(\n",
    "                hovermode=\"x\", hoverlabel_namelength=-1, font=dict(size=10))\n",
    "            fig.show()\n",
    "\n",
    "    \n",
    "\n",
    "\"\"\" \n",
    "    OLD DEFs\n",
    "    def cashflow_operating_investing_financial (self):\n",
    "        fig_cashflow_operating_investing_financial = px.line(self.df_cashflow_statement, x=self.df_cashflow_statement.index, y=['Cash from operating activities', 'Cash from investing activities',\n",
    "                                                                                                'Cash from financing activities', 'Free cash flow'],\n",
    "                                                            title='Cashflow From Operating/Investing/Financial Activities', markers=True)\n",
    "\n",
    "        fig_cashflow_operating_investing_financial.update_traces(\n",
    "            mode=\"markers+lines\", hovertemplate=None)\n",
    "        fig_cashflow_operating_investing_financial.update_layout(\n",
    "            hovermode=\"x\", hoverlabel_namelength=-1)\n",
    "        fig_cashflow_operating_investing_financial.show()\n",
    "        \n",
    "\n",
    "    def cashflow_operating_activities(self):\n",
    "        fig_cashflow_operating_activities = px.line(self.df_cashflow_statement, x=self.df_cashflow_statement.index, y=['Cash from operating activities', 'Funds from operations',\n",
    "                                                                                        'Changes in working capital'],\n",
    "                                                    title='Cash from operating activities + Funds from operations = Cashflow From Operating Activities', markers=True)\n",
    "        fig_cashflow_operating_activities.show()\n",
    "\n",
    "    def cashflow_investing_activities (self):\n",
    "        fig_cashflow_investing_activities = px.line(self.df_cashflow_statement, x=self.df_cashflow_statement.index, y=['Cash from investing activities', 'Purchase/sale of business, net',\n",
    "                                                                                        'Purchase/sale of investments, net', 'Capital expenditures', 'Other investing cash flow items, total'],\n",
    "                                                    title='Purchase/sale of business + Purchase/sale of investments + Capital expenditures + Other investing cash flow items = Cash from investing activities', markers=True)\n",
    "        fig_cashflow_investing_activities.show()\n",
    "\n",
    "    def graph_template(self, y_axis_data, graph_title):\n",
    "            \n",
    "            #y_axis_list=['Total revenue', 'Cost of goods sold', 'Gross profit'] \n",
    "            #graph_title= f'{self.company_name} | Total Revenue - Cost Of Goods Sold = Gross Profit'\n",
    "            \n",
    "            fig = px.line(self.self.df_cashflow_statement,\n",
    "                            x = self.self.df_cashflow_statement.index, \n",
    "                            y = y_axis_data,\n",
    "                            title = f'{self.company_name} | {graph_title}',\n",
    "                            markers = True)\n",
    "\n",
    "            fig.update_traces(\n",
    "                mode=\"markers+lines\", hovertemplate=None)\n",
    "            fig.update_layout(\n",
    "                hovermode=\"x\", hoverlabel_namelength=-1)\n",
    "            fig.show()\n",
    "    \"\"\"\n"
   ]
  },
  {
   "cell_type": "code",
   "execution_count": 10,
   "metadata": {},
   "outputs": [],
   "source": [
    "#07 STATISTICS/RATIOS VIZUALIZER CLASS\n",
    "\n",
    "class StatisticsRatiosVisualizer():\n",
    "\n",
    "    def __init__(self, company_data):\n",
    "        self.company_name = company_data.company_data.loc['company_name'][0] #get company_name from the dataframe\n",
    "        self.df_statistics = company_data.statistics.transpose()\n",
    "        self.statistics_ratios_vars()\n",
    "\n",
    "    def statistics_ratios_vars(self):\n",
    "        self.total_common_shares_outstanding_str = \"Total common shares outstanding\"\n",
    "        self.float_shares_outstanding_str = \"Float shares outstanding\"\n",
    "        self.number_of_employees_str = \"Number of employees\"\n",
    "        self.number_of_shareholders_str = \"Number of shareholders\"\n",
    "        self.price_to_earnings_ratio_str = \"Price to earnings ratio\"\n",
    "        self.price_to_sales_ratio_str = \"Price to sales ratio\"\n",
    "        self.price_to_cash_flow_ratio_str = \"Price to cash flow ratio\"\n",
    "        self.price_to_book_ratio_str = \"Price to book ratio\"\n",
    "        self.enterprise_value_str = \"Enterprise value\"\n",
    "        self.enterprise_value_to_ebitda_ratio_str = \"Enterprise value to EBITDA ratio\"\n",
    "        self.return_on_assets_percent_str = \"Return on assets %\"\n",
    "        self.return_on_equity_percent_str = \"Return on equity %\"\n",
    "        self.return_on_invested_capital_percent_str = \"Return on invested capital %\"\n",
    "        self.gross_margin_percent_str = \"Gross margin %\"\n",
    "        self.operating_margin_percent_str = \"Operating margin %\"\n",
    "        self.ebitda_margin_percent_str = \"EBITDA margin %\"\n",
    "        self.net_margin_percent_str = \"Net margin %\"\n",
    "        self.quick_ratio_str = \"Quick ratio\"\n",
    "        self.current_ratio_str = \"Current ratio\"\n",
    "        self.inventory_turnover_str = \"Inventory turnover\"\n",
    "        self.asset_turnover_str = \"Asset turnover\"\n",
    "        self.debt_to_assets_ratio_str = \"Debt to assets ratio\"\n",
    "        self.debt_to_equity_ratio_str = \"Debt to equity ratio\"\n",
    "        self.long_term_debt_to_total_assets_ratio_str = \"Long term debt to total assets ratio\"\n",
    "\n",
    "    def show_all_visuals(self):\n",
    "        self.shares_outstanding()\n",
    "        self.enterprice_values()\n",
    "        self.numer_of_employees_shareholders()\n",
    "        self.price_ratios()\n",
    "        self.return_ratios()\n",
    "        self.margins()\n",
    "        self.dept_ratios()\n",
    "        self.liquidity_ratios()\n",
    "\n",
    "    def shares_outstanding(self):\n",
    "        params = ['Total common shares outstanding', 'Float shares outstanding']\n",
    "        title = 'Number of Shares'\n",
    "        self.graph_template(y_axis_data=params, graph_title=title)\n",
    "    \n",
    "    def enterprice_values(self):\n",
    "        params = ['Enterprise value']\n",
    "        title = 'Enterprise value'\n",
    "        self.graph_template(y_axis_data=params, graph_title=title)\n",
    "    \n",
    "    def numer_of_employees_shareholders(self):\n",
    "        params = ['Number of employees', 'Number of shareholders']\n",
    "        title = 'Number of employees/shareholders'\n",
    "        self.graph_template(y_axis_data=params, graph_title=title)\n",
    "\n",
    "    def price_ratios(self):\n",
    "        params = ['Price to earnings ratio', 'Price to sales ratio', 'Price to cash flow ratio', 'Enterprise value to EBITDA ratio','Price to book ratio']\n",
    "        title = 'Price Ratios'\n",
    "        self.graph_template(y_axis_data=params, graph_title=title)\n",
    "\n",
    "    def return_ratios(self):\n",
    "        params = ['Return on assets %', 'Return on equity %', 'Return on invested capital %']\n",
    "        title = 'Return Ratios'\n",
    "        self.graph_template(y_axis_data=params, graph_title=title)\n",
    "\n",
    "    def margins(self):\n",
    "        params = ['Gross margin %', 'EBITDA margin %', 'Net margin %', 'Operating margin %']\n",
    "        title = 'Margins'\n",
    "        self.graph_template(y_axis_data=params, graph_title=title)\n",
    "\n",
    "    def dept_ratios(self):\n",
    "        params = ['Debt to assets ratio', 'Debt to equity ratio', 'Long term debt to total assets ratio']\n",
    "        title = 'Dept Ratios'\n",
    "        self.graph_template(y_axis_data=params, graph_title=title)\n",
    "\n",
    "    def liquidity_ratios(self):\n",
    "        params = ['Quick ratio', 'Current ratio', 'Inventory turnover', 'Asset turnover']\n",
    "        title = 'Liquidity Ratios'\n",
    "        self.graph_template(y_axis_data=params, graph_title=title)\n",
    "\n",
    "    def graph_template(self, y_axis_data, graph_title):\n",
    "            \"\"\"\n",
    "            y_axis_list=['Total revenue', 'Cost of goods sold', 'Gross profit'] \n",
    "            graph_title= f'{self.company_name} | Total Revenue - Cost Of Goods Sold = Gross Profit'\n",
    "            \"\"\"\n",
    "            fig = px.line(self.df_statistics,\n",
    "                            x = self.df_statistics.index, \n",
    "                            y = y_axis_data,\n",
    "                            title = f'{self.company_name} | {graph_title}',\n",
    "                            markers = True)\n",
    "\n",
    "            fig.update_traces(\n",
    "                mode=\"markers+lines\", hovertemplate=None)\n",
    "            fig.update_layout(\n",
    "                hovermode=\"x\", hoverlabel_namelength=-1)\n",
    "            fig.show()\n",
    "\n",
    "\n",
    "    \"\"\" OLD DEFs\n",
    "    def __init__(self, company_data):\n",
    "\n",
    "        self.company_name = company_data.company_data.loc['company_name'][0] #get company_name from the dataframe\n",
    "        self.df_statistics = company_data.statistics.transpose()\n",
    "\n",
    "    def shares_outstanding(self):\n",
    "        fig_shares_outstanding = px.line(self.df_statistics, x=self.df_statistics.index, y=[\n",
    "                                        'Total common shares outstanding', 'Float shares outstanding'], title='Number of Shares', markers=True)\n",
    "        fig_shares_outstanding.show()\n",
    "    \n",
    "    def enterprice_values(self):\n",
    "\n",
    "        fig_enterprice_values = px.line(self.df_statistics, x=self.df_statistics.index, y=[\n",
    "                                        'Enterprise value'], title='Enterprise value', markers=True)\n",
    "        fig_enterprice_values.show()\n",
    "    \n",
    "    def numer_of_employees_shareholders(self):\n",
    "\n",
    "        fig_numer_of_employees_shareholders = px.line(self.df_statistics, x=self.df_statistics.index, y=[\n",
    "                                                    'Number of employees', 'Number of shareholders'], \n",
    "                                                    title='Number of employees/shareholders', markers=True)\n",
    "        fig_numer_of_employees_shareholders.show()\n",
    "\n",
    "    def price_ratios(self):\n",
    "        fig_price_ratios = px.line(self.df_statistics, x=self.df_statistics.index, y=['Price to earnings ratio', 'Price to sales ratio', 'Price to cash flow ratio', 'Enterprise value to EBITDA ratio',\n",
    "                                                                            'Price to book ratio'], title='Price Ratios', markers=True)\n",
    "        fig_price_ratios.show()\n",
    "\n",
    "    def return_ratios(self):\n",
    "        fig_return_ratios = px.line(self.df_statistics, x=self.df_statistics.index, y=['Return on assets %', 'Return on equity %', 'Return on invested capital %'],\n",
    "                                    title='Return Ratios', markers=True)\n",
    "        fig_return_ratios.show()\n",
    "\n",
    "    def margins(self):\n",
    "        fig_margins = px.line(self.df_statistics, x=self.df_statistics.index, y=[\n",
    "                            'Gross margin %', 'EBITDA margin %', 'Net margin %', 'Operating margin %'], title='Margins', markers=True)\n",
    "        fig_margins.show()\n",
    "\n",
    "    def dept_ratios(self):\n",
    "        fig_dept_ratios = px.line(self.df_statistics, x=self.df_statistics.index, y=[\n",
    "                                'Debt to assets ratio', 'Debt to equity ratio', 'Long term debt to total assets ratio'], title='Dept Ratios', markers=True)\n",
    "        fig_dept_ratios.show()\n",
    "\n",
    "    def liquidity_ratios(self):\n",
    "        fig_liquidity_ratios = px.line(self.df_statistics, x=self.df_statistics.index, y=[\n",
    "                                    'Quick ratio', 'Current ratio', 'Inventory turnover', 'Asset turnover'], title='Liquidity Ratios', markers=True)\n",
    "        fig_liquidity_ratios.show()\n",
    "    \"\"\""
   ]
  },
  {
   "cell_type": "code",
   "execution_count": 11,
   "metadata": {},
   "outputs": [
    {
     "name": "stderr",
     "output_type": "stream",
     "text": [
      "INFO:root:Load NASDAQ-AAPL/Income-Statement from DataBase\n",
      "INFO:root:Load NASDAQ-AAPL/Balance-Sheet from DataBase\n",
      "INFO:root:Load NASDAQ-AAPL/Cashflow-Statement from DataBase\n",
      "INFO:root:Load NASDAQ-AAPL/Ratios from DataBase\n",
      "INFO:root:Load NASDAQ-AAPL/Company-Data from DataBase\n",
      "INFO:root:Load NASDAQ-TSLA/Income-Statement from DataBase\n",
      "INFO:root:Load NASDAQ-TSLA/Balance-Sheet from DataBase\n",
      "INFO:root:Load NASDAQ-TSLA/Cashflow-Statement from DataBase\n",
      "INFO:root:Load NASDAQ-TSLA/Ratios from DataBase\n",
      "INFO:root:Load NASDAQ-TSLA/Company-Data from DataBase\n",
      "INFO:root:Load NYSE-BRK.A/Income-Statement from DataBase\n",
      "INFO:root:Load NYSE-BRK.A/Balance-Sheet from DataBase\n",
      "INFO:root:Load NYSE-BRK.A/Cashflow-Statement from DataBase\n",
      "INFO:root:Load NYSE-BRK.A/Ratios from DataBase\n",
      "INFO:root:Load NYSE-BRK.A/Company-Data from DataBase\n",
      "INFO:root:Load NYSE-BRK.B/Income-Statement from DataBase\n",
      "INFO:root:Load NYSE-BRK.B/Balance-Sheet from DataBase\n",
      "INFO:root:Load NYSE-BRK.B/Cashflow-Statement from DataBase\n",
      "INFO:root:Load NYSE-BRK.B/Ratios from DataBase\n",
      "INFO:root:Load NYSE-BRK.B/Company-Data from DataBase\n",
      "INFO:root:Load NYSE-KO/Income-Statement from DataBase\n",
      "INFO:root:Load NYSE-KO/Balance-Sheet from DataBase\n",
      "INFO:root:Load NYSE-KO/Cashflow-Statement from DataBase\n",
      "INFO:root:Load NYSE-KO/Ratios from DataBase\n",
      "INFO:root:Load NYSE-KO/Company-Data from DataBase\n",
      "INFO:root:Load NYSE-BABA/Income-Statement from DataBase\n",
      "INFO:root:Load NYSE-BABA/Balance-Sheet from DataBase\n",
      "INFO:root:Load NYSE-BABA/Cashflow-Statement from DataBase\n",
      "INFO:root:Load NYSE-BABA/Ratios from DataBase\n",
      "INFO:root:Load NYSE-BABA/Company-Data from DataBase\n"
     ]
    }
   ],
   "source": [
    "#08 INPUT COMPANIES DATA CELL\n",
    "\n",
    "companies = []\n",
    "companies_urls = ['NASDAQ-AAPL', 'NASDAQ-TSLA', 'NYSE-BRK.A', 'NYSE-BRK.B', 'NYSE-KO', 'NYSE-BABA']\n",
    "\n",
    "for url in companies_urls:\n",
    "\n",
    "    #get the data from DataBase\n",
    "    company_data = DataBase()\n",
    "    company_data.GetFromDataBase(company_url=url)\n",
    "    companies.append(company_data)\n",
    "\n",
    "    #if data is not loaded from Database\n",
    "    if company_data.income_statement is None or \\\n",
    "        company_data.balanse_sheet is None or \\\n",
    "        company_data.cashflow_statement is None or \\\n",
    "        company_data.statistics is None or \\\n",
    "        company_data.company_data is None:\n",
    "        \n",
    "        #get the data from the website\n",
    "        company_data = ScrapeTrendingView(company_url=url)\n",
    "        companies.append(company_data)\n",
    "\n",
    "        #store the scraped data to DataBase\n",
    "        DataBase.AddToDatabase(data=company_data)\n",
    "\n",
    "\n",
    "#####################################################################\n",
    "# companies = []\n",
    "# company_urls = ['NASDAQ-AAPL', 'NASDAQ-TSLA', 'NYSE-BRK.A', 'NYSE-BRK.B']\n",
    "# for url in company_urls:\n",
    "#     company_data = ScrapeTrendingView(company_url=url)\n",
    "#     companies.append(company_data)\n",
    "\n",
    "# for company in companies:\n",
    "#     if company.load_from_database == False:\n",
    "#         DataBase.AddToDatabase(data=company)\n",
    "\n",
    "\n",
    "\n",
    "#####################################################################\n",
    "# apple = ScrapeTrendingView(company_url='NASDAQ-AAPL')\n",
    "# apple.income_statement\n",
    "# apple.balanse_sheet\n",
    "# apple.cashflow_statement\n",
    "# apple.statistics\n",
    "\n"
   ]
  },
  {
   "cell_type": "code",
   "execution_count": 12,
   "metadata": {},
   "outputs": [
    {
     "data": {
      "application/vnd.plotly.v1+json": {
       "config": {
        "plotlyServerURL": "https://plot.ly"
       },
       "data": [
        {
         "legendgroup": "Total common shares outstanding",
         "line": {
          "color": "#636efa",
          "dash": "solid"
         },
         "marker": {
          "symbol": "circle"
         },
         "mode": "markers+lines",
         "name": "Total common shares outstanding",
         "orientation": "v",
         "showlegend": true,
         "type": "scatter",
         "x": [
          "2016",
          "2017",
          "2018",
          "2019",
          "2020",
          "2021",
          "2022",
          "Current"
         ],
         "xaxis": "x",
         "y": [
          21340000000,
          20500000000,
          19020000000,
          17770000000,
          16980000000,
          16430000000,
          15940000000,
          15910000000
         ],
         "yaxis": "y"
        },
        {
         "legendgroup": "Float shares outstanding",
         "line": {
          "color": "#EF553B",
          "dash": "solid"
         },
         "marker": {
          "symbol": "circle"
         },
         "mode": "markers+lines",
         "name": "Float shares outstanding",
         "orientation": "v",
         "showlegend": true,
         "type": "scatter",
         "x": [
          "2016",
          "2017",
          "2018",
          "2019",
          "2020",
          "2021",
          "2022",
          "Current"
         ],
         "xaxis": "x",
         "y": [
          null,
          null,
          null,
          null,
          null,
          null,
          null,
          null
         ],
         "yaxis": "y"
        }
       ],
       "layout": {
        "hoverlabel": {
         "namelength": -1
        },
        "hovermode": "x",
        "legend": {
         "title": {
          "text": "variable"
         },
         "tracegroupgap": 0
        },
        "template": {
         "data": {
          "bar": [
           {
            "error_x": {
             "color": "#2a3f5f"
            },
            "error_y": {
             "color": "#2a3f5f"
            },
            "marker": {
             "line": {
              "color": "#E5ECF6",
              "width": 0.5
             },
             "pattern": {
              "fillmode": "overlay",
              "size": 10,
              "solidity": 0.2
             }
            },
            "type": "bar"
           }
          ],
          "barpolar": [
           {
            "marker": {
             "line": {
              "color": "#E5ECF6",
              "width": 0.5
             },
             "pattern": {
              "fillmode": "overlay",
              "size": 10,
              "solidity": 0.2
             }
            },
            "type": "barpolar"
           }
          ],
          "carpet": [
           {
            "aaxis": {
             "endlinecolor": "#2a3f5f",
             "gridcolor": "white",
             "linecolor": "white",
             "minorgridcolor": "white",
             "startlinecolor": "#2a3f5f"
            },
            "baxis": {
             "endlinecolor": "#2a3f5f",
             "gridcolor": "white",
             "linecolor": "white",
             "minorgridcolor": "white",
             "startlinecolor": "#2a3f5f"
            },
            "type": "carpet"
           }
          ],
          "choropleth": [
           {
            "colorbar": {
             "outlinewidth": 0,
             "ticks": ""
            },
            "type": "choropleth"
           }
          ],
          "contour": [
           {
            "colorbar": {
             "outlinewidth": 0,
             "ticks": ""
            },
            "colorscale": [
             [
              0,
              "#0d0887"
             ],
             [
              0.1111111111111111,
              "#46039f"
             ],
             [
              0.2222222222222222,
              "#7201a8"
             ],
             [
              0.3333333333333333,
              "#9c179e"
             ],
             [
              0.4444444444444444,
              "#bd3786"
             ],
             [
              0.5555555555555556,
              "#d8576b"
             ],
             [
              0.6666666666666666,
              "#ed7953"
             ],
             [
              0.7777777777777778,
              "#fb9f3a"
             ],
             [
              0.8888888888888888,
              "#fdca26"
             ],
             [
              1,
              "#f0f921"
             ]
            ],
            "type": "contour"
           }
          ],
          "contourcarpet": [
           {
            "colorbar": {
             "outlinewidth": 0,
             "ticks": ""
            },
            "type": "contourcarpet"
           }
          ],
          "heatmap": [
           {
            "colorbar": {
             "outlinewidth": 0,
             "ticks": ""
            },
            "colorscale": [
             [
              0,
              "#0d0887"
             ],
             [
              0.1111111111111111,
              "#46039f"
             ],
             [
              0.2222222222222222,
              "#7201a8"
             ],
             [
              0.3333333333333333,
              "#9c179e"
             ],
             [
              0.4444444444444444,
              "#bd3786"
             ],
             [
              0.5555555555555556,
              "#d8576b"
             ],
             [
              0.6666666666666666,
              "#ed7953"
             ],
             [
              0.7777777777777778,
              "#fb9f3a"
             ],
             [
              0.8888888888888888,
              "#fdca26"
             ],
             [
              1,
              "#f0f921"
             ]
            ],
            "type": "heatmap"
           }
          ],
          "heatmapgl": [
           {
            "colorbar": {
             "outlinewidth": 0,
             "ticks": ""
            },
            "colorscale": [
             [
              0,
              "#0d0887"
             ],
             [
              0.1111111111111111,
              "#46039f"
             ],
             [
              0.2222222222222222,
              "#7201a8"
             ],
             [
              0.3333333333333333,
              "#9c179e"
             ],
             [
              0.4444444444444444,
              "#bd3786"
             ],
             [
              0.5555555555555556,
              "#d8576b"
             ],
             [
              0.6666666666666666,
              "#ed7953"
             ],
             [
              0.7777777777777778,
              "#fb9f3a"
             ],
             [
              0.8888888888888888,
              "#fdca26"
             ],
             [
              1,
              "#f0f921"
             ]
            ],
            "type": "heatmapgl"
           }
          ],
          "histogram": [
           {
            "marker": {
             "pattern": {
              "fillmode": "overlay",
              "size": 10,
              "solidity": 0.2
             }
            },
            "type": "histogram"
           }
          ],
          "histogram2d": [
           {
            "colorbar": {
             "outlinewidth": 0,
             "ticks": ""
            },
            "colorscale": [
             [
              0,
              "#0d0887"
             ],
             [
              0.1111111111111111,
              "#46039f"
             ],
             [
              0.2222222222222222,
              "#7201a8"
             ],
             [
              0.3333333333333333,
              "#9c179e"
             ],
             [
              0.4444444444444444,
              "#bd3786"
             ],
             [
              0.5555555555555556,
              "#d8576b"
             ],
             [
              0.6666666666666666,
              "#ed7953"
             ],
             [
              0.7777777777777778,
              "#fb9f3a"
             ],
             [
              0.8888888888888888,
              "#fdca26"
             ],
             [
              1,
              "#f0f921"
             ]
            ],
            "type": "histogram2d"
           }
          ],
          "histogram2dcontour": [
           {
            "colorbar": {
             "outlinewidth": 0,
             "ticks": ""
            },
            "colorscale": [
             [
              0,
              "#0d0887"
             ],
             [
              0.1111111111111111,
              "#46039f"
             ],
             [
              0.2222222222222222,
              "#7201a8"
             ],
             [
              0.3333333333333333,
              "#9c179e"
             ],
             [
              0.4444444444444444,
              "#bd3786"
             ],
             [
              0.5555555555555556,
              "#d8576b"
             ],
             [
              0.6666666666666666,
              "#ed7953"
             ],
             [
              0.7777777777777778,
              "#fb9f3a"
             ],
             [
              0.8888888888888888,
              "#fdca26"
             ],
             [
              1,
              "#f0f921"
             ]
            ],
            "type": "histogram2dcontour"
           }
          ],
          "mesh3d": [
           {
            "colorbar": {
             "outlinewidth": 0,
             "ticks": ""
            },
            "type": "mesh3d"
           }
          ],
          "parcoords": [
           {
            "line": {
             "colorbar": {
              "outlinewidth": 0,
              "ticks": ""
             }
            },
            "type": "parcoords"
           }
          ],
          "pie": [
           {
            "automargin": true,
            "type": "pie"
           }
          ],
          "scatter": [
           {
            "marker": {
             "colorbar": {
              "outlinewidth": 0,
              "ticks": ""
             }
            },
            "type": "scatter"
           }
          ],
          "scatter3d": [
           {
            "line": {
             "colorbar": {
              "outlinewidth": 0,
              "ticks": ""
             }
            },
            "marker": {
             "colorbar": {
              "outlinewidth": 0,
              "ticks": ""
             }
            },
            "type": "scatter3d"
           }
          ],
          "scattercarpet": [
           {
            "marker": {
             "colorbar": {
              "outlinewidth": 0,
              "ticks": ""
             }
            },
            "type": "scattercarpet"
           }
          ],
          "scattergeo": [
           {
            "marker": {
             "colorbar": {
              "outlinewidth": 0,
              "ticks": ""
             }
            },
            "type": "scattergeo"
           }
          ],
          "scattergl": [
           {
            "marker": {
             "colorbar": {
              "outlinewidth": 0,
              "ticks": ""
             }
            },
            "type": "scattergl"
           }
          ],
          "scattermapbox": [
           {
            "marker": {
             "colorbar": {
              "outlinewidth": 0,
              "ticks": ""
             }
            },
            "type": "scattermapbox"
           }
          ],
          "scatterpolar": [
           {
            "marker": {
             "colorbar": {
              "outlinewidth": 0,
              "ticks": ""
             }
            },
            "type": "scatterpolar"
           }
          ],
          "scatterpolargl": [
           {
            "marker": {
             "colorbar": {
              "outlinewidth": 0,
              "ticks": ""
             }
            },
            "type": "scatterpolargl"
           }
          ],
          "scatterternary": [
           {
            "marker": {
             "colorbar": {
              "outlinewidth": 0,
              "ticks": ""
             }
            },
            "type": "scatterternary"
           }
          ],
          "surface": [
           {
            "colorbar": {
             "outlinewidth": 0,
             "ticks": ""
            },
            "colorscale": [
             [
              0,
              "#0d0887"
             ],
             [
              0.1111111111111111,
              "#46039f"
             ],
             [
              0.2222222222222222,
              "#7201a8"
             ],
             [
              0.3333333333333333,
              "#9c179e"
             ],
             [
              0.4444444444444444,
              "#bd3786"
             ],
             [
              0.5555555555555556,
              "#d8576b"
             ],
             [
              0.6666666666666666,
              "#ed7953"
             ],
             [
              0.7777777777777778,
              "#fb9f3a"
             ],
             [
              0.8888888888888888,
              "#fdca26"
             ],
             [
              1,
              "#f0f921"
             ]
            ],
            "type": "surface"
           }
          ],
          "table": [
           {
            "cells": {
             "fill": {
              "color": "#EBF0F8"
             },
             "line": {
              "color": "white"
             }
            },
            "header": {
             "fill": {
              "color": "#C8D4E3"
             },
             "line": {
              "color": "white"
             }
            },
            "type": "table"
           }
          ]
         },
         "layout": {
          "annotationdefaults": {
           "arrowcolor": "#2a3f5f",
           "arrowhead": 0,
           "arrowwidth": 1
          },
          "autotypenumbers": "strict",
          "coloraxis": {
           "colorbar": {
            "outlinewidth": 0,
            "ticks": ""
           }
          },
          "colorscale": {
           "diverging": [
            [
             0,
             "#8e0152"
            ],
            [
             0.1,
             "#c51b7d"
            ],
            [
             0.2,
             "#de77ae"
            ],
            [
             0.3,
             "#f1b6da"
            ],
            [
             0.4,
             "#fde0ef"
            ],
            [
             0.5,
             "#f7f7f7"
            ],
            [
             0.6,
             "#e6f5d0"
            ],
            [
             0.7,
             "#b8e186"
            ],
            [
             0.8,
             "#7fbc41"
            ],
            [
             0.9,
             "#4d9221"
            ],
            [
             1,
             "#276419"
            ]
           ],
           "sequential": [
            [
             0,
             "#0d0887"
            ],
            [
             0.1111111111111111,
             "#46039f"
            ],
            [
             0.2222222222222222,
             "#7201a8"
            ],
            [
             0.3333333333333333,
             "#9c179e"
            ],
            [
             0.4444444444444444,
             "#bd3786"
            ],
            [
             0.5555555555555556,
             "#d8576b"
            ],
            [
             0.6666666666666666,
             "#ed7953"
            ],
            [
             0.7777777777777778,
             "#fb9f3a"
            ],
            [
             0.8888888888888888,
             "#fdca26"
            ],
            [
             1,
             "#f0f921"
            ]
           ],
           "sequentialminus": [
            [
             0,
             "#0d0887"
            ],
            [
             0.1111111111111111,
             "#46039f"
            ],
            [
             0.2222222222222222,
             "#7201a8"
            ],
            [
             0.3333333333333333,
             "#9c179e"
            ],
            [
             0.4444444444444444,
             "#bd3786"
            ],
            [
             0.5555555555555556,
             "#d8576b"
            ],
            [
             0.6666666666666666,
             "#ed7953"
            ],
            [
             0.7777777777777778,
             "#fb9f3a"
            ],
            [
             0.8888888888888888,
             "#fdca26"
            ],
            [
             1,
             "#f0f921"
            ]
           ]
          },
          "colorway": [
           "#636efa",
           "#EF553B",
           "#00cc96",
           "#ab63fa",
           "#FFA15A",
           "#19d3f3",
           "#FF6692",
           "#B6E880",
           "#FF97FF",
           "#FECB52"
          ],
          "font": {
           "color": "#2a3f5f"
          },
          "geo": {
           "bgcolor": "white",
           "lakecolor": "white",
           "landcolor": "#E5ECF6",
           "showlakes": true,
           "showland": true,
           "subunitcolor": "white"
          },
          "hoverlabel": {
           "align": "left"
          },
          "hovermode": "closest",
          "mapbox": {
           "style": "light"
          },
          "paper_bgcolor": "white",
          "plot_bgcolor": "#E5ECF6",
          "polar": {
           "angularaxis": {
            "gridcolor": "white",
            "linecolor": "white",
            "ticks": ""
           },
           "bgcolor": "#E5ECF6",
           "radialaxis": {
            "gridcolor": "white",
            "linecolor": "white",
            "ticks": ""
           }
          },
          "scene": {
           "xaxis": {
            "backgroundcolor": "#E5ECF6",
            "gridcolor": "white",
            "gridwidth": 2,
            "linecolor": "white",
            "showbackground": true,
            "ticks": "",
            "zerolinecolor": "white"
           },
           "yaxis": {
            "backgroundcolor": "#E5ECF6",
            "gridcolor": "white",
            "gridwidth": 2,
            "linecolor": "white",
            "showbackground": true,
            "ticks": "",
            "zerolinecolor": "white"
           },
           "zaxis": {
            "backgroundcolor": "#E5ECF6",
            "gridcolor": "white",
            "gridwidth": 2,
            "linecolor": "white",
            "showbackground": true,
            "ticks": "",
            "zerolinecolor": "white"
           }
          },
          "shapedefaults": {
           "line": {
            "color": "#2a3f5f"
           }
          },
          "ternary": {
           "aaxis": {
            "gridcolor": "white",
            "linecolor": "white",
            "ticks": ""
           },
           "baxis": {
            "gridcolor": "white",
            "linecolor": "white",
            "ticks": ""
           },
           "bgcolor": "#E5ECF6",
           "caxis": {
            "gridcolor": "white",
            "linecolor": "white",
            "ticks": ""
           }
          },
          "title": {
           "x": 0.05
          },
          "xaxis": {
           "automargin": true,
           "gridcolor": "white",
           "linecolor": "white",
           "ticks": "",
           "title": {
            "standoff": 15
           },
           "zerolinecolor": "white",
           "zerolinewidth": 2
          },
          "yaxis": {
           "automargin": true,
           "gridcolor": "white",
           "linecolor": "white",
           "ticks": "",
           "title": {
            "standoff": 15
           },
           "zerolinecolor": "white",
           "zerolinewidth": 2
          }
         }
        },
        "title": {
         "text": "APPLE INC | Number of Shares"
        },
        "xaxis": {
         "anchor": "y",
         "domain": [
          0,
          1
         ],
         "title": {
          "text": "index"
         }
        },
        "yaxis": {
         "anchor": "x",
         "domain": [
          0,
          1
         ],
         "title": {
          "text": "value"
         }
        }
       }
      }
     },
     "metadata": {},
     "output_type": "display_data"
    },
    {
     "data": {
      "application/vnd.plotly.v1+json": {
       "config": {
        "plotlyServerURL": "https://plot.ly"
       },
       "data": [
        {
         "legendgroup": "Enterprise value",
         "line": {
          "color": "#636efa",
          "dash": "solid"
         },
         "marker": {
          "symbol": "circle"
         },
         "mode": "markers+lines",
         "name": "Enterprise value",
         "orientation": "v",
         "showlegend": true,
         "type": "scatter",
         "x": [
          "2016",
          "2017",
          "2018",
          "2019",
          "2020",
          "2021",
          "2022",
          "Current"
         ],
         "xaxis": "x",
         "y": [
          639810000000,
          850890000000,
          1180000000000,
          1020000000000,
          2000000000000,
          2550000000000,
          2540000000000,
          2290000000000
         ],
         "yaxis": "y"
        }
       ],
       "layout": {
        "hoverlabel": {
         "namelength": -1
        },
        "hovermode": "x",
        "legend": {
         "title": {
          "text": "variable"
         },
         "tracegroupgap": 0
        },
        "template": {
         "data": {
          "bar": [
           {
            "error_x": {
             "color": "#2a3f5f"
            },
            "error_y": {
             "color": "#2a3f5f"
            },
            "marker": {
             "line": {
              "color": "#E5ECF6",
              "width": 0.5
             },
             "pattern": {
              "fillmode": "overlay",
              "size": 10,
              "solidity": 0.2
             }
            },
            "type": "bar"
           }
          ],
          "barpolar": [
           {
            "marker": {
             "line": {
              "color": "#E5ECF6",
              "width": 0.5
             },
             "pattern": {
              "fillmode": "overlay",
              "size": 10,
              "solidity": 0.2
             }
            },
            "type": "barpolar"
           }
          ],
          "carpet": [
           {
            "aaxis": {
             "endlinecolor": "#2a3f5f",
             "gridcolor": "white",
             "linecolor": "white",
             "minorgridcolor": "white",
             "startlinecolor": "#2a3f5f"
            },
            "baxis": {
             "endlinecolor": "#2a3f5f",
             "gridcolor": "white",
             "linecolor": "white",
             "minorgridcolor": "white",
             "startlinecolor": "#2a3f5f"
            },
            "type": "carpet"
           }
          ],
          "choropleth": [
           {
            "colorbar": {
             "outlinewidth": 0,
             "ticks": ""
            },
            "type": "choropleth"
           }
          ],
          "contour": [
           {
            "colorbar": {
             "outlinewidth": 0,
             "ticks": ""
            },
            "colorscale": [
             [
              0,
              "#0d0887"
             ],
             [
              0.1111111111111111,
              "#46039f"
             ],
             [
              0.2222222222222222,
              "#7201a8"
             ],
             [
              0.3333333333333333,
              "#9c179e"
             ],
             [
              0.4444444444444444,
              "#bd3786"
             ],
             [
              0.5555555555555556,
              "#d8576b"
             ],
             [
              0.6666666666666666,
              "#ed7953"
             ],
             [
              0.7777777777777778,
              "#fb9f3a"
             ],
             [
              0.8888888888888888,
              "#fdca26"
             ],
             [
              1,
              "#f0f921"
             ]
            ],
            "type": "contour"
           }
          ],
          "contourcarpet": [
           {
            "colorbar": {
             "outlinewidth": 0,
             "ticks": ""
            },
            "type": "contourcarpet"
           }
          ],
          "heatmap": [
           {
            "colorbar": {
             "outlinewidth": 0,
             "ticks": ""
            },
            "colorscale": [
             [
              0,
              "#0d0887"
             ],
             [
              0.1111111111111111,
              "#46039f"
             ],
             [
              0.2222222222222222,
              "#7201a8"
             ],
             [
              0.3333333333333333,
              "#9c179e"
             ],
             [
              0.4444444444444444,
              "#bd3786"
             ],
             [
              0.5555555555555556,
              "#d8576b"
             ],
             [
              0.6666666666666666,
              "#ed7953"
             ],
             [
              0.7777777777777778,
              "#fb9f3a"
             ],
             [
              0.8888888888888888,
              "#fdca26"
             ],
             [
              1,
              "#f0f921"
             ]
            ],
            "type": "heatmap"
           }
          ],
          "heatmapgl": [
           {
            "colorbar": {
             "outlinewidth": 0,
             "ticks": ""
            },
            "colorscale": [
             [
              0,
              "#0d0887"
             ],
             [
              0.1111111111111111,
              "#46039f"
             ],
             [
              0.2222222222222222,
              "#7201a8"
             ],
             [
              0.3333333333333333,
              "#9c179e"
             ],
             [
              0.4444444444444444,
              "#bd3786"
             ],
             [
              0.5555555555555556,
              "#d8576b"
             ],
             [
              0.6666666666666666,
              "#ed7953"
             ],
             [
              0.7777777777777778,
              "#fb9f3a"
             ],
             [
              0.8888888888888888,
              "#fdca26"
             ],
             [
              1,
              "#f0f921"
             ]
            ],
            "type": "heatmapgl"
           }
          ],
          "histogram": [
           {
            "marker": {
             "pattern": {
              "fillmode": "overlay",
              "size": 10,
              "solidity": 0.2
             }
            },
            "type": "histogram"
           }
          ],
          "histogram2d": [
           {
            "colorbar": {
             "outlinewidth": 0,
             "ticks": ""
            },
            "colorscale": [
             [
              0,
              "#0d0887"
             ],
             [
              0.1111111111111111,
              "#46039f"
             ],
             [
              0.2222222222222222,
              "#7201a8"
             ],
             [
              0.3333333333333333,
              "#9c179e"
             ],
             [
              0.4444444444444444,
              "#bd3786"
             ],
             [
              0.5555555555555556,
              "#d8576b"
             ],
             [
              0.6666666666666666,
              "#ed7953"
             ],
             [
              0.7777777777777778,
              "#fb9f3a"
             ],
             [
              0.8888888888888888,
              "#fdca26"
             ],
             [
              1,
              "#f0f921"
             ]
            ],
            "type": "histogram2d"
           }
          ],
          "histogram2dcontour": [
           {
            "colorbar": {
             "outlinewidth": 0,
             "ticks": ""
            },
            "colorscale": [
             [
              0,
              "#0d0887"
             ],
             [
              0.1111111111111111,
              "#46039f"
             ],
             [
              0.2222222222222222,
              "#7201a8"
             ],
             [
              0.3333333333333333,
              "#9c179e"
             ],
             [
              0.4444444444444444,
              "#bd3786"
             ],
             [
              0.5555555555555556,
              "#d8576b"
             ],
             [
              0.6666666666666666,
              "#ed7953"
             ],
             [
              0.7777777777777778,
              "#fb9f3a"
             ],
             [
              0.8888888888888888,
              "#fdca26"
             ],
             [
              1,
              "#f0f921"
             ]
            ],
            "type": "histogram2dcontour"
           }
          ],
          "mesh3d": [
           {
            "colorbar": {
             "outlinewidth": 0,
             "ticks": ""
            },
            "type": "mesh3d"
           }
          ],
          "parcoords": [
           {
            "line": {
             "colorbar": {
              "outlinewidth": 0,
              "ticks": ""
             }
            },
            "type": "parcoords"
           }
          ],
          "pie": [
           {
            "automargin": true,
            "type": "pie"
           }
          ],
          "scatter": [
           {
            "marker": {
             "colorbar": {
              "outlinewidth": 0,
              "ticks": ""
             }
            },
            "type": "scatter"
           }
          ],
          "scatter3d": [
           {
            "line": {
             "colorbar": {
              "outlinewidth": 0,
              "ticks": ""
             }
            },
            "marker": {
             "colorbar": {
              "outlinewidth": 0,
              "ticks": ""
             }
            },
            "type": "scatter3d"
           }
          ],
          "scattercarpet": [
           {
            "marker": {
             "colorbar": {
              "outlinewidth": 0,
              "ticks": ""
             }
            },
            "type": "scattercarpet"
           }
          ],
          "scattergeo": [
           {
            "marker": {
             "colorbar": {
              "outlinewidth": 0,
              "ticks": ""
             }
            },
            "type": "scattergeo"
           }
          ],
          "scattergl": [
           {
            "marker": {
             "colorbar": {
              "outlinewidth": 0,
              "ticks": ""
             }
            },
            "type": "scattergl"
           }
          ],
          "scattermapbox": [
           {
            "marker": {
             "colorbar": {
              "outlinewidth": 0,
              "ticks": ""
             }
            },
            "type": "scattermapbox"
           }
          ],
          "scatterpolar": [
           {
            "marker": {
             "colorbar": {
              "outlinewidth": 0,
              "ticks": ""
             }
            },
            "type": "scatterpolar"
           }
          ],
          "scatterpolargl": [
           {
            "marker": {
             "colorbar": {
              "outlinewidth": 0,
              "ticks": ""
             }
            },
            "type": "scatterpolargl"
           }
          ],
          "scatterternary": [
           {
            "marker": {
             "colorbar": {
              "outlinewidth": 0,
              "ticks": ""
             }
            },
            "type": "scatterternary"
           }
          ],
          "surface": [
           {
            "colorbar": {
             "outlinewidth": 0,
             "ticks": ""
            },
            "colorscale": [
             [
              0,
              "#0d0887"
             ],
             [
              0.1111111111111111,
              "#46039f"
             ],
             [
              0.2222222222222222,
              "#7201a8"
             ],
             [
              0.3333333333333333,
              "#9c179e"
             ],
             [
              0.4444444444444444,
              "#bd3786"
             ],
             [
              0.5555555555555556,
              "#d8576b"
             ],
             [
              0.6666666666666666,
              "#ed7953"
             ],
             [
              0.7777777777777778,
              "#fb9f3a"
             ],
             [
              0.8888888888888888,
              "#fdca26"
             ],
             [
              1,
              "#f0f921"
             ]
            ],
            "type": "surface"
           }
          ],
          "table": [
           {
            "cells": {
             "fill": {
              "color": "#EBF0F8"
             },
             "line": {
              "color": "white"
             }
            },
            "header": {
             "fill": {
              "color": "#C8D4E3"
             },
             "line": {
              "color": "white"
             }
            },
            "type": "table"
           }
          ]
         },
         "layout": {
          "annotationdefaults": {
           "arrowcolor": "#2a3f5f",
           "arrowhead": 0,
           "arrowwidth": 1
          },
          "autotypenumbers": "strict",
          "coloraxis": {
           "colorbar": {
            "outlinewidth": 0,
            "ticks": ""
           }
          },
          "colorscale": {
           "diverging": [
            [
             0,
             "#8e0152"
            ],
            [
             0.1,
             "#c51b7d"
            ],
            [
             0.2,
             "#de77ae"
            ],
            [
             0.3,
             "#f1b6da"
            ],
            [
             0.4,
             "#fde0ef"
            ],
            [
             0.5,
             "#f7f7f7"
            ],
            [
             0.6,
             "#e6f5d0"
            ],
            [
             0.7,
             "#b8e186"
            ],
            [
             0.8,
             "#7fbc41"
            ],
            [
             0.9,
             "#4d9221"
            ],
            [
             1,
             "#276419"
            ]
           ],
           "sequential": [
            [
             0,
             "#0d0887"
            ],
            [
             0.1111111111111111,
             "#46039f"
            ],
            [
             0.2222222222222222,
             "#7201a8"
            ],
            [
             0.3333333333333333,
             "#9c179e"
            ],
            [
             0.4444444444444444,
             "#bd3786"
            ],
            [
             0.5555555555555556,
             "#d8576b"
            ],
            [
             0.6666666666666666,
             "#ed7953"
            ],
            [
             0.7777777777777778,
             "#fb9f3a"
            ],
            [
             0.8888888888888888,
             "#fdca26"
            ],
            [
             1,
             "#f0f921"
            ]
           ],
           "sequentialminus": [
            [
             0,
             "#0d0887"
            ],
            [
             0.1111111111111111,
             "#46039f"
            ],
            [
             0.2222222222222222,
             "#7201a8"
            ],
            [
             0.3333333333333333,
             "#9c179e"
            ],
            [
             0.4444444444444444,
             "#bd3786"
            ],
            [
             0.5555555555555556,
             "#d8576b"
            ],
            [
             0.6666666666666666,
             "#ed7953"
            ],
            [
             0.7777777777777778,
             "#fb9f3a"
            ],
            [
             0.8888888888888888,
             "#fdca26"
            ],
            [
             1,
             "#f0f921"
            ]
           ]
          },
          "colorway": [
           "#636efa",
           "#EF553B",
           "#00cc96",
           "#ab63fa",
           "#FFA15A",
           "#19d3f3",
           "#FF6692",
           "#B6E880",
           "#FF97FF",
           "#FECB52"
          ],
          "font": {
           "color": "#2a3f5f"
          },
          "geo": {
           "bgcolor": "white",
           "lakecolor": "white",
           "landcolor": "#E5ECF6",
           "showlakes": true,
           "showland": true,
           "subunitcolor": "white"
          },
          "hoverlabel": {
           "align": "left"
          },
          "hovermode": "closest",
          "mapbox": {
           "style": "light"
          },
          "paper_bgcolor": "white",
          "plot_bgcolor": "#E5ECF6",
          "polar": {
           "angularaxis": {
            "gridcolor": "white",
            "linecolor": "white",
            "ticks": ""
           },
           "bgcolor": "#E5ECF6",
           "radialaxis": {
            "gridcolor": "white",
            "linecolor": "white",
            "ticks": ""
           }
          },
          "scene": {
           "xaxis": {
            "backgroundcolor": "#E5ECF6",
            "gridcolor": "white",
            "gridwidth": 2,
            "linecolor": "white",
            "showbackground": true,
            "ticks": "",
            "zerolinecolor": "white"
           },
           "yaxis": {
            "backgroundcolor": "#E5ECF6",
            "gridcolor": "white",
            "gridwidth": 2,
            "linecolor": "white",
            "showbackground": true,
            "ticks": "",
            "zerolinecolor": "white"
           },
           "zaxis": {
            "backgroundcolor": "#E5ECF6",
            "gridcolor": "white",
            "gridwidth": 2,
            "linecolor": "white",
            "showbackground": true,
            "ticks": "",
            "zerolinecolor": "white"
           }
          },
          "shapedefaults": {
           "line": {
            "color": "#2a3f5f"
           }
          },
          "ternary": {
           "aaxis": {
            "gridcolor": "white",
            "linecolor": "white",
            "ticks": ""
           },
           "baxis": {
            "gridcolor": "white",
            "linecolor": "white",
            "ticks": ""
           },
           "bgcolor": "#E5ECF6",
           "caxis": {
            "gridcolor": "white",
            "linecolor": "white",
            "ticks": ""
           }
          },
          "title": {
           "x": 0.05
          },
          "xaxis": {
           "automargin": true,
           "gridcolor": "white",
           "linecolor": "white",
           "ticks": "",
           "title": {
            "standoff": 15
           },
           "zerolinecolor": "white",
           "zerolinewidth": 2
          },
          "yaxis": {
           "automargin": true,
           "gridcolor": "white",
           "linecolor": "white",
           "ticks": "",
           "title": {
            "standoff": 15
           },
           "zerolinecolor": "white",
           "zerolinewidth": 2
          }
         }
        },
        "title": {
         "text": "APPLE INC | Enterprise value"
        },
        "xaxis": {
         "anchor": "y",
         "domain": [
          0,
          1
         ],
         "title": {
          "text": "index"
         }
        },
        "yaxis": {
         "anchor": "x",
         "domain": [
          0,
          1
         ],
         "title": {
          "text": "value"
         }
        }
       }
      }
     },
     "metadata": {},
     "output_type": "display_data"
    },
    {
     "data": {
      "application/vnd.plotly.v1+json": {
       "config": {
        "plotlyServerURL": "https://plot.ly"
       },
       "data": [
        {
         "legendgroup": "Number of employees",
         "line": {
          "color": "#636efa",
          "dash": "solid"
         },
         "marker": {
          "symbol": "circle"
         },
         "mode": "markers+lines",
         "name": "Number of employees",
         "orientation": "v",
         "showlegend": true,
         "type": "scatter",
         "x": [
          "2016",
          "2017",
          "2018",
          "2019",
          "2020",
          "2021",
          "2022",
          "Current"
         ],
         "xaxis": "x",
         "y": [
          116000,
          123000,
          132000,
          137000,
          147000,
          154000,
          164000,
          null
         ],
         "yaxis": "y"
        },
        {
         "legendgroup": "Number of shareholders",
         "line": {
          "color": "#EF553B",
          "dash": "solid"
         },
         "marker": {
          "symbol": "circle"
         },
         "mode": "markers+lines",
         "name": "Number of shareholders",
         "orientation": "v",
         "showlegend": true,
         "type": "scatter",
         "x": [
          "2016",
          "2017",
          "2018",
          "2019",
          "2020",
          "2021",
          "2022",
          "Current"
         ],
         "xaxis": "x",
         "y": [
          23840,
          23840,
          23840,
          23840,
          23840,
          23840,
          23840,
          null
         ],
         "yaxis": "y"
        }
       ],
       "layout": {
        "hoverlabel": {
         "namelength": -1
        },
        "hovermode": "x",
        "legend": {
         "title": {
          "text": "variable"
         },
         "tracegroupgap": 0
        },
        "template": {
         "data": {
          "bar": [
           {
            "error_x": {
             "color": "#2a3f5f"
            },
            "error_y": {
             "color": "#2a3f5f"
            },
            "marker": {
             "line": {
              "color": "#E5ECF6",
              "width": 0.5
             },
             "pattern": {
              "fillmode": "overlay",
              "size": 10,
              "solidity": 0.2
             }
            },
            "type": "bar"
           }
          ],
          "barpolar": [
           {
            "marker": {
             "line": {
              "color": "#E5ECF6",
              "width": 0.5
             },
             "pattern": {
              "fillmode": "overlay",
              "size": 10,
              "solidity": 0.2
             }
            },
            "type": "barpolar"
           }
          ],
          "carpet": [
           {
            "aaxis": {
             "endlinecolor": "#2a3f5f",
             "gridcolor": "white",
             "linecolor": "white",
             "minorgridcolor": "white",
             "startlinecolor": "#2a3f5f"
            },
            "baxis": {
             "endlinecolor": "#2a3f5f",
             "gridcolor": "white",
             "linecolor": "white",
             "minorgridcolor": "white",
             "startlinecolor": "#2a3f5f"
            },
            "type": "carpet"
           }
          ],
          "choropleth": [
           {
            "colorbar": {
             "outlinewidth": 0,
             "ticks": ""
            },
            "type": "choropleth"
           }
          ],
          "contour": [
           {
            "colorbar": {
             "outlinewidth": 0,
             "ticks": ""
            },
            "colorscale": [
             [
              0,
              "#0d0887"
             ],
             [
              0.1111111111111111,
              "#46039f"
             ],
             [
              0.2222222222222222,
              "#7201a8"
             ],
             [
              0.3333333333333333,
              "#9c179e"
             ],
             [
              0.4444444444444444,
              "#bd3786"
             ],
             [
              0.5555555555555556,
              "#d8576b"
             ],
             [
              0.6666666666666666,
              "#ed7953"
             ],
             [
              0.7777777777777778,
              "#fb9f3a"
             ],
             [
              0.8888888888888888,
              "#fdca26"
             ],
             [
              1,
              "#f0f921"
             ]
            ],
            "type": "contour"
           }
          ],
          "contourcarpet": [
           {
            "colorbar": {
             "outlinewidth": 0,
             "ticks": ""
            },
            "type": "contourcarpet"
           }
          ],
          "heatmap": [
           {
            "colorbar": {
             "outlinewidth": 0,
             "ticks": ""
            },
            "colorscale": [
             [
              0,
              "#0d0887"
             ],
             [
              0.1111111111111111,
              "#46039f"
             ],
             [
              0.2222222222222222,
              "#7201a8"
             ],
             [
              0.3333333333333333,
              "#9c179e"
             ],
             [
              0.4444444444444444,
              "#bd3786"
             ],
             [
              0.5555555555555556,
              "#d8576b"
             ],
             [
              0.6666666666666666,
              "#ed7953"
             ],
             [
              0.7777777777777778,
              "#fb9f3a"
             ],
             [
              0.8888888888888888,
              "#fdca26"
             ],
             [
              1,
              "#f0f921"
             ]
            ],
            "type": "heatmap"
           }
          ],
          "heatmapgl": [
           {
            "colorbar": {
             "outlinewidth": 0,
             "ticks": ""
            },
            "colorscale": [
             [
              0,
              "#0d0887"
             ],
             [
              0.1111111111111111,
              "#46039f"
             ],
             [
              0.2222222222222222,
              "#7201a8"
             ],
             [
              0.3333333333333333,
              "#9c179e"
             ],
             [
              0.4444444444444444,
              "#bd3786"
             ],
             [
              0.5555555555555556,
              "#d8576b"
             ],
             [
              0.6666666666666666,
              "#ed7953"
             ],
             [
              0.7777777777777778,
              "#fb9f3a"
             ],
             [
              0.8888888888888888,
              "#fdca26"
             ],
             [
              1,
              "#f0f921"
             ]
            ],
            "type": "heatmapgl"
           }
          ],
          "histogram": [
           {
            "marker": {
             "pattern": {
              "fillmode": "overlay",
              "size": 10,
              "solidity": 0.2
             }
            },
            "type": "histogram"
           }
          ],
          "histogram2d": [
           {
            "colorbar": {
             "outlinewidth": 0,
             "ticks": ""
            },
            "colorscale": [
             [
              0,
              "#0d0887"
             ],
             [
              0.1111111111111111,
              "#46039f"
             ],
             [
              0.2222222222222222,
              "#7201a8"
             ],
             [
              0.3333333333333333,
              "#9c179e"
             ],
             [
              0.4444444444444444,
              "#bd3786"
             ],
             [
              0.5555555555555556,
              "#d8576b"
             ],
             [
              0.6666666666666666,
              "#ed7953"
             ],
             [
              0.7777777777777778,
              "#fb9f3a"
             ],
             [
              0.8888888888888888,
              "#fdca26"
             ],
             [
              1,
              "#f0f921"
             ]
            ],
            "type": "histogram2d"
           }
          ],
          "histogram2dcontour": [
           {
            "colorbar": {
             "outlinewidth": 0,
             "ticks": ""
            },
            "colorscale": [
             [
              0,
              "#0d0887"
             ],
             [
              0.1111111111111111,
              "#46039f"
             ],
             [
              0.2222222222222222,
              "#7201a8"
             ],
             [
              0.3333333333333333,
              "#9c179e"
             ],
             [
              0.4444444444444444,
              "#bd3786"
             ],
             [
              0.5555555555555556,
              "#d8576b"
             ],
             [
              0.6666666666666666,
              "#ed7953"
             ],
             [
              0.7777777777777778,
              "#fb9f3a"
             ],
             [
              0.8888888888888888,
              "#fdca26"
             ],
             [
              1,
              "#f0f921"
             ]
            ],
            "type": "histogram2dcontour"
           }
          ],
          "mesh3d": [
           {
            "colorbar": {
             "outlinewidth": 0,
             "ticks": ""
            },
            "type": "mesh3d"
           }
          ],
          "parcoords": [
           {
            "line": {
             "colorbar": {
              "outlinewidth": 0,
              "ticks": ""
             }
            },
            "type": "parcoords"
           }
          ],
          "pie": [
           {
            "automargin": true,
            "type": "pie"
           }
          ],
          "scatter": [
           {
            "marker": {
             "colorbar": {
              "outlinewidth": 0,
              "ticks": ""
             }
            },
            "type": "scatter"
           }
          ],
          "scatter3d": [
           {
            "line": {
             "colorbar": {
              "outlinewidth": 0,
              "ticks": ""
             }
            },
            "marker": {
             "colorbar": {
              "outlinewidth": 0,
              "ticks": ""
             }
            },
            "type": "scatter3d"
           }
          ],
          "scattercarpet": [
           {
            "marker": {
             "colorbar": {
              "outlinewidth": 0,
              "ticks": ""
             }
            },
            "type": "scattercarpet"
           }
          ],
          "scattergeo": [
           {
            "marker": {
             "colorbar": {
              "outlinewidth": 0,
              "ticks": ""
             }
            },
            "type": "scattergeo"
           }
          ],
          "scattergl": [
           {
            "marker": {
             "colorbar": {
              "outlinewidth": 0,
              "ticks": ""
             }
            },
            "type": "scattergl"
           }
          ],
          "scattermapbox": [
           {
            "marker": {
             "colorbar": {
              "outlinewidth": 0,
              "ticks": ""
             }
            },
            "type": "scattermapbox"
           }
          ],
          "scatterpolar": [
           {
            "marker": {
             "colorbar": {
              "outlinewidth": 0,
              "ticks": ""
             }
            },
            "type": "scatterpolar"
           }
          ],
          "scatterpolargl": [
           {
            "marker": {
             "colorbar": {
              "outlinewidth": 0,
              "ticks": ""
             }
            },
            "type": "scatterpolargl"
           }
          ],
          "scatterternary": [
           {
            "marker": {
             "colorbar": {
              "outlinewidth": 0,
              "ticks": ""
             }
            },
            "type": "scatterternary"
           }
          ],
          "surface": [
           {
            "colorbar": {
             "outlinewidth": 0,
             "ticks": ""
            },
            "colorscale": [
             [
              0,
              "#0d0887"
             ],
             [
              0.1111111111111111,
              "#46039f"
             ],
             [
              0.2222222222222222,
              "#7201a8"
             ],
             [
              0.3333333333333333,
              "#9c179e"
             ],
             [
              0.4444444444444444,
              "#bd3786"
             ],
             [
              0.5555555555555556,
              "#d8576b"
             ],
             [
              0.6666666666666666,
              "#ed7953"
             ],
             [
              0.7777777777777778,
              "#fb9f3a"
             ],
             [
              0.8888888888888888,
              "#fdca26"
             ],
             [
              1,
              "#f0f921"
             ]
            ],
            "type": "surface"
           }
          ],
          "table": [
           {
            "cells": {
             "fill": {
              "color": "#EBF0F8"
             },
             "line": {
              "color": "white"
             }
            },
            "header": {
             "fill": {
              "color": "#C8D4E3"
             },
             "line": {
              "color": "white"
             }
            },
            "type": "table"
           }
          ]
         },
         "layout": {
          "annotationdefaults": {
           "arrowcolor": "#2a3f5f",
           "arrowhead": 0,
           "arrowwidth": 1
          },
          "autotypenumbers": "strict",
          "coloraxis": {
           "colorbar": {
            "outlinewidth": 0,
            "ticks": ""
           }
          },
          "colorscale": {
           "diverging": [
            [
             0,
             "#8e0152"
            ],
            [
             0.1,
             "#c51b7d"
            ],
            [
             0.2,
             "#de77ae"
            ],
            [
             0.3,
             "#f1b6da"
            ],
            [
             0.4,
             "#fde0ef"
            ],
            [
             0.5,
             "#f7f7f7"
            ],
            [
             0.6,
             "#e6f5d0"
            ],
            [
             0.7,
             "#b8e186"
            ],
            [
             0.8,
             "#7fbc41"
            ],
            [
             0.9,
             "#4d9221"
            ],
            [
             1,
             "#276419"
            ]
           ],
           "sequential": [
            [
             0,
             "#0d0887"
            ],
            [
             0.1111111111111111,
             "#46039f"
            ],
            [
             0.2222222222222222,
             "#7201a8"
            ],
            [
             0.3333333333333333,
             "#9c179e"
            ],
            [
             0.4444444444444444,
             "#bd3786"
            ],
            [
             0.5555555555555556,
             "#d8576b"
            ],
            [
             0.6666666666666666,
             "#ed7953"
            ],
            [
             0.7777777777777778,
             "#fb9f3a"
            ],
            [
             0.8888888888888888,
             "#fdca26"
            ],
            [
             1,
             "#f0f921"
            ]
           ],
           "sequentialminus": [
            [
             0,
             "#0d0887"
            ],
            [
             0.1111111111111111,
             "#46039f"
            ],
            [
             0.2222222222222222,
             "#7201a8"
            ],
            [
             0.3333333333333333,
             "#9c179e"
            ],
            [
             0.4444444444444444,
             "#bd3786"
            ],
            [
             0.5555555555555556,
             "#d8576b"
            ],
            [
             0.6666666666666666,
             "#ed7953"
            ],
            [
             0.7777777777777778,
             "#fb9f3a"
            ],
            [
             0.8888888888888888,
             "#fdca26"
            ],
            [
             1,
             "#f0f921"
            ]
           ]
          },
          "colorway": [
           "#636efa",
           "#EF553B",
           "#00cc96",
           "#ab63fa",
           "#FFA15A",
           "#19d3f3",
           "#FF6692",
           "#B6E880",
           "#FF97FF",
           "#FECB52"
          ],
          "font": {
           "color": "#2a3f5f"
          },
          "geo": {
           "bgcolor": "white",
           "lakecolor": "white",
           "landcolor": "#E5ECF6",
           "showlakes": true,
           "showland": true,
           "subunitcolor": "white"
          },
          "hoverlabel": {
           "align": "left"
          },
          "hovermode": "closest",
          "mapbox": {
           "style": "light"
          },
          "paper_bgcolor": "white",
          "plot_bgcolor": "#E5ECF6",
          "polar": {
           "angularaxis": {
            "gridcolor": "white",
            "linecolor": "white",
            "ticks": ""
           },
           "bgcolor": "#E5ECF6",
           "radialaxis": {
            "gridcolor": "white",
            "linecolor": "white",
            "ticks": ""
           }
          },
          "scene": {
           "xaxis": {
            "backgroundcolor": "#E5ECF6",
            "gridcolor": "white",
            "gridwidth": 2,
            "linecolor": "white",
            "showbackground": true,
            "ticks": "",
            "zerolinecolor": "white"
           },
           "yaxis": {
            "backgroundcolor": "#E5ECF6",
            "gridcolor": "white",
            "gridwidth": 2,
            "linecolor": "white",
            "showbackground": true,
            "ticks": "",
            "zerolinecolor": "white"
           },
           "zaxis": {
            "backgroundcolor": "#E5ECF6",
            "gridcolor": "white",
            "gridwidth": 2,
            "linecolor": "white",
            "showbackground": true,
            "ticks": "",
            "zerolinecolor": "white"
           }
          },
          "shapedefaults": {
           "line": {
            "color": "#2a3f5f"
           }
          },
          "ternary": {
           "aaxis": {
            "gridcolor": "white",
            "linecolor": "white",
            "ticks": ""
           },
           "baxis": {
            "gridcolor": "white",
            "linecolor": "white",
            "ticks": ""
           },
           "bgcolor": "#E5ECF6",
           "caxis": {
            "gridcolor": "white",
            "linecolor": "white",
            "ticks": ""
           }
          },
          "title": {
           "x": 0.05
          },
          "xaxis": {
           "automargin": true,
           "gridcolor": "white",
           "linecolor": "white",
           "ticks": "",
           "title": {
            "standoff": 15
           },
           "zerolinecolor": "white",
           "zerolinewidth": 2
          },
          "yaxis": {
           "automargin": true,
           "gridcolor": "white",
           "linecolor": "white",
           "ticks": "",
           "title": {
            "standoff": 15
           },
           "zerolinecolor": "white",
           "zerolinewidth": 2
          }
         }
        },
        "title": {
         "text": "APPLE INC | Number of employees/shareholders"
        },
        "xaxis": {
         "anchor": "y",
         "domain": [
          0,
          1
         ],
         "title": {
          "text": "index"
         }
        },
        "yaxis": {
         "anchor": "x",
         "domain": [
          0,
          1
         ],
         "title": {
          "text": "value"
         }
        }
       }
      }
     },
     "metadata": {},
     "output_type": "display_data"
    },
    {
     "data": {
      "application/vnd.plotly.v1+json": {
       "config": {
        "plotlyServerURL": "https://plot.ly"
       },
       "data": [
        {
         "legendgroup": "Price to earnings ratio",
         "line": {
          "color": "#636efa",
          "dash": "solid"
         },
         "marker": {
          "symbol": "circle"
         },
         "mode": "markers+lines",
         "name": "Price to earnings ratio",
         "orientation": "v",
         "showlegend": true,
         "type": "scatter",
         "x": [
          "2016",
          "2017",
          "2018",
          "2019",
          "2020",
          "2021",
          "2022",
          "Current"
         ],
         "xaxis": "x",
         "y": [
          13.56,
          16.73,
          18.95,
          18.41,
          34.28,
          26.17,
          24.61,
          22.76
         ],
         "yaxis": "y"
        },
        {
         "legendgroup": "Price to sales ratio",
         "line": {
          "color": "#EF553B",
          "dash": "solid"
         },
         "marker": {
          "symbol": "circle"
         },
         "mode": "markers+lines",
         "name": "Price to sales ratio",
         "orientation": "v",
         "showlegend": true,
         "type": "scatter",
         "x": [
          "2016",
          "2017",
          "2018",
          "2019",
          "2020",
          "2021",
          "2022",
          "Current"
         ],
         "xaxis": "x",
         "y": [
          2.89,
          3.54,
          4.25,
          3.91,
          7.18,
          6.77,
          6.23,
          5.68
         ],
         "yaxis": "y"
        },
        {
         "legendgroup": "Price to cash flow ratio",
         "line": {
          "color": "#00cc96",
          "dash": "solid"
         },
         "marker": {
          "symbol": "circle"
         },
         "mode": "markers+lines",
         "name": "Price to cash flow ratio",
         "orientation": "v",
         "showlegend": true,
         "type": "scatter",
         "x": [
          "2016",
          "2017",
          "2018",
          "2019",
          "2020",
          "2021",
          "2022",
          "Current"
         ],
         "xaxis": "x",
         "y": [
          9.42,
          12.73,
          14.58,
          14.66,
          24.4,
          23.82,
          20.11,
          18.33
         ],
         "yaxis": "y"
        },
        {
         "legendgroup": "Enterprise value to EBITDA ratio",
         "line": {
          "color": "#ab63fa",
          "dash": "solid"
         },
         "marker": {
          "symbol": "circle"
         },
         "mode": "markers+lines",
         "name": "Enterprise value to EBITDA ratio",
         "orientation": "v",
         "showlegend": true,
         "type": "scatter",
         "x": [
          "2016",
          "2017",
          "2018",
          "2019",
          "2020",
          "2021",
          "2022",
          "Current"
         ],
         "xaxis": "x",
         "y": [
          9.37,
          12.26,
          14.65,
          13.75,
          26.05,
          21.13,
          19.37,
          17.57
         ],
         "yaxis": "y"
        },
        {
         "legendgroup": "Price to book ratio",
         "line": {
          "color": "#FFA15A",
          "dash": "solid"
         },
         "marker": {
          "symbol": "circle"
         },
         "mode": "markers+lines",
         "name": "Price to book ratio",
         "orientation": "v",
         "showlegend": true,
         "type": "scatter",
         "x": [
          "2016",
          "2017",
          "2018",
          "2019",
          "2020",
          "2021",
          "2022",
          "Current"
         ],
         "xaxis": "x",
         "y": [
          4.69,
          5.89,
          10.02,
          10.74,
          29.17,
          38.25,
          47.33,
          43.7
         ],
         "yaxis": "y"
        }
       ],
       "layout": {
        "hoverlabel": {
         "namelength": -1
        },
        "hovermode": "x",
        "legend": {
         "title": {
          "text": "variable"
         },
         "tracegroupgap": 0
        },
        "template": {
         "data": {
          "bar": [
           {
            "error_x": {
             "color": "#2a3f5f"
            },
            "error_y": {
             "color": "#2a3f5f"
            },
            "marker": {
             "line": {
              "color": "#E5ECF6",
              "width": 0.5
             },
             "pattern": {
              "fillmode": "overlay",
              "size": 10,
              "solidity": 0.2
             }
            },
            "type": "bar"
           }
          ],
          "barpolar": [
           {
            "marker": {
             "line": {
              "color": "#E5ECF6",
              "width": 0.5
             },
             "pattern": {
              "fillmode": "overlay",
              "size": 10,
              "solidity": 0.2
             }
            },
            "type": "barpolar"
           }
          ],
          "carpet": [
           {
            "aaxis": {
             "endlinecolor": "#2a3f5f",
             "gridcolor": "white",
             "linecolor": "white",
             "minorgridcolor": "white",
             "startlinecolor": "#2a3f5f"
            },
            "baxis": {
             "endlinecolor": "#2a3f5f",
             "gridcolor": "white",
             "linecolor": "white",
             "minorgridcolor": "white",
             "startlinecolor": "#2a3f5f"
            },
            "type": "carpet"
           }
          ],
          "choropleth": [
           {
            "colorbar": {
             "outlinewidth": 0,
             "ticks": ""
            },
            "type": "choropleth"
           }
          ],
          "contour": [
           {
            "colorbar": {
             "outlinewidth": 0,
             "ticks": ""
            },
            "colorscale": [
             [
              0,
              "#0d0887"
             ],
             [
              0.1111111111111111,
              "#46039f"
             ],
             [
              0.2222222222222222,
              "#7201a8"
             ],
             [
              0.3333333333333333,
              "#9c179e"
             ],
             [
              0.4444444444444444,
              "#bd3786"
             ],
             [
              0.5555555555555556,
              "#d8576b"
             ],
             [
              0.6666666666666666,
              "#ed7953"
             ],
             [
              0.7777777777777778,
              "#fb9f3a"
             ],
             [
              0.8888888888888888,
              "#fdca26"
             ],
             [
              1,
              "#f0f921"
             ]
            ],
            "type": "contour"
           }
          ],
          "contourcarpet": [
           {
            "colorbar": {
             "outlinewidth": 0,
             "ticks": ""
            },
            "type": "contourcarpet"
           }
          ],
          "heatmap": [
           {
            "colorbar": {
             "outlinewidth": 0,
             "ticks": ""
            },
            "colorscale": [
             [
              0,
              "#0d0887"
             ],
             [
              0.1111111111111111,
              "#46039f"
             ],
             [
              0.2222222222222222,
              "#7201a8"
             ],
             [
              0.3333333333333333,
              "#9c179e"
             ],
             [
              0.4444444444444444,
              "#bd3786"
             ],
             [
              0.5555555555555556,
              "#d8576b"
             ],
             [
              0.6666666666666666,
              "#ed7953"
             ],
             [
              0.7777777777777778,
              "#fb9f3a"
             ],
             [
              0.8888888888888888,
              "#fdca26"
             ],
             [
              1,
              "#f0f921"
             ]
            ],
            "type": "heatmap"
           }
          ],
          "heatmapgl": [
           {
            "colorbar": {
             "outlinewidth": 0,
             "ticks": ""
            },
            "colorscale": [
             [
              0,
              "#0d0887"
             ],
             [
              0.1111111111111111,
              "#46039f"
             ],
             [
              0.2222222222222222,
              "#7201a8"
             ],
             [
              0.3333333333333333,
              "#9c179e"
             ],
             [
              0.4444444444444444,
              "#bd3786"
             ],
             [
              0.5555555555555556,
              "#d8576b"
             ],
             [
              0.6666666666666666,
              "#ed7953"
             ],
             [
              0.7777777777777778,
              "#fb9f3a"
             ],
             [
              0.8888888888888888,
              "#fdca26"
             ],
             [
              1,
              "#f0f921"
             ]
            ],
            "type": "heatmapgl"
           }
          ],
          "histogram": [
           {
            "marker": {
             "pattern": {
              "fillmode": "overlay",
              "size": 10,
              "solidity": 0.2
             }
            },
            "type": "histogram"
           }
          ],
          "histogram2d": [
           {
            "colorbar": {
             "outlinewidth": 0,
             "ticks": ""
            },
            "colorscale": [
             [
              0,
              "#0d0887"
             ],
             [
              0.1111111111111111,
              "#46039f"
             ],
             [
              0.2222222222222222,
              "#7201a8"
             ],
             [
              0.3333333333333333,
              "#9c179e"
             ],
             [
              0.4444444444444444,
              "#bd3786"
             ],
             [
              0.5555555555555556,
              "#d8576b"
             ],
             [
              0.6666666666666666,
              "#ed7953"
             ],
             [
              0.7777777777777778,
              "#fb9f3a"
             ],
             [
              0.8888888888888888,
              "#fdca26"
             ],
             [
              1,
              "#f0f921"
             ]
            ],
            "type": "histogram2d"
           }
          ],
          "histogram2dcontour": [
           {
            "colorbar": {
             "outlinewidth": 0,
             "ticks": ""
            },
            "colorscale": [
             [
              0,
              "#0d0887"
             ],
             [
              0.1111111111111111,
              "#46039f"
             ],
             [
              0.2222222222222222,
              "#7201a8"
             ],
             [
              0.3333333333333333,
              "#9c179e"
             ],
             [
              0.4444444444444444,
              "#bd3786"
             ],
             [
              0.5555555555555556,
              "#d8576b"
             ],
             [
              0.6666666666666666,
              "#ed7953"
             ],
             [
              0.7777777777777778,
              "#fb9f3a"
             ],
             [
              0.8888888888888888,
              "#fdca26"
             ],
             [
              1,
              "#f0f921"
             ]
            ],
            "type": "histogram2dcontour"
           }
          ],
          "mesh3d": [
           {
            "colorbar": {
             "outlinewidth": 0,
             "ticks": ""
            },
            "type": "mesh3d"
           }
          ],
          "parcoords": [
           {
            "line": {
             "colorbar": {
              "outlinewidth": 0,
              "ticks": ""
             }
            },
            "type": "parcoords"
           }
          ],
          "pie": [
           {
            "automargin": true,
            "type": "pie"
           }
          ],
          "scatter": [
           {
            "marker": {
             "colorbar": {
              "outlinewidth": 0,
              "ticks": ""
             }
            },
            "type": "scatter"
           }
          ],
          "scatter3d": [
           {
            "line": {
             "colorbar": {
              "outlinewidth": 0,
              "ticks": ""
             }
            },
            "marker": {
             "colorbar": {
              "outlinewidth": 0,
              "ticks": ""
             }
            },
            "type": "scatter3d"
           }
          ],
          "scattercarpet": [
           {
            "marker": {
             "colorbar": {
              "outlinewidth": 0,
              "ticks": ""
             }
            },
            "type": "scattercarpet"
           }
          ],
          "scattergeo": [
           {
            "marker": {
             "colorbar": {
              "outlinewidth": 0,
              "ticks": ""
             }
            },
            "type": "scattergeo"
           }
          ],
          "scattergl": [
           {
            "marker": {
             "colorbar": {
              "outlinewidth": 0,
              "ticks": ""
             }
            },
            "type": "scattergl"
           }
          ],
          "scattermapbox": [
           {
            "marker": {
             "colorbar": {
              "outlinewidth": 0,
              "ticks": ""
             }
            },
            "type": "scattermapbox"
           }
          ],
          "scatterpolar": [
           {
            "marker": {
             "colorbar": {
              "outlinewidth": 0,
              "ticks": ""
             }
            },
            "type": "scatterpolar"
           }
          ],
          "scatterpolargl": [
           {
            "marker": {
             "colorbar": {
              "outlinewidth": 0,
              "ticks": ""
             }
            },
            "type": "scatterpolargl"
           }
          ],
          "scatterternary": [
           {
            "marker": {
             "colorbar": {
              "outlinewidth": 0,
              "ticks": ""
             }
            },
            "type": "scatterternary"
           }
          ],
          "surface": [
           {
            "colorbar": {
             "outlinewidth": 0,
             "ticks": ""
            },
            "colorscale": [
             [
              0,
              "#0d0887"
             ],
             [
              0.1111111111111111,
              "#46039f"
             ],
             [
              0.2222222222222222,
              "#7201a8"
             ],
             [
              0.3333333333333333,
              "#9c179e"
             ],
             [
              0.4444444444444444,
              "#bd3786"
             ],
             [
              0.5555555555555556,
              "#d8576b"
             ],
             [
              0.6666666666666666,
              "#ed7953"
             ],
             [
              0.7777777777777778,
              "#fb9f3a"
             ],
             [
              0.8888888888888888,
              "#fdca26"
             ],
             [
              1,
              "#f0f921"
             ]
            ],
            "type": "surface"
           }
          ],
          "table": [
           {
            "cells": {
             "fill": {
              "color": "#EBF0F8"
             },
             "line": {
              "color": "white"
             }
            },
            "header": {
             "fill": {
              "color": "#C8D4E3"
             },
             "line": {
              "color": "white"
             }
            },
            "type": "table"
           }
          ]
         },
         "layout": {
          "annotationdefaults": {
           "arrowcolor": "#2a3f5f",
           "arrowhead": 0,
           "arrowwidth": 1
          },
          "autotypenumbers": "strict",
          "coloraxis": {
           "colorbar": {
            "outlinewidth": 0,
            "ticks": ""
           }
          },
          "colorscale": {
           "diverging": [
            [
             0,
             "#8e0152"
            ],
            [
             0.1,
             "#c51b7d"
            ],
            [
             0.2,
             "#de77ae"
            ],
            [
             0.3,
             "#f1b6da"
            ],
            [
             0.4,
             "#fde0ef"
            ],
            [
             0.5,
             "#f7f7f7"
            ],
            [
             0.6,
             "#e6f5d0"
            ],
            [
             0.7,
             "#b8e186"
            ],
            [
             0.8,
             "#7fbc41"
            ],
            [
             0.9,
             "#4d9221"
            ],
            [
             1,
             "#276419"
            ]
           ],
           "sequential": [
            [
             0,
             "#0d0887"
            ],
            [
             0.1111111111111111,
             "#46039f"
            ],
            [
             0.2222222222222222,
             "#7201a8"
            ],
            [
             0.3333333333333333,
             "#9c179e"
            ],
            [
             0.4444444444444444,
             "#bd3786"
            ],
            [
             0.5555555555555556,
             "#d8576b"
            ],
            [
             0.6666666666666666,
             "#ed7953"
            ],
            [
             0.7777777777777778,
             "#fb9f3a"
            ],
            [
             0.8888888888888888,
             "#fdca26"
            ],
            [
             1,
             "#f0f921"
            ]
           ],
           "sequentialminus": [
            [
             0,
             "#0d0887"
            ],
            [
             0.1111111111111111,
             "#46039f"
            ],
            [
             0.2222222222222222,
             "#7201a8"
            ],
            [
             0.3333333333333333,
             "#9c179e"
            ],
            [
             0.4444444444444444,
             "#bd3786"
            ],
            [
             0.5555555555555556,
             "#d8576b"
            ],
            [
             0.6666666666666666,
             "#ed7953"
            ],
            [
             0.7777777777777778,
             "#fb9f3a"
            ],
            [
             0.8888888888888888,
             "#fdca26"
            ],
            [
             1,
             "#f0f921"
            ]
           ]
          },
          "colorway": [
           "#636efa",
           "#EF553B",
           "#00cc96",
           "#ab63fa",
           "#FFA15A",
           "#19d3f3",
           "#FF6692",
           "#B6E880",
           "#FF97FF",
           "#FECB52"
          ],
          "font": {
           "color": "#2a3f5f"
          },
          "geo": {
           "bgcolor": "white",
           "lakecolor": "white",
           "landcolor": "#E5ECF6",
           "showlakes": true,
           "showland": true,
           "subunitcolor": "white"
          },
          "hoverlabel": {
           "align": "left"
          },
          "hovermode": "closest",
          "mapbox": {
           "style": "light"
          },
          "paper_bgcolor": "white",
          "plot_bgcolor": "#E5ECF6",
          "polar": {
           "angularaxis": {
            "gridcolor": "white",
            "linecolor": "white",
            "ticks": ""
           },
           "bgcolor": "#E5ECF6",
           "radialaxis": {
            "gridcolor": "white",
            "linecolor": "white",
            "ticks": ""
           }
          },
          "scene": {
           "xaxis": {
            "backgroundcolor": "#E5ECF6",
            "gridcolor": "white",
            "gridwidth": 2,
            "linecolor": "white",
            "showbackground": true,
            "ticks": "",
            "zerolinecolor": "white"
           },
           "yaxis": {
            "backgroundcolor": "#E5ECF6",
            "gridcolor": "white",
            "gridwidth": 2,
            "linecolor": "white",
            "showbackground": true,
            "ticks": "",
            "zerolinecolor": "white"
           },
           "zaxis": {
            "backgroundcolor": "#E5ECF6",
            "gridcolor": "white",
            "gridwidth": 2,
            "linecolor": "white",
            "showbackground": true,
            "ticks": "",
            "zerolinecolor": "white"
           }
          },
          "shapedefaults": {
           "line": {
            "color": "#2a3f5f"
           }
          },
          "ternary": {
           "aaxis": {
            "gridcolor": "white",
            "linecolor": "white",
            "ticks": ""
           },
           "baxis": {
            "gridcolor": "white",
            "linecolor": "white",
            "ticks": ""
           },
           "bgcolor": "#E5ECF6",
           "caxis": {
            "gridcolor": "white",
            "linecolor": "white",
            "ticks": ""
           }
          },
          "title": {
           "x": 0.05
          },
          "xaxis": {
           "automargin": true,
           "gridcolor": "white",
           "linecolor": "white",
           "ticks": "",
           "title": {
            "standoff": 15
           },
           "zerolinecolor": "white",
           "zerolinewidth": 2
          },
          "yaxis": {
           "automargin": true,
           "gridcolor": "white",
           "linecolor": "white",
           "ticks": "",
           "title": {
            "standoff": 15
           },
           "zerolinecolor": "white",
           "zerolinewidth": 2
          }
         }
        },
        "title": {
         "text": "APPLE INC | Price Ratios"
        },
        "xaxis": {
         "anchor": "y",
         "domain": [
          0,
          1
         ],
         "title": {
          "text": "index"
         }
        },
        "yaxis": {
         "anchor": "x",
         "domain": [
          0,
          1
         ],
         "title": {
          "text": "value"
         }
        }
       }
      }
     },
     "metadata": {},
     "output_type": "display_data"
    },
    {
     "data": {
      "application/vnd.plotly.v1+json": {
       "config": {
        "plotlyServerURL": "https://plot.ly"
       },
       "data": [
        {
         "legendgroup": "Return on assets %",
         "line": {
          "color": "#636efa",
          "dash": "solid"
         },
         "marker": {
          "symbol": "circle"
         },
         "mode": "markers+lines",
         "name": "Return on assets %",
         "orientation": "v",
         "showlegend": true,
         "type": "scatter",
         "x": [
          "2016",
          "2017",
          "2018",
          "2019",
          "2020",
          "2021",
          "2022",
          "Current"
         ],
         "xaxis": "x",
         "y": [
          14.93,
          13.87,
          16.07,
          15.69,
          17.33,
          28.06,
          28.36,
          28.36
         ],
         "yaxis": "y"
        },
        {
         "legendgroup": "Return on equity %",
         "line": {
          "color": "#EF553B",
          "dash": "solid"
         },
         "marker": {
          "symbol": "circle"
         },
         "mode": "markers+lines",
         "name": "Return on equity %",
         "orientation": "v",
         "showlegend": true,
         "type": "scatter",
         "x": [
          "2016",
          "2017",
          "2018",
          "2019",
          "2020",
          "2021",
          "2022",
          "Current"
         ],
         "xaxis": "x",
         "y": [
          36.9,
          36.87,
          49.36,
          55.92,
          73.69,
          147.44,
          175.46,
          175.46
         ],
         "yaxis": "y"
        },
        {
         "legendgroup": "Return on invested capital %",
         "line": {
          "color": "#00cc96",
          "dash": "solid"
         },
         "marker": {
          "symbol": "circle"
         },
         "mode": "markers+lines",
         "name": "Return on invested capital %",
         "orientation": "v",
         "showlegend": true,
         "type": "scatter",
         "x": [
          "2016",
          "2017",
          "2018",
          "2019",
          "2020",
          "2021",
          "2022",
          "Current"
         ],
         "xaxis": "x",
         "y": [
          24.27,
          22.23,
          27.55,
          28.84,
          32.37,
          53.36,
          58.22,
          58.22
         ],
         "yaxis": "y"
        }
       ],
       "layout": {
        "hoverlabel": {
         "namelength": -1
        },
        "hovermode": "x",
        "legend": {
         "title": {
          "text": "variable"
         },
         "tracegroupgap": 0
        },
        "template": {
         "data": {
          "bar": [
           {
            "error_x": {
             "color": "#2a3f5f"
            },
            "error_y": {
             "color": "#2a3f5f"
            },
            "marker": {
             "line": {
              "color": "#E5ECF6",
              "width": 0.5
             },
             "pattern": {
              "fillmode": "overlay",
              "size": 10,
              "solidity": 0.2
             }
            },
            "type": "bar"
           }
          ],
          "barpolar": [
           {
            "marker": {
             "line": {
              "color": "#E5ECF6",
              "width": 0.5
             },
             "pattern": {
              "fillmode": "overlay",
              "size": 10,
              "solidity": 0.2
             }
            },
            "type": "barpolar"
           }
          ],
          "carpet": [
           {
            "aaxis": {
             "endlinecolor": "#2a3f5f",
             "gridcolor": "white",
             "linecolor": "white",
             "minorgridcolor": "white",
             "startlinecolor": "#2a3f5f"
            },
            "baxis": {
             "endlinecolor": "#2a3f5f",
             "gridcolor": "white",
             "linecolor": "white",
             "minorgridcolor": "white",
             "startlinecolor": "#2a3f5f"
            },
            "type": "carpet"
           }
          ],
          "choropleth": [
           {
            "colorbar": {
             "outlinewidth": 0,
             "ticks": ""
            },
            "type": "choropleth"
           }
          ],
          "contour": [
           {
            "colorbar": {
             "outlinewidth": 0,
             "ticks": ""
            },
            "colorscale": [
             [
              0,
              "#0d0887"
             ],
             [
              0.1111111111111111,
              "#46039f"
             ],
             [
              0.2222222222222222,
              "#7201a8"
             ],
             [
              0.3333333333333333,
              "#9c179e"
             ],
             [
              0.4444444444444444,
              "#bd3786"
             ],
             [
              0.5555555555555556,
              "#d8576b"
             ],
             [
              0.6666666666666666,
              "#ed7953"
             ],
             [
              0.7777777777777778,
              "#fb9f3a"
             ],
             [
              0.8888888888888888,
              "#fdca26"
             ],
             [
              1,
              "#f0f921"
             ]
            ],
            "type": "contour"
           }
          ],
          "contourcarpet": [
           {
            "colorbar": {
             "outlinewidth": 0,
             "ticks": ""
            },
            "type": "contourcarpet"
           }
          ],
          "heatmap": [
           {
            "colorbar": {
             "outlinewidth": 0,
             "ticks": ""
            },
            "colorscale": [
             [
              0,
              "#0d0887"
             ],
             [
              0.1111111111111111,
              "#46039f"
             ],
             [
              0.2222222222222222,
              "#7201a8"
             ],
             [
              0.3333333333333333,
              "#9c179e"
             ],
             [
              0.4444444444444444,
              "#bd3786"
             ],
             [
              0.5555555555555556,
              "#d8576b"
             ],
             [
              0.6666666666666666,
              "#ed7953"
             ],
             [
              0.7777777777777778,
              "#fb9f3a"
             ],
             [
              0.8888888888888888,
              "#fdca26"
             ],
             [
              1,
              "#f0f921"
             ]
            ],
            "type": "heatmap"
           }
          ],
          "heatmapgl": [
           {
            "colorbar": {
             "outlinewidth": 0,
             "ticks": ""
            },
            "colorscale": [
             [
              0,
              "#0d0887"
             ],
             [
              0.1111111111111111,
              "#46039f"
             ],
             [
              0.2222222222222222,
              "#7201a8"
             ],
             [
              0.3333333333333333,
              "#9c179e"
             ],
             [
              0.4444444444444444,
              "#bd3786"
             ],
             [
              0.5555555555555556,
              "#d8576b"
             ],
             [
              0.6666666666666666,
              "#ed7953"
             ],
             [
              0.7777777777777778,
              "#fb9f3a"
             ],
             [
              0.8888888888888888,
              "#fdca26"
             ],
             [
              1,
              "#f0f921"
             ]
            ],
            "type": "heatmapgl"
           }
          ],
          "histogram": [
           {
            "marker": {
             "pattern": {
              "fillmode": "overlay",
              "size": 10,
              "solidity": 0.2
             }
            },
            "type": "histogram"
           }
          ],
          "histogram2d": [
           {
            "colorbar": {
             "outlinewidth": 0,
             "ticks": ""
            },
            "colorscale": [
             [
              0,
              "#0d0887"
             ],
             [
              0.1111111111111111,
              "#46039f"
             ],
             [
              0.2222222222222222,
              "#7201a8"
             ],
             [
              0.3333333333333333,
              "#9c179e"
             ],
             [
              0.4444444444444444,
              "#bd3786"
             ],
             [
              0.5555555555555556,
              "#d8576b"
             ],
             [
              0.6666666666666666,
              "#ed7953"
             ],
             [
              0.7777777777777778,
              "#fb9f3a"
             ],
             [
              0.8888888888888888,
              "#fdca26"
             ],
             [
              1,
              "#f0f921"
             ]
            ],
            "type": "histogram2d"
           }
          ],
          "histogram2dcontour": [
           {
            "colorbar": {
             "outlinewidth": 0,
             "ticks": ""
            },
            "colorscale": [
             [
              0,
              "#0d0887"
             ],
             [
              0.1111111111111111,
              "#46039f"
             ],
             [
              0.2222222222222222,
              "#7201a8"
             ],
             [
              0.3333333333333333,
              "#9c179e"
             ],
             [
              0.4444444444444444,
              "#bd3786"
             ],
             [
              0.5555555555555556,
              "#d8576b"
             ],
             [
              0.6666666666666666,
              "#ed7953"
             ],
             [
              0.7777777777777778,
              "#fb9f3a"
             ],
             [
              0.8888888888888888,
              "#fdca26"
             ],
             [
              1,
              "#f0f921"
             ]
            ],
            "type": "histogram2dcontour"
           }
          ],
          "mesh3d": [
           {
            "colorbar": {
             "outlinewidth": 0,
             "ticks": ""
            },
            "type": "mesh3d"
           }
          ],
          "parcoords": [
           {
            "line": {
             "colorbar": {
              "outlinewidth": 0,
              "ticks": ""
             }
            },
            "type": "parcoords"
           }
          ],
          "pie": [
           {
            "automargin": true,
            "type": "pie"
           }
          ],
          "scatter": [
           {
            "marker": {
             "colorbar": {
              "outlinewidth": 0,
              "ticks": ""
             }
            },
            "type": "scatter"
           }
          ],
          "scatter3d": [
           {
            "line": {
             "colorbar": {
              "outlinewidth": 0,
              "ticks": ""
             }
            },
            "marker": {
             "colorbar": {
              "outlinewidth": 0,
              "ticks": ""
             }
            },
            "type": "scatter3d"
           }
          ],
          "scattercarpet": [
           {
            "marker": {
             "colorbar": {
              "outlinewidth": 0,
              "ticks": ""
             }
            },
            "type": "scattercarpet"
           }
          ],
          "scattergeo": [
           {
            "marker": {
             "colorbar": {
              "outlinewidth": 0,
              "ticks": ""
             }
            },
            "type": "scattergeo"
           }
          ],
          "scattergl": [
           {
            "marker": {
             "colorbar": {
              "outlinewidth": 0,
              "ticks": ""
             }
            },
            "type": "scattergl"
           }
          ],
          "scattermapbox": [
           {
            "marker": {
             "colorbar": {
              "outlinewidth": 0,
              "ticks": ""
             }
            },
            "type": "scattermapbox"
           }
          ],
          "scatterpolar": [
           {
            "marker": {
             "colorbar": {
              "outlinewidth": 0,
              "ticks": ""
             }
            },
            "type": "scatterpolar"
           }
          ],
          "scatterpolargl": [
           {
            "marker": {
             "colorbar": {
              "outlinewidth": 0,
              "ticks": ""
             }
            },
            "type": "scatterpolargl"
           }
          ],
          "scatterternary": [
           {
            "marker": {
             "colorbar": {
              "outlinewidth": 0,
              "ticks": ""
             }
            },
            "type": "scatterternary"
           }
          ],
          "surface": [
           {
            "colorbar": {
             "outlinewidth": 0,
             "ticks": ""
            },
            "colorscale": [
             [
              0,
              "#0d0887"
             ],
             [
              0.1111111111111111,
              "#46039f"
             ],
             [
              0.2222222222222222,
              "#7201a8"
             ],
             [
              0.3333333333333333,
              "#9c179e"
             ],
             [
              0.4444444444444444,
              "#bd3786"
             ],
             [
              0.5555555555555556,
              "#d8576b"
             ],
             [
              0.6666666666666666,
              "#ed7953"
             ],
             [
              0.7777777777777778,
              "#fb9f3a"
             ],
             [
              0.8888888888888888,
              "#fdca26"
             ],
             [
              1,
              "#f0f921"
             ]
            ],
            "type": "surface"
           }
          ],
          "table": [
           {
            "cells": {
             "fill": {
              "color": "#EBF0F8"
             },
             "line": {
              "color": "white"
             }
            },
            "header": {
             "fill": {
              "color": "#C8D4E3"
             },
             "line": {
              "color": "white"
             }
            },
            "type": "table"
           }
          ]
         },
         "layout": {
          "annotationdefaults": {
           "arrowcolor": "#2a3f5f",
           "arrowhead": 0,
           "arrowwidth": 1
          },
          "autotypenumbers": "strict",
          "coloraxis": {
           "colorbar": {
            "outlinewidth": 0,
            "ticks": ""
           }
          },
          "colorscale": {
           "diverging": [
            [
             0,
             "#8e0152"
            ],
            [
             0.1,
             "#c51b7d"
            ],
            [
             0.2,
             "#de77ae"
            ],
            [
             0.3,
             "#f1b6da"
            ],
            [
             0.4,
             "#fde0ef"
            ],
            [
             0.5,
             "#f7f7f7"
            ],
            [
             0.6,
             "#e6f5d0"
            ],
            [
             0.7,
             "#b8e186"
            ],
            [
             0.8,
             "#7fbc41"
            ],
            [
             0.9,
             "#4d9221"
            ],
            [
             1,
             "#276419"
            ]
           ],
           "sequential": [
            [
             0,
             "#0d0887"
            ],
            [
             0.1111111111111111,
             "#46039f"
            ],
            [
             0.2222222222222222,
             "#7201a8"
            ],
            [
             0.3333333333333333,
             "#9c179e"
            ],
            [
             0.4444444444444444,
             "#bd3786"
            ],
            [
             0.5555555555555556,
             "#d8576b"
            ],
            [
             0.6666666666666666,
             "#ed7953"
            ],
            [
             0.7777777777777778,
             "#fb9f3a"
            ],
            [
             0.8888888888888888,
             "#fdca26"
            ],
            [
             1,
             "#f0f921"
            ]
           ],
           "sequentialminus": [
            [
             0,
             "#0d0887"
            ],
            [
             0.1111111111111111,
             "#46039f"
            ],
            [
             0.2222222222222222,
             "#7201a8"
            ],
            [
             0.3333333333333333,
             "#9c179e"
            ],
            [
             0.4444444444444444,
             "#bd3786"
            ],
            [
             0.5555555555555556,
             "#d8576b"
            ],
            [
             0.6666666666666666,
             "#ed7953"
            ],
            [
             0.7777777777777778,
             "#fb9f3a"
            ],
            [
             0.8888888888888888,
             "#fdca26"
            ],
            [
             1,
             "#f0f921"
            ]
           ]
          },
          "colorway": [
           "#636efa",
           "#EF553B",
           "#00cc96",
           "#ab63fa",
           "#FFA15A",
           "#19d3f3",
           "#FF6692",
           "#B6E880",
           "#FF97FF",
           "#FECB52"
          ],
          "font": {
           "color": "#2a3f5f"
          },
          "geo": {
           "bgcolor": "white",
           "lakecolor": "white",
           "landcolor": "#E5ECF6",
           "showlakes": true,
           "showland": true,
           "subunitcolor": "white"
          },
          "hoverlabel": {
           "align": "left"
          },
          "hovermode": "closest",
          "mapbox": {
           "style": "light"
          },
          "paper_bgcolor": "white",
          "plot_bgcolor": "#E5ECF6",
          "polar": {
           "angularaxis": {
            "gridcolor": "white",
            "linecolor": "white",
            "ticks": ""
           },
           "bgcolor": "#E5ECF6",
           "radialaxis": {
            "gridcolor": "white",
            "linecolor": "white",
            "ticks": ""
           }
          },
          "scene": {
           "xaxis": {
            "backgroundcolor": "#E5ECF6",
            "gridcolor": "white",
            "gridwidth": 2,
            "linecolor": "white",
            "showbackground": true,
            "ticks": "",
            "zerolinecolor": "white"
           },
           "yaxis": {
            "backgroundcolor": "#E5ECF6",
            "gridcolor": "white",
            "gridwidth": 2,
            "linecolor": "white",
            "showbackground": true,
            "ticks": "",
            "zerolinecolor": "white"
           },
           "zaxis": {
            "backgroundcolor": "#E5ECF6",
            "gridcolor": "white",
            "gridwidth": 2,
            "linecolor": "white",
            "showbackground": true,
            "ticks": "",
            "zerolinecolor": "white"
           }
          },
          "shapedefaults": {
           "line": {
            "color": "#2a3f5f"
           }
          },
          "ternary": {
           "aaxis": {
            "gridcolor": "white",
            "linecolor": "white",
            "ticks": ""
           },
           "baxis": {
            "gridcolor": "white",
            "linecolor": "white",
            "ticks": ""
           },
           "bgcolor": "#E5ECF6",
           "caxis": {
            "gridcolor": "white",
            "linecolor": "white",
            "ticks": ""
           }
          },
          "title": {
           "x": 0.05
          },
          "xaxis": {
           "automargin": true,
           "gridcolor": "white",
           "linecolor": "white",
           "ticks": "",
           "title": {
            "standoff": 15
           },
           "zerolinecolor": "white",
           "zerolinewidth": 2
          },
          "yaxis": {
           "automargin": true,
           "gridcolor": "white",
           "linecolor": "white",
           "ticks": "",
           "title": {
            "standoff": 15
           },
           "zerolinecolor": "white",
           "zerolinewidth": 2
          }
         }
        },
        "title": {
         "text": "APPLE INC | Return Ratios"
        },
        "xaxis": {
         "anchor": "y",
         "domain": [
          0,
          1
         ],
         "title": {
          "text": "index"
         }
        },
        "yaxis": {
         "anchor": "x",
         "domain": [
          0,
          1
         ],
         "title": {
          "text": "value"
         }
        }
       }
      }
     },
     "metadata": {},
     "output_type": "display_data"
    },
    {
     "data": {
      "application/vnd.plotly.v1+json": {
       "config": {
        "plotlyServerURL": "https://plot.ly"
       },
       "data": [
        {
         "legendgroup": "Gross margin %",
         "line": {
          "color": "#636efa",
          "dash": "solid"
         },
         "marker": {
          "symbol": "circle"
         },
         "mode": "markers+lines",
         "name": "Gross margin %",
         "orientation": "v",
         "showlegend": true,
         "type": "scatter",
         "x": [
          "2016",
          "2017",
          "2018",
          "2019",
          "2020",
          "2021",
          "2022",
          "Current"
         ],
         "xaxis": "x",
         "y": [
          38.61,
          38.01,
          38.37,
          37.58,
          37.94,
          41.78,
          43.31,
          42.26
         ],
         "yaxis": "y"
        },
        {
         "legendgroup": "EBITDA margin %",
         "line": {
          "color": "#EF553B",
          "dash": "solid"
         },
         "marker": {
          "symbol": "circle"
         },
         "mode": "markers+lines",
         "name": "EBITDA margin %",
         "orientation": "v",
         "showlegend": true,
         "type": "scatter",
         "x": [
          "2016",
          "2017",
          "2018",
          "2019",
          "2020",
          "2021",
          "2022",
          "Current"
         ],
         "xaxis": "x",
         "y": [
          31.87,
          30.37,
          30.23,
          28.67,
          27.87,
          32.87,
          33.1,
          30.79
         ],
         "yaxis": "y"
        },
        {
         "legendgroup": "Net margin %",
         "line": {
          "color": "#00cc96",
          "dash": "solid"
         },
         "marker": {
          "symbol": "circle"
         },
         "mode": "markers+lines",
         "name": "Net margin %",
         "orientation": "v",
         "showlegend": true,
         "type": "scatter",
         "x": [
          "2016",
          "2017",
          "2018",
          "2019",
          "2020",
          "2021",
          "2022",
          "Current"
         ],
         "xaxis": "x",
         "y": [
          21.33,
          21.15,
          22.4,
          21.25,
          20.94,
          25.88,
          25.31,
          22.99
         ],
         "yaxis": "y"
        },
        {
         "legendgroup": "Operating margin %",
         "line": {
          "color": "#ab63fa",
          "dash": "solid"
         },
         "marker": {
          "symbol": "circle"
         },
         "mode": "markers+lines",
         "name": "Operating margin %",
         "orientation": "v",
         "showlegend": true,
         "type": "scatter",
         "x": [
          "2016",
          "2017",
          "2018",
          "2019",
          "2020",
          "2021",
          "2022",
          "Current"
         ],
         "xaxis": "x",
         "y": [
          27.3,
          26.26,
          26.73,
          24.33,
          23.83,
          29.78,
          30.29,
          27.62
         ],
         "yaxis": "y"
        }
       ],
       "layout": {
        "hoverlabel": {
         "namelength": -1
        },
        "hovermode": "x",
        "legend": {
         "title": {
          "text": "variable"
         },
         "tracegroupgap": 0
        },
        "template": {
         "data": {
          "bar": [
           {
            "error_x": {
             "color": "#2a3f5f"
            },
            "error_y": {
             "color": "#2a3f5f"
            },
            "marker": {
             "line": {
              "color": "#E5ECF6",
              "width": 0.5
             },
             "pattern": {
              "fillmode": "overlay",
              "size": 10,
              "solidity": 0.2
             }
            },
            "type": "bar"
           }
          ],
          "barpolar": [
           {
            "marker": {
             "line": {
              "color": "#E5ECF6",
              "width": 0.5
             },
             "pattern": {
              "fillmode": "overlay",
              "size": 10,
              "solidity": 0.2
             }
            },
            "type": "barpolar"
           }
          ],
          "carpet": [
           {
            "aaxis": {
             "endlinecolor": "#2a3f5f",
             "gridcolor": "white",
             "linecolor": "white",
             "minorgridcolor": "white",
             "startlinecolor": "#2a3f5f"
            },
            "baxis": {
             "endlinecolor": "#2a3f5f",
             "gridcolor": "white",
             "linecolor": "white",
             "minorgridcolor": "white",
             "startlinecolor": "#2a3f5f"
            },
            "type": "carpet"
           }
          ],
          "choropleth": [
           {
            "colorbar": {
             "outlinewidth": 0,
             "ticks": ""
            },
            "type": "choropleth"
           }
          ],
          "contour": [
           {
            "colorbar": {
             "outlinewidth": 0,
             "ticks": ""
            },
            "colorscale": [
             [
              0,
              "#0d0887"
             ],
             [
              0.1111111111111111,
              "#46039f"
             ],
             [
              0.2222222222222222,
              "#7201a8"
             ],
             [
              0.3333333333333333,
              "#9c179e"
             ],
             [
              0.4444444444444444,
              "#bd3786"
             ],
             [
              0.5555555555555556,
              "#d8576b"
             ],
             [
              0.6666666666666666,
              "#ed7953"
             ],
             [
              0.7777777777777778,
              "#fb9f3a"
             ],
             [
              0.8888888888888888,
              "#fdca26"
             ],
             [
              1,
              "#f0f921"
             ]
            ],
            "type": "contour"
           }
          ],
          "contourcarpet": [
           {
            "colorbar": {
             "outlinewidth": 0,
             "ticks": ""
            },
            "type": "contourcarpet"
           }
          ],
          "heatmap": [
           {
            "colorbar": {
             "outlinewidth": 0,
             "ticks": ""
            },
            "colorscale": [
             [
              0,
              "#0d0887"
             ],
             [
              0.1111111111111111,
              "#46039f"
             ],
             [
              0.2222222222222222,
              "#7201a8"
             ],
             [
              0.3333333333333333,
              "#9c179e"
             ],
             [
              0.4444444444444444,
              "#bd3786"
             ],
             [
              0.5555555555555556,
              "#d8576b"
             ],
             [
              0.6666666666666666,
              "#ed7953"
             ],
             [
              0.7777777777777778,
              "#fb9f3a"
             ],
             [
              0.8888888888888888,
              "#fdca26"
             ],
             [
              1,
              "#f0f921"
             ]
            ],
            "type": "heatmap"
           }
          ],
          "heatmapgl": [
           {
            "colorbar": {
             "outlinewidth": 0,
             "ticks": ""
            },
            "colorscale": [
             [
              0,
              "#0d0887"
             ],
             [
              0.1111111111111111,
              "#46039f"
             ],
             [
              0.2222222222222222,
              "#7201a8"
             ],
             [
              0.3333333333333333,
              "#9c179e"
             ],
             [
              0.4444444444444444,
              "#bd3786"
             ],
             [
              0.5555555555555556,
              "#d8576b"
             ],
             [
              0.6666666666666666,
              "#ed7953"
             ],
             [
              0.7777777777777778,
              "#fb9f3a"
             ],
             [
              0.8888888888888888,
              "#fdca26"
             ],
             [
              1,
              "#f0f921"
             ]
            ],
            "type": "heatmapgl"
           }
          ],
          "histogram": [
           {
            "marker": {
             "pattern": {
              "fillmode": "overlay",
              "size": 10,
              "solidity": 0.2
             }
            },
            "type": "histogram"
           }
          ],
          "histogram2d": [
           {
            "colorbar": {
             "outlinewidth": 0,
             "ticks": ""
            },
            "colorscale": [
             [
              0,
              "#0d0887"
             ],
             [
              0.1111111111111111,
              "#46039f"
             ],
             [
              0.2222222222222222,
              "#7201a8"
             ],
             [
              0.3333333333333333,
              "#9c179e"
             ],
             [
              0.4444444444444444,
              "#bd3786"
             ],
             [
              0.5555555555555556,
              "#d8576b"
             ],
             [
              0.6666666666666666,
              "#ed7953"
             ],
             [
              0.7777777777777778,
              "#fb9f3a"
             ],
             [
              0.8888888888888888,
              "#fdca26"
             ],
             [
              1,
              "#f0f921"
             ]
            ],
            "type": "histogram2d"
           }
          ],
          "histogram2dcontour": [
           {
            "colorbar": {
             "outlinewidth": 0,
             "ticks": ""
            },
            "colorscale": [
             [
              0,
              "#0d0887"
             ],
             [
              0.1111111111111111,
              "#46039f"
             ],
             [
              0.2222222222222222,
              "#7201a8"
             ],
             [
              0.3333333333333333,
              "#9c179e"
             ],
             [
              0.4444444444444444,
              "#bd3786"
             ],
             [
              0.5555555555555556,
              "#d8576b"
             ],
             [
              0.6666666666666666,
              "#ed7953"
             ],
             [
              0.7777777777777778,
              "#fb9f3a"
             ],
             [
              0.8888888888888888,
              "#fdca26"
             ],
             [
              1,
              "#f0f921"
             ]
            ],
            "type": "histogram2dcontour"
           }
          ],
          "mesh3d": [
           {
            "colorbar": {
             "outlinewidth": 0,
             "ticks": ""
            },
            "type": "mesh3d"
           }
          ],
          "parcoords": [
           {
            "line": {
             "colorbar": {
              "outlinewidth": 0,
              "ticks": ""
             }
            },
            "type": "parcoords"
           }
          ],
          "pie": [
           {
            "automargin": true,
            "type": "pie"
           }
          ],
          "scatter": [
           {
            "marker": {
             "colorbar": {
              "outlinewidth": 0,
              "ticks": ""
             }
            },
            "type": "scatter"
           }
          ],
          "scatter3d": [
           {
            "line": {
             "colorbar": {
              "outlinewidth": 0,
              "ticks": ""
             }
            },
            "marker": {
             "colorbar": {
              "outlinewidth": 0,
              "ticks": ""
             }
            },
            "type": "scatter3d"
           }
          ],
          "scattercarpet": [
           {
            "marker": {
             "colorbar": {
              "outlinewidth": 0,
              "ticks": ""
             }
            },
            "type": "scattercarpet"
           }
          ],
          "scattergeo": [
           {
            "marker": {
             "colorbar": {
              "outlinewidth": 0,
              "ticks": ""
             }
            },
            "type": "scattergeo"
           }
          ],
          "scattergl": [
           {
            "marker": {
             "colorbar": {
              "outlinewidth": 0,
              "ticks": ""
             }
            },
            "type": "scattergl"
           }
          ],
          "scattermapbox": [
           {
            "marker": {
             "colorbar": {
              "outlinewidth": 0,
              "ticks": ""
             }
            },
            "type": "scattermapbox"
           }
          ],
          "scatterpolar": [
           {
            "marker": {
             "colorbar": {
              "outlinewidth": 0,
              "ticks": ""
             }
            },
            "type": "scatterpolar"
           }
          ],
          "scatterpolargl": [
           {
            "marker": {
             "colorbar": {
              "outlinewidth": 0,
              "ticks": ""
             }
            },
            "type": "scatterpolargl"
           }
          ],
          "scatterternary": [
           {
            "marker": {
             "colorbar": {
              "outlinewidth": 0,
              "ticks": ""
             }
            },
            "type": "scatterternary"
           }
          ],
          "surface": [
           {
            "colorbar": {
             "outlinewidth": 0,
             "ticks": ""
            },
            "colorscale": [
             [
              0,
              "#0d0887"
             ],
             [
              0.1111111111111111,
              "#46039f"
             ],
             [
              0.2222222222222222,
              "#7201a8"
             ],
             [
              0.3333333333333333,
              "#9c179e"
             ],
             [
              0.4444444444444444,
              "#bd3786"
             ],
             [
              0.5555555555555556,
              "#d8576b"
             ],
             [
              0.6666666666666666,
              "#ed7953"
             ],
             [
              0.7777777777777778,
              "#fb9f3a"
             ],
             [
              0.8888888888888888,
              "#fdca26"
             ],
             [
              1,
              "#f0f921"
             ]
            ],
            "type": "surface"
           }
          ],
          "table": [
           {
            "cells": {
             "fill": {
              "color": "#EBF0F8"
             },
             "line": {
              "color": "white"
             }
            },
            "header": {
             "fill": {
              "color": "#C8D4E3"
             },
             "line": {
              "color": "white"
             }
            },
            "type": "table"
           }
          ]
         },
         "layout": {
          "annotationdefaults": {
           "arrowcolor": "#2a3f5f",
           "arrowhead": 0,
           "arrowwidth": 1
          },
          "autotypenumbers": "strict",
          "coloraxis": {
           "colorbar": {
            "outlinewidth": 0,
            "ticks": ""
           }
          },
          "colorscale": {
           "diverging": [
            [
             0,
             "#8e0152"
            ],
            [
             0.1,
             "#c51b7d"
            ],
            [
             0.2,
             "#de77ae"
            ],
            [
             0.3,
             "#f1b6da"
            ],
            [
             0.4,
             "#fde0ef"
            ],
            [
             0.5,
             "#f7f7f7"
            ],
            [
             0.6,
             "#e6f5d0"
            ],
            [
             0.7,
             "#b8e186"
            ],
            [
             0.8,
             "#7fbc41"
            ],
            [
             0.9,
             "#4d9221"
            ],
            [
             1,
             "#276419"
            ]
           ],
           "sequential": [
            [
             0,
             "#0d0887"
            ],
            [
             0.1111111111111111,
             "#46039f"
            ],
            [
             0.2222222222222222,
             "#7201a8"
            ],
            [
             0.3333333333333333,
             "#9c179e"
            ],
            [
             0.4444444444444444,
             "#bd3786"
            ],
            [
             0.5555555555555556,
             "#d8576b"
            ],
            [
             0.6666666666666666,
             "#ed7953"
            ],
            [
             0.7777777777777778,
             "#fb9f3a"
            ],
            [
             0.8888888888888888,
             "#fdca26"
            ],
            [
             1,
             "#f0f921"
            ]
           ],
           "sequentialminus": [
            [
             0,
             "#0d0887"
            ],
            [
             0.1111111111111111,
             "#46039f"
            ],
            [
             0.2222222222222222,
             "#7201a8"
            ],
            [
             0.3333333333333333,
             "#9c179e"
            ],
            [
             0.4444444444444444,
             "#bd3786"
            ],
            [
             0.5555555555555556,
             "#d8576b"
            ],
            [
             0.6666666666666666,
             "#ed7953"
            ],
            [
             0.7777777777777778,
             "#fb9f3a"
            ],
            [
             0.8888888888888888,
             "#fdca26"
            ],
            [
             1,
             "#f0f921"
            ]
           ]
          },
          "colorway": [
           "#636efa",
           "#EF553B",
           "#00cc96",
           "#ab63fa",
           "#FFA15A",
           "#19d3f3",
           "#FF6692",
           "#B6E880",
           "#FF97FF",
           "#FECB52"
          ],
          "font": {
           "color": "#2a3f5f"
          },
          "geo": {
           "bgcolor": "white",
           "lakecolor": "white",
           "landcolor": "#E5ECF6",
           "showlakes": true,
           "showland": true,
           "subunitcolor": "white"
          },
          "hoverlabel": {
           "align": "left"
          },
          "hovermode": "closest",
          "mapbox": {
           "style": "light"
          },
          "paper_bgcolor": "white",
          "plot_bgcolor": "#E5ECF6",
          "polar": {
           "angularaxis": {
            "gridcolor": "white",
            "linecolor": "white",
            "ticks": ""
           },
           "bgcolor": "#E5ECF6",
           "radialaxis": {
            "gridcolor": "white",
            "linecolor": "white",
            "ticks": ""
           }
          },
          "scene": {
           "xaxis": {
            "backgroundcolor": "#E5ECF6",
            "gridcolor": "white",
            "gridwidth": 2,
            "linecolor": "white",
            "showbackground": true,
            "ticks": "",
            "zerolinecolor": "white"
           },
           "yaxis": {
            "backgroundcolor": "#E5ECF6",
            "gridcolor": "white",
            "gridwidth": 2,
            "linecolor": "white",
            "showbackground": true,
            "ticks": "",
            "zerolinecolor": "white"
           },
           "zaxis": {
            "backgroundcolor": "#E5ECF6",
            "gridcolor": "white",
            "gridwidth": 2,
            "linecolor": "white",
            "showbackground": true,
            "ticks": "",
            "zerolinecolor": "white"
           }
          },
          "shapedefaults": {
           "line": {
            "color": "#2a3f5f"
           }
          },
          "ternary": {
           "aaxis": {
            "gridcolor": "white",
            "linecolor": "white",
            "ticks": ""
           },
           "baxis": {
            "gridcolor": "white",
            "linecolor": "white",
            "ticks": ""
           },
           "bgcolor": "#E5ECF6",
           "caxis": {
            "gridcolor": "white",
            "linecolor": "white",
            "ticks": ""
           }
          },
          "title": {
           "x": 0.05
          },
          "xaxis": {
           "automargin": true,
           "gridcolor": "white",
           "linecolor": "white",
           "ticks": "",
           "title": {
            "standoff": 15
           },
           "zerolinecolor": "white",
           "zerolinewidth": 2
          },
          "yaxis": {
           "automargin": true,
           "gridcolor": "white",
           "linecolor": "white",
           "ticks": "",
           "title": {
            "standoff": 15
           },
           "zerolinecolor": "white",
           "zerolinewidth": 2
          }
         }
        },
        "title": {
         "text": "APPLE INC | Margins"
        },
        "xaxis": {
         "anchor": "y",
         "domain": [
          0,
          1
         ],
         "title": {
          "text": "index"
         }
        },
        "yaxis": {
         "anchor": "x",
         "domain": [
          0,
          1
         ],
         "title": {
          "text": "value"
         }
        }
       }
      }
     },
     "metadata": {},
     "output_type": "display_data"
    },
    {
     "data": {
      "application/vnd.plotly.v1+json": {
       "config": {
        "plotlyServerURL": "https://plot.ly"
       },
       "data": [
        {
         "legendgroup": "Debt to assets ratio",
         "line": {
          "color": "#636efa",
          "dash": "solid"
         },
         "marker": {
          "symbol": "circle"
         },
         "mode": "markers+lines",
         "name": "Debt to assets ratio",
         "orientation": "v",
         "showlegend": true,
         "type": "scatter",
         "x": [
          "2016",
          "2017",
          "2018",
          "2019",
          "2020",
          "2021",
          "2022",
          "Current"
         ],
         "xaxis": "x",
         "y": [
          0.27,
          0.31,
          0.31,
          0.32,
          0.38,
          0.39,
          0.38,
          0.38
         ],
         "yaxis": "y"
        },
        {
         "legendgroup": "Debt to equity ratio",
         "line": {
          "color": "#EF553B",
          "dash": "solid"
         },
         "marker": {
          "symbol": "circle"
         },
         "mode": "markers+lines",
         "name": "Debt to equity ratio",
         "orientation": "v",
         "showlegend": true,
         "type": "scatter",
         "x": [
          "2016",
          "2017",
          "2018",
          "2019",
          "2020",
          "2021",
          "2022",
          "Current"
         ],
         "xaxis": "x",
         "y": [
          0.68,
          0.86,
          1.07,
          1.19,
          1.87,
          2.16,
          2.61,
          2.61
         ],
         "yaxis": "y"
        },
        {
         "legendgroup": "Long term debt to total assets ratio",
         "line": {
          "color": "#00cc96",
          "dash": "solid"
         },
         "marker": {
          "symbol": "circle"
         },
         "mode": "markers+lines",
         "name": "Long term debt to total assets ratio",
         "orientation": "v",
         "showlegend": true,
         "type": "scatter",
         "x": [
          "2016",
          "2017",
          "2018",
          "2019",
          "2020",
          "2021",
          "2022",
          "Current"
         ],
         "xaxis": "x",
         "y": [
          0.23,
          0.26,
          0.26,
          0.27,
          0.33,
          0.34,
          0.31,
          0.31
         ],
         "yaxis": "y"
        }
       ],
       "layout": {
        "hoverlabel": {
         "namelength": -1
        },
        "hovermode": "x",
        "legend": {
         "title": {
          "text": "variable"
         },
         "tracegroupgap": 0
        },
        "template": {
         "data": {
          "bar": [
           {
            "error_x": {
             "color": "#2a3f5f"
            },
            "error_y": {
             "color": "#2a3f5f"
            },
            "marker": {
             "line": {
              "color": "#E5ECF6",
              "width": 0.5
             },
             "pattern": {
              "fillmode": "overlay",
              "size": 10,
              "solidity": 0.2
             }
            },
            "type": "bar"
           }
          ],
          "barpolar": [
           {
            "marker": {
             "line": {
              "color": "#E5ECF6",
              "width": 0.5
             },
             "pattern": {
              "fillmode": "overlay",
              "size": 10,
              "solidity": 0.2
             }
            },
            "type": "barpolar"
           }
          ],
          "carpet": [
           {
            "aaxis": {
             "endlinecolor": "#2a3f5f",
             "gridcolor": "white",
             "linecolor": "white",
             "minorgridcolor": "white",
             "startlinecolor": "#2a3f5f"
            },
            "baxis": {
             "endlinecolor": "#2a3f5f",
             "gridcolor": "white",
             "linecolor": "white",
             "minorgridcolor": "white",
             "startlinecolor": "#2a3f5f"
            },
            "type": "carpet"
           }
          ],
          "choropleth": [
           {
            "colorbar": {
             "outlinewidth": 0,
             "ticks": ""
            },
            "type": "choropleth"
           }
          ],
          "contour": [
           {
            "colorbar": {
             "outlinewidth": 0,
             "ticks": ""
            },
            "colorscale": [
             [
              0,
              "#0d0887"
             ],
             [
              0.1111111111111111,
              "#46039f"
             ],
             [
              0.2222222222222222,
              "#7201a8"
             ],
             [
              0.3333333333333333,
              "#9c179e"
             ],
             [
              0.4444444444444444,
              "#bd3786"
             ],
             [
              0.5555555555555556,
              "#d8576b"
             ],
             [
              0.6666666666666666,
              "#ed7953"
             ],
             [
              0.7777777777777778,
              "#fb9f3a"
             ],
             [
              0.8888888888888888,
              "#fdca26"
             ],
             [
              1,
              "#f0f921"
             ]
            ],
            "type": "contour"
           }
          ],
          "contourcarpet": [
           {
            "colorbar": {
             "outlinewidth": 0,
             "ticks": ""
            },
            "type": "contourcarpet"
           }
          ],
          "heatmap": [
           {
            "colorbar": {
             "outlinewidth": 0,
             "ticks": ""
            },
            "colorscale": [
             [
              0,
              "#0d0887"
             ],
             [
              0.1111111111111111,
              "#46039f"
             ],
             [
              0.2222222222222222,
              "#7201a8"
             ],
             [
              0.3333333333333333,
              "#9c179e"
             ],
             [
              0.4444444444444444,
              "#bd3786"
             ],
             [
              0.5555555555555556,
              "#d8576b"
             ],
             [
              0.6666666666666666,
              "#ed7953"
             ],
             [
              0.7777777777777778,
              "#fb9f3a"
             ],
             [
              0.8888888888888888,
              "#fdca26"
             ],
             [
              1,
              "#f0f921"
             ]
            ],
            "type": "heatmap"
           }
          ],
          "heatmapgl": [
           {
            "colorbar": {
             "outlinewidth": 0,
             "ticks": ""
            },
            "colorscale": [
             [
              0,
              "#0d0887"
             ],
             [
              0.1111111111111111,
              "#46039f"
             ],
             [
              0.2222222222222222,
              "#7201a8"
             ],
             [
              0.3333333333333333,
              "#9c179e"
             ],
             [
              0.4444444444444444,
              "#bd3786"
             ],
             [
              0.5555555555555556,
              "#d8576b"
             ],
             [
              0.6666666666666666,
              "#ed7953"
             ],
             [
              0.7777777777777778,
              "#fb9f3a"
             ],
             [
              0.8888888888888888,
              "#fdca26"
             ],
             [
              1,
              "#f0f921"
             ]
            ],
            "type": "heatmapgl"
           }
          ],
          "histogram": [
           {
            "marker": {
             "pattern": {
              "fillmode": "overlay",
              "size": 10,
              "solidity": 0.2
             }
            },
            "type": "histogram"
           }
          ],
          "histogram2d": [
           {
            "colorbar": {
             "outlinewidth": 0,
             "ticks": ""
            },
            "colorscale": [
             [
              0,
              "#0d0887"
             ],
             [
              0.1111111111111111,
              "#46039f"
             ],
             [
              0.2222222222222222,
              "#7201a8"
             ],
             [
              0.3333333333333333,
              "#9c179e"
             ],
             [
              0.4444444444444444,
              "#bd3786"
             ],
             [
              0.5555555555555556,
              "#d8576b"
             ],
             [
              0.6666666666666666,
              "#ed7953"
             ],
             [
              0.7777777777777778,
              "#fb9f3a"
             ],
             [
              0.8888888888888888,
              "#fdca26"
             ],
             [
              1,
              "#f0f921"
             ]
            ],
            "type": "histogram2d"
           }
          ],
          "histogram2dcontour": [
           {
            "colorbar": {
             "outlinewidth": 0,
             "ticks": ""
            },
            "colorscale": [
             [
              0,
              "#0d0887"
             ],
             [
              0.1111111111111111,
              "#46039f"
             ],
             [
              0.2222222222222222,
              "#7201a8"
             ],
             [
              0.3333333333333333,
              "#9c179e"
             ],
             [
              0.4444444444444444,
              "#bd3786"
             ],
             [
              0.5555555555555556,
              "#d8576b"
             ],
             [
              0.6666666666666666,
              "#ed7953"
             ],
             [
              0.7777777777777778,
              "#fb9f3a"
             ],
             [
              0.8888888888888888,
              "#fdca26"
             ],
             [
              1,
              "#f0f921"
             ]
            ],
            "type": "histogram2dcontour"
           }
          ],
          "mesh3d": [
           {
            "colorbar": {
             "outlinewidth": 0,
             "ticks": ""
            },
            "type": "mesh3d"
           }
          ],
          "parcoords": [
           {
            "line": {
             "colorbar": {
              "outlinewidth": 0,
              "ticks": ""
             }
            },
            "type": "parcoords"
           }
          ],
          "pie": [
           {
            "automargin": true,
            "type": "pie"
           }
          ],
          "scatter": [
           {
            "marker": {
             "colorbar": {
              "outlinewidth": 0,
              "ticks": ""
             }
            },
            "type": "scatter"
           }
          ],
          "scatter3d": [
           {
            "line": {
             "colorbar": {
              "outlinewidth": 0,
              "ticks": ""
             }
            },
            "marker": {
             "colorbar": {
              "outlinewidth": 0,
              "ticks": ""
             }
            },
            "type": "scatter3d"
           }
          ],
          "scattercarpet": [
           {
            "marker": {
             "colorbar": {
              "outlinewidth": 0,
              "ticks": ""
             }
            },
            "type": "scattercarpet"
           }
          ],
          "scattergeo": [
           {
            "marker": {
             "colorbar": {
              "outlinewidth": 0,
              "ticks": ""
             }
            },
            "type": "scattergeo"
           }
          ],
          "scattergl": [
           {
            "marker": {
             "colorbar": {
              "outlinewidth": 0,
              "ticks": ""
             }
            },
            "type": "scattergl"
           }
          ],
          "scattermapbox": [
           {
            "marker": {
             "colorbar": {
              "outlinewidth": 0,
              "ticks": ""
             }
            },
            "type": "scattermapbox"
           }
          ],
          "scatterpolar": [
           {
            "marker": {
             "colorbar": {
              "outlinewidth": 0,
              "ticks": ""
             }
            },
            "type": "scatterpolar"
           }
          ],
          "scatterpolargl": [
           {
            "marker": {
             "colorbar": {
              "outlinewidth": 0,
              "ticks": ""
             }
            },
            "type": "scatterpolargl"
           }
          ],
          "scatterternary": [
           {
            "marker": {
             "colorbar": {
              "outlinewidth": 0,
              "ticks": ""
             }
            },
            "type": "scatterternary"
           }
          ],
          "surface": [
           {
            "colorbar": {
             "outlinewidth": 0,
             "ticks": ""
            },
            "colorscale": [
             [
              0,
              "#0d0887"
             ],
             [
              0.1111111111111111,
              "#46039f"
             ],
             [
              0.2222222222222222,
              "#7201a8"
             ],
             [
              0.3333333333333333,
              "#9c179e"
             ],
             [
              0.4444444444444444,
              "#bd3786"
             ],
             [
              0.5555555555555556,
              "#d8576b"
             ],
             [
              0.6666666666666666,
              "#ed7953"
             ],
             [
              0.7777777777777778,
              "#fb9f3a"
             ],
             [
              0.8888888888888888,
              "#fdca26"
             ],
             [
              1,
              "#f0f921"
             ]
            ],
            "type": "surface"
           }
          ],
          "table": [
           {
            "cells": {
             "fill": {
              "color": "#EBF0F8"
             },
             "line": {
              "color": "white"
             }
            },
            "header": {
             "fill": {
              "color": "#C8D4E3"
             },
             "line": {
              "color": "white"
             }
            },
            "type": "table"
           }
          ]
         },
         "layout": {
          "annotationdefaults": {
           "arrowcolor": "#2a3f5f",
           "arrowhead": 0,
           "arrowwidth": 1
          },
          "autotypenumbers": "strict",
          "coloraxis": {
           "colorbar": {
            "outlinewidth": 0,
            "ticks": ""
           }
          },
          "colorscale": {
           "diverging": [
            [
             0,
             "#8e0152"
            ],
            [
             0.1,
             "#c51b7d"
            ],
            [
             0.2,
             "#de77ae"
            ],
            [
             0.3,
             "#f1b6da"
            ],
            [
             0.4,
             "#fde0ef"
            ],
            [
             0.5,
             "#f7f7f7"
            ],
            [
             0.6,
             "#e6f5d0"
            ],
            [
             0.7,
             "#b8e186"
            ],
            [
             0.8,
             "#7fbc41"
            ],
            [
             0.9,
             "#4d9221"
            ],
            [
             1,
             "#276419"
            ]
           ],
           "sequential": [
            [
             0,
             "#0d0887"
            ],
            [
             0.1111111111111111,
             "#46039f"
            ],
            [
             0.2222222222222222,
             "#7201a8"
            ],
            [
             0.3333333333333333,
             "#9c179e"
            ],
            [
             0.4444444444444444,
             "#bd3786"
            ],
            [
             0.5555555555555556,
             "#d8576b"
            ],
            [
             0.6666666666666666,
             "#ed7953"
            ],
            [
             0.7777777777777778,
             "#fb9f3a"
            ],
            [
             0.8888888888888888,
             "#fdca26"
            ],
            [
             1,
             "#f0f921"
            ]
           ],
           "sequentialminus": [
            [
             0,
             "#0d0887"
            ],
            [
             0.1111111111111111,
             "#46039f"
            ],
            [
             0.2222222222222222,
             "#7201a8"
            ],
            [
             0.3333333333333333,
             "#9c179e"
            ],
            [
             0.4444444444444444,
             "#bd3786"
            ],
            [
             0.5555555555555556,
             "#d8576b"
            ],
            [
             0.6666666666666666,
             "#ed7953"
            ],
            [
             0.7777777777777778,
             "#fb9f3a"
            ],
            [
             0.8888888888888888,
             "#fdca26"
            ],
            [
             1,
             "#f0f921"
            ]
           ]
          },
          "colorway": [
           "#636efa",
           "#EF553B",
           "#00cc96",
           "#ab63fa",
           "#FFA15A",
           "#19d3f3",
           "#FF6692",
           "#B6E880",
           "#FF97FF",
           "#FECB52"
          ],
          "font": {
           "color": "#2a3f5f"
          },
          "geo": {
           "bgcolor": "white",
           "lakecolor": "white",
           "landcolor": "#E5ECF6",
           "showlakes": true,
           "showland": true,
           "subunitcolor": "white"
          },
          "hoverlabel": {
           "align": "left"
          },
          "hovermode": "closest",
          "mapbox": {
           "style": "light"
          },
          "paper_bgcolor": "white",
          "plot_bgcolor": "#E5ECF6",
          "polar": {
           "angularaxis": {
            "gridcolor": "white",
            "linecolor": "white",
            "ticks": ""
           },
           "bgcolor": "#E5ECF6",
           "radialaxis": {
            "gridcolor": "white",
            "linecolor": "white",
            "ticks": ""
           }
          },
          "scene": {
           "xaxis": {
            "backgroundcolor": "#E5ECF6",
            "gridcolor": "white",
            "gridwidth": 2,
            "linecolor": "white",
            "showbackground": true,
            "ticks": "",
            "zerolinecolor": "white"
           },
           "yaxis": {
            "backgroundcolor": "#E5ECF6",
            "gridcolor": "white",
            "gridwidth": 2,
            "linecolor": "white",
            "showbackground": true,
            "ticks": "",
            "zerolinecolor": "white"
           },
           "zaxis": {
            "backgroundcolor": "#E5ECF6",
            "gridcolor": "white",
            "gridwidth": 2,
            "linecolor": "white",
            "showbackground": true,
            "ticks": "",
            "zerolinecolor": "white"
           }
          },
          "shapedefaults": {
           "line": {
            "color": "#2a3f5f"
           }
          },
          "ternary": {
           "aaxis": {
            "gridcolor": "white",
            "linecolor": "white",
            "ticks": ""
           },
           "baxis": {
            "gridcolor": "white",
            "linecolor": "white",
            "ticks": ""
           },
           "bgcolor": "#E5ECF6",
           "caxis": {
            "gridcolor": "white",
            "linecolor": "white",
            "ticks": ""
           }
          },
          "title": {
           "x": 0.05
          },
          "xaxis": {
           "automargin": true,
           "gridcolor": "white",
           "linecolor": "white",
           "ticks": "",
           "title": {
            "standoff": 15
           },
           "zerolinecolor": "white",
           "zerolinewidth": 2
          },
          "yaxis": {
           "automargin": true,
           "gridcolor": "white",
           "linecolor": "white",
           "ticks": "",
           "title": {
            "standoff": 15
           },
           "zerolinecolor": "white",
           "zerolinewidth": 2
          }
         }
        },
        "title": {
         "text": "APPLE INC | Dept Ratios"
        },
        "xaxis": {
         "anchor": "y",
         "domain": [
          0,
          1
         ],
         "title": {
          "text": "index"
         }
        },
        "yaxis": {
         "anchor": "x",
         "domain": [
          0,
          1
         ],
         "title": {
          "text": "value"
         }
        }
       }
      }
     },
     "metadata": {},
     "output_type": "display_data"
    },
    {
     "data": {
      "application/vnd.plotly.v1+json": {
       "config": {
        "plotlyServerURL": "https://plot.ly"
       },
       "data": [
        {
         "legendgroup": "Quick ratio",
         "line": {
          "color": "#636efa",
          "dash": "solid"
         },
         "marker": {
          "symbol": "circle"
         },
         "mode": "markers+lines",
         "name": "Quick ratio",
         "orientation": "v",
         "showlegend": true,
         "type": "scatter",
         "x": [
          "2016",
          "2017",
          "2018",
          "2019",
          "2020",
          "2021",
          "2022",
          "Current"
         ],
         "xaxis": "x",
         "y": [
          1.33,
          1.23,
          1.09,
          1.5,
          1.33,
          1.02,
          0.85,
          0.85
         ],
         "yaxis": "y"
        },
        {
         "legendgroup": "Current ratio",
         "line": {
          "color": "#EF553B",
          "dash": "solid"
         },
         "marker": {
          "symbol": "circle"
         },
         "mode": "markers+lines",
         "name": "Current ratio",
         "orientation": "v",
         "showlegend": true,
         "type": "scatter",
         "x": [
          "2016",
          "2017",
          "2018",
          "2019",
          "2020",
          "2021",
          "2022",
          "Current"
         ],
         "xaxis": "x",
         "y": [
          1.35,
          1.28,
          1.12,
          1.54,
          1.36,
          1.07,
          0.88,
          0.88
         ],
         "yaxis": "y"
        },
        {
         "legendgroup": "Inventory turnover",
         "line": {
          "color": "#00cc96",
          "dash": "solid"
         },
         "marker": {
          "symbol": "circle"
         },
         "mode": "markers+lines",
         "name": "Inventory turnover",
         "orientation": "v",
         "showlegend": true,
         "type": "scatter",
         "x": [
          "2016",
          "2017",
          "2018",
          "2019",
          "2020",
          "2021",
          "2022",
          "Current"
         ],
         "xaxis": "x",
         "y": [
          58.69,
          40.56,
          37.19,
          40.25,
          41.67,
          40.03,
          38.79,
          38.79
         ],
         "yaxis": "y"
        },
        {
         "legendgroup": "Asset turnover",
         "line": {
          "color": "#ab63fa",
          "dash": "solid"
         },
         "marker": {
          "symbol": "circle"
         },
         "mode": "markers+lines",
         "name": "Asset turnover",
         "orientation": "v",
         "showlegend": true,
         "type": "scatter",
         "x": [
          "2016",
          "2017",
          "2018",
          "2019",
          "2020",
          "2021",
          "2022",
          "Current"
         ],
         "xaxis": "x",
         "y": [
          0.7,
          0.66,
          0.72,
          0.74,
          0.83,
          1.08,
          1.12,
          1.12
         ],
         "yaxis": "y"
        }
       ],
       "layout": {
        "hoverlabel": {
         "namelength": -1
        },
        "hovermode": "x",
        "legend": {
         "title": {
          "text": "variable"
         },
         "tracegroupgap": 0
        },
        "template": {
         "data": {
          "bar": [
           {
            "error_x": {
             "color": "#2a3f5f"
            },
            "error_y": {
             "color": "#2a3f5f"
            },
            "marker": {
             "line": {
              "color": "#E5ECF6",
              "width": 0.5
             },
             "pattern": {
              "fillmode": "overlay",
              "size": 10,
              "solidity": 0.2
             }
            },
            "type": "bar"
           }
          ],
          "barpolar": [
           {
            "marker": {
             "line": {
              "color": "#E5ECF6",
              "width": 0.5
             },
             "pattern": {
              "fillmode": "overlay",
              "size": 10,
              "solidity": 0.2
             }
            },
            "type": "barpolar"
           }
          ],
          "carpet": [
           {
            "aaxis": {
             "endlinecolor": "#2a3f5f",
             "gridcolor": "white",
             "linecolor": "white",
             "minorgridcolor": "white",
             "startlinecolor": "#2a3f5f"
            },
            "baxis": {
             "endlinecolor": "#2a3f5f",
             "gridcolor": "white",
             "linecolor": "white",
             "minorgridcolor": "white",
             "startlinecolor": "#2a3f5f"
            },
            "type": "carpet"
           }
          ],
          "choropleth": [
           {
            "colorbar": {
             "outlinewidth": 0,
             "ticks": ""
            },
            "type": "choropleth"
           }
          ],
          "contour": [
           {
            "colorbar": {
             "outlinewidth": 0,
             "ticks": ""
            },
            "colorscale": [
             [
              0,
              "#0d0887"
             ],
             [
              0.1111111111111111,
              "#46039f"
             ],
             [
              0.2222222222222222,
              "#7201a8"
             ],
             [
              0.3333333333333333,
              "#9c179e"
             ],
             [
              0.4444444444444444,
              "#bd3786"
             ],
             [
              0.5555555555555556,
              "#d8576b"
             ],
             [
              0.6666666666666666,
              "#ed7953"
             ],
             [
              0.7777777777777778,
              "#fb9f3a"
             ],
             [
              0.8888888888888888,
              "#fdca26"
             ],
             [
              1,
              "#f0f921"
             ]
            ],
            "type": "contour"
           }
          ],
          "contourcarpet": [
           {
            "colorbar": {
             "outlinewidth": 0,
             "ticks": ""
            },
            "type": "contourcarpet"
           }
          ],
          "heatmap": [
           {
            "colorbar": {
             "outlinewidth": 0,
             "ticks": ""
            },
            "colorscale": [
             [
              0,
              "#0d0887"
             ],
             [
              0.1111111111111111,
              "#46039f"
             ],
             [
              0.2222222222222222,
              "#7201a8"
             ],
             [
              0.3333333333333333,
              "#9c179e"
             ],
             [
              0.4444444444444444,
              "#bd3786"
             ],
             [
              0.5555555555555556,
              "#d8576b"
             ],
             [
              0.6666666666666666,
              "#ed7953"
             ],
             [
              0.7777777777777778,
              "#fb9f3a"
             ],
             [
              0.8888888888888888,
              "#fdca26"
             ],
             [
              1,
              "#f0f921"
             ]
            ],
            "type": "heatmap"
           }
          ],
          "heatmapgl": [
           {
            "colorbar": {
             "outlinewidth": 0,
             "ticks": ""
            },
            "colorscale": [
             [
              0,
              "#0d0887"
             ],
             [
              0.1111111111111111,
              "#46039f"
             ],
             [
              0.2222222222222222,
              "#7201a8"
             ],
             [
              0.3333333333333333,
              "#9c179e"
             ],
             [
              0.4444444444444444,
              "#bd3786"
             ],
             [
              0.5555555555555556,
              "#d8576b"
             ],
             [
              0.6666666666666666,
              "#ed7953"
             ],
             [
              0.7777777777777778,
              "#fb9f3a"
             ],
             [
              0.8888888888888888,
              "#fdca26"
             ],
             [
              1,
              "#f0f921"
             ]
            ],
            "type": "heatmapgl"
           }
          ],
          "histogram": [
           {
            "marker": {
             "pattern": {
              "fillmode": "overlay",
              "size": 10,
              "solidity": 0.2
             }
            },
            "type": "histogram"
           }
          ],
          "histogram2d": [
           {
            "colorbar": {
             "outlinewidth": 0,
             "ticks": ""
            },
            "colorscale": [
             [
              0,
              "#0d0887"
             ],
             [
              0.1111111111111111,
              "#46039f"
             ],
             [
              0.2222222222222222,
              "#7201a8"
             ],
             [
              0.3333333333333333,
              "#9c179e"
             ],
             [
              0.4444444444444444,
              "#bd3786"
             ],
             [
              0.5555555555555556,
              "#d8576b"
             ],
             [
              0.6666666666666666,
              "#ed7953"
             ],
             [
              0.7777777777777778,
              "#fb9f3a"
             ],
             [
              0.8888888888888888,
              "#fdca26"
             ],
             [
              1,
              "#f0f921"
             ]
            ],
            "type": "histogram2d"
           }
          ],
          "histogram2dcontour": [
           {
            "colorbar": {
             "outlinewidth": 0,
             "ticks": ""
            },
            "colorscale": [
             [
              0,
              "#0d0887"
             ],
             [
              0.1111111111111111,
              "#46039f"
             ],
             [
              0.2222222222222222,
              "#7201a8"
             ],
             [
              0.3333333333333333,
              "#9c179e"
             ],
             [
              0.4444444444444444,
              "#bd3786"
             ],
             [
              0.5555555555555556,
              "#d8576b"
             ],
             [
              0.6666666666666666,
              "#ed7953"
             ],
             [
              0.7777777777777778,
              "#fb9f3a"
             ],
             [
              0.8888888888888888,
              "#fdca26"
             ],
             [
              1,
              "#f0f921"
             ]
            ],
            "type": "histogram2dcontour"
           }
          ],
          "mesh3d": [
           {
            "colorbar": {
             "outlinewidth": 0,
             "ticks": ""
            },
            "type": "mesh3d"
           }
          ],
          "parcoords": [
           {
            "line": {
             "colorbar": {
              "outlinewidth": 0,
              "ticks": ""
             }
            },
            "type": "parcoords"
           }
          ],
          "pie": [
           {
            "automargin": true,
            "type": "pie"
           }
          ],
          "scatter": [
           {
            "marker": {
             "colorbar": {
              "outlinewidth": 0,
              "ticks": ""
             }
            },
            "type": "scatter"
           }
          ],
          "scatter3d": [
           {
            "line": {
             "colorbar": {
              "outlinewidth": 0,
              "ticks": ""
             }
            },
            "marker": {
             "colorbar": {
              "outlinewidth": 0,
              "ticks": ""
             }
            },
            "type": "scatter3d"
           }
          ],
          "scattercarpet": [
           {
            "marker": {
             "colorbar": {
              "outlinewidth": 0,
              "ticks": ""
             }
            },
            "type": "scattercarpet"
           }
          ],
          "scattergeo": [
           {
            "marker": {
             "colorbar": {
              "outlinewidth": 0,
              "ticks": ""
             }
            },
            "type": "scattergeo"
           }
          ],
          "scattergl": [
           {
            "marker": {
             "colorbar": {
              "outlinewidth": 0,
              "ticks": ""
             }
            },
            "type": "scattergl"
           }
          ],
          "scattermapbox": [
           {
            "marker": {
             "colorbar": {
              "outlinewidth": 0,
              "ticks": ""
             }
            },
            "type": "scattermapbox"
           }
          ],
          "scatterpolar": [
           {
            "marker": {
             "colorbar": {
              "outlinewidth": 0,
              "ticks": ""
             }
            },
            "type": "scatterpolar"
           }
          ],
          "scatterpolargl": [
           {
            "marker": {
             "colorbar": {
              "outlinewidth": 0,
              "ticks": ""
             }
            },
            "type": "scatterpolargl"
           }
          ],
          "scatterternary": [
           {
            "marker": {
             "colorbar": {
              "outlinewidth": 0,
              "ticks": ""
             }
            },
            "type": "scatterternary"
           }
          ],
          "surface": [
           {
            "colorbar": {
             "outlinewidth": 0,
             "ticks": ""
            },
            "colorscale": [
             [
              0,
              "#0d0887"
             ],
             [
              0.1111111111111111,
              "#46039f"
             ],
             [
              0.2222222222222222,
              "#7201a8"
             ],
             [
              0.3333333333333333,
              "#9c179e"
             ],
             [
              0.4444444444444444,
              "#bd3786"
             ],
             [
              0.5555555555555556,
              "#d8576b"
             ],
             [
              0.6666666666666666,
              "#ed7953"
             ],
             [
              0.7777777777777778,
              "#fb9f3a"
             ],
             [
              0.8888888888888888,
              "#fdca26"
             ],
             [
              1,
              "#f0f921"
             ]
            ],
            "type": "surface"
           }
          ],
          "table": [
           {
            "cells": {
             "fill": {
              "color": "#EBF0F8"
             },
             "line": {
              "color": "white"
             }
            },
            "header": {
             "fill": {
              "color": "#C8D4E3"
             },
             "line": {
              "color": "white"
             }
            },
            "type": "table"
           }
          ]
         },
         "layout": {
          "annotationdefaults": {
           "arrowcolor": "#2a3f5f",
           "arrowhead": 0,
           "arrowwidth": 1
          },
          "autotypenumbers": "strict",
          "coloraxis": {
           "colorbar": {
            "outlinewidth": 0,
            "ticks": ""
           }
          },
          "colorscale": {
           "diverging": [
            [
             0,
             "#8e0152"
            ],
            [
             0.1,
             "#c51b7d"
            ],
            [
             0.2,
             "#de77ae"
            ],
            [
             0.3,
             "#f1b6da"
            ],
            [
             0.4,
             "#fde0ef"
            ],
            [
             0.5,
             "#f7f7f7"
            ],
            [
             0.6,
             "#e6f5d0"
            ],
            [
             0.7,
             "#b8e186"
            ],
            [
             0.8,
             "#7fbc41"
            ],
            [
             0.9,
             "#4d9221"
            ],
            [
             1,
             "#276419"
            ]
           ],
           "sequential": [
            [
             0,
             "#0d0887"
            ],
            [
             0.1111111111111111,
             "#46039f"
            ],
            [
             0.2222222222222222,
             "#7201a8"
            ],
            [
             0.3333333333333333,
             "#9c179e"
            ],
            [
             0.4444444444444444,
             "#bd3786"
            ],
            [
             0.5555555555555556,
             "#d8576b"
            ],
            [
             0.6666666666666666,
             "#ed7953"
            ],
            [
             0.7777777777777778,
             "#fb9f3a"
            ],
            [
             0.8888888888888888,
             "#fdca26"
            ],
            [
             1,
             "#f0f921"
            ]
           ],
           "sequentialminus": [
            [
             0,
             "#0d0887"
            ],
            [
             0.1111111111111111,
             "#46039f"
            ],
            [
             0.2222222222222222,
             "#7201a8"
            ],
            [
             0.3333333333333333,
             "#9c179e"
            ],
            [
             0.4444444444444444,
             "#bd3786"
            ],
            [
             0.5555555555555556,
             "#d8576b"
            ],
            [
             0.6666666666666666,
             "#ed7953"
            ],
            [
             0.7777777777777778,
             "#fb9f3a"
            ],
            [
             0.8888888888888888,
             "#fdca26"
            ],
            [
             1,
             "#f0f921"
            ]
           ]
          },
          "colorway": [
           "#636efa",
           "#EF553B",
           "#00cc96",
           "#ab63fa",
           "#FFA15A",
           "#19d3f3",
           "#FF6692",
           "#B6E880",
           "#FF97FF",
           "#FECB52"
          ],
          "font": {
           "color": "#2a3f5f"
          },
          "geo": {
           "bgcolor": "white",
           "lakecolor": "white",
           "landcolor": "#E5ECF6",
           "showlakes": true,
           "showland": true,
           "subunitcolor": "white"
          },
          "hoverlabel": {
           "align": "left"
          },
          "hovermode": "closest",
          "mapbox": {
           "style": "light"
          },
          "paper_bgcolor": "white",
          "plot_bgcolor": "#E5ECF6",
          "polar": {
           "angularaxis": {
            "gridcolor": "white",
            "linecolor": "white",
            "ticks": ""
           },
           "bgcolor": "#E5ECF6",
           "radialaxis": {
            "gridcolor": "white",
            "linecolor": "white",
            "ticks": ""
           }
          },
          "scene": {
           "xaxis": {
            "backgroundcolor": "#E5ECF6",
            "gridcolor": "white",
            "gridwidth": 2,
            "linecolor": "white",
            "showbackground": true,
            "ticks": "",
            "zerolinecolor": "white"
           },
           "yaxis": {
            "backgroundcolor": "#E5ECF6",
            "gridcolor": "white",
            "gridwidth": 2,
            "linecolor": "white",
            "showbackground": true,
            "ticks": "",
            "zerolinecolor": "white"
           },
           "zaxis": {
            "backgroundcolor": "#E5ECF6",
            "gridcolor": "white",
            "gridwidth": 2,
            "linecolor": "white",
            "showbackground": true,
            "ticks": "",
            "zerolinecolor": "white"
           }
          },
          "shapedefaults": {
           "line": {
            "color": "#2a3f5f"
           }
          },
          "ternary": {
           "aaxis": {
            "gridcolor": "white",
            "linecolor": "white",
            "ticks": ""
           },
           "baxis": {
            "gridcolor": "white",
            "linecolor": "white",
            "ticks": ""
           },
           "bgcolor": "#E5ECF6",
           "caxis": {
            "gridcolor": "white",
            "linecolor": "white",
            "ticks": ""
           }
          },
          "title": {
           "x": 0.05
          },
          "xaxis": {
           "automargin": true,
           "gridcolor": "white",
           "linecolor": "white",
           "ticks": "",
           "title": {
            "standoff": 15
           },
           "zerolinecolor": "white",
           "zerolinewidth": 2
          },
          "yaxis": {
           "automargin": true,
           "gridcolor": "white",
           "linecolor": "white",
           "ticks": "",
           "title": {
            "standoff": 15
           },
           "zerolinecolor": "white",
           "zerolinewidth": 2
          }
         }
        },
        "title": {
         "text": "APPLE INC | Liquidity Ratios"
        },
        "xaxis": {
         "anchor": "y",
         "domain": [
          0,
          1
         ],
         "title": {
          "text": "index"
         }
        },
        "yaxis": {
         "anchor": "x",
         "domain": [
          0,
          1
         ],
         "title": {
          "text": "value"
         }
        }
       }
      }
     },
     "metadata": {},
     "output_type": "display_data"
    }
   ],
   "source": [
    "#09 VISUALIZE ON SEPARATE CHARTS\n",
    "\n",
    "for company in companies:\n",
    "    fig = IncomeStatementVisualizer(company_data=company)\n",
    "    # fig.show_all_visuals()\n",
    "    # fig.revenue()\n",
    "    # fig.operating_income()\n",
    "    # fig.pretax_income()\n",
    "    # fig.discontinued_operations()\n",
    "    # fig.net_income()\n",
    "    # fig.diluted_net_income()\n",
    "    # fig.eps()\n",
    "    # fig.shares()\n",
    "    # fig.ebit()\n",
    "    # fig.operating_expenses()\n",
    "\n",
    "    fig = BalanceSheetVisualizer(company_data=company)\n",
    "    # fig.show_all_visuals()\n",
    "    # fig.book_value_per_share()\n",
    "\n",
    "    fig = CashflowStatementVisualizer(company_data=company)\n",
    "    # fig.show_all_visuals()\n",
    "    # fig.cashflow_investing_activities()\n",
    "\n",
    "    fig = StatisticsRatiosVisualizer(company_data=company)\n",
    "    fig.show_all_visuals()\n",
    "    break\n",
    "\n",
    "\n"
   ]
  },
  {
   "cell_type": "code",
   "execution_count": 44,
   "metadata": {},
   "outputs": [
    {
     "name": "stderr",
     "output_type": "stream",
     "text": [
      "INFO:root:A1\n",
      "INFO:root:26\n",
      "INFO:root:A26\n",
      "INFO:root:51\n",
      "INFO:root:A51\n",
      "INFO:root:76\n",
      "INFO:root:A76\n",
      "INFO:root:101\n",
      "INFO:root:A101\n",
      "INFO:root:126\n",
      "INFO:root:A126\n",
      "INFO:root:151\n",
      "INFO:root:A151\n",
      "INFO:root:176\n",
      "INFO:root:A176\n",
      "INFO:root:201\n",
      "INFO:root:A201\n",
      "INFO:root:226\n",
      "INFO:root:A226\n",
      "INFO:root:251\n",
      "INFO:root:A251\n",
      "INFO:root:276\n",
      "INFO:root:A276\n",
      "INFO:root:301\n",
      "INFO:root:A301\n",
      "INFO:root:326\n",
      "INFO:root:A326\n",
      "INFO:root:351\n",
      "INFO:root:A351\n",
      "INFO:root:376\n",
      "INFO:root:A376\n",
      "INFO:root:401\n",
      "INFO:root:A401\n",
      "INFO:root:426\n",
      "INFO:root:A426\n",
      "INFO:root:451\n",
      "INFO:root:A451\n",
      "INFO:root:476\n",
      "INFO:root:A476\n",
      "INFO:root:501\n",
      "INFO:root:A501\n",
      "INFO:root:526\n",
      "INFO:root:A526\n",
      "INFO:root:551\n",
      "INFO:root:A551\n",
      "INFO:root:576\n",
      "INFO:root:A576\n",
      "INFO:root:601\n",
      "INFO:root:A601\n",
      "INFO:root:626\n",
      "INFO:root:A626\n",
      "INFO:root:651\n",
      "INFO:root:A651\n",
      "INFO:root:676\n",
      "INFO:root:A676\n",
      "INFO:root:701\n",
      "INFO:root:A701\n",
      "INFO:root:726\n",
      "INFO:root:A726\n",
      "INFO:root:751\n",
      "INFO:root:A751\n",
      "INFO:root:776\n",
      "INFO:root:A776\n",
      "INFO:root:801\n",
      "INFO:root:A801\n",
      "INFO:root:826\n",
      "INFO:root:A826\n",
      "INFO:root:851\n",
      "INFO:root:A851\n",
      "INFO:root:876\n",
      "INFO:root:A876\n",
      "INFO:root:901\n",
      "INFO:root:A901\n",
      "INFO:root:926\n",
      "INFO:root:A926\n",
      "INFO:root:951\n",
      "INFO:root:A951\n",
      "INFO:root:976\n",
      "INFO:root:A976\n",
      "INFO:root:1001\n",
      "INFO:root:A1001\n",
      "INFO:root:1026\n",
      "INFO:root:A1026\n",
      "INFO:root:1051\n",
      "INFO:root:A1051\n",
      "INFO:root:1076\n",
      "INFO:root:A1076\n",
      "INFO:root:1101\n",
      "INFO:root:A1101\n",
      "INFO:root:1126\n",
      "INFO:root:A1126\n",
      "INFO:root:1151\n",
      "INFO:root:A1151\n",
      "INFO:root:1176\n",
      "INFO:root:A1176\n",
      "INFO:root:1201\n",
      "INFO:root:A1201\n",
      "INFO:root:1226\n",
      "INFO:root:A1226\n",
      "INFO:root:1251\n",
      "INFO:root:A1251\n",
      "INFO:root:1276\n",
      "INFO:root:A1276\n",
      "INFO:root:1301\n",
      "INFO:root:A1301\n",
      "INFO:root:1326\n"
     ]
    },
    {
     "data": {
      "text/plain": [
       "' \\n    OLD CODE\\n    fig = go.Figure()\\n\\n    for company in companies:\\n        i=0\\n        parameter_name = company.statistics.index[i]\\n        columns = company.statistics.columns\\n        rows = company.statistics.iloc[i]\\n        trace_name = f\"{company.company_name}\"# | {parameter_name}\"\\n        fig = fig.add_trace(go.Scatter(x = columns, y= rows, name=trace_name))\\n\\n    fig.update_xaxes(categoryorder=\\'category ascending\\')  # sort X-axis (when X-axis of different companies contains different ranges i.e. 2015-2021, 2016-2022)\\n    fig.update_traces(mode=\"markers+lines\", hovertemplate=None) #enable hover-mode, interactively display values on the graph when pointed with mouse\\n    fig.update_layout(hovermode=\"x\", hoverlabel_namelength=-1,  title=parameter_name) #display the full parameter name\\n\\n    fig.show()\\n'"
      ]
     },
     "execution_count": 44,
     "metadata": {},
     "output_type": "execute_result"
    }
   ],
   "source": [
    "#10 VISUALIZE ON COMBINED CHARTS\n",
    "\n",
    "class CompareCompanies():\n",
    "\n",
    "    def __init__(self, companies_data):\n",
    "        self.companies_data = companies_data\n",
    "\n",
    "    def income_statement(self, parameter_name):\n",
    "\n",
    "        fig = go.Figure()\n",
    "\n",
    "        for company in self.companies_data:\n",
    "\n",
    "            columns = company.income_statement.columns\n",
    "            rows = company.income_statement.loc[parameter_name]\n",
    "            trace_name = f\"{company.company_name}\"# | {parameter_name}\"\n",
    "            fig = fig.add_trace(go.Scatter(x = columns, y= rows, name=trace_name))\n",
    "\n",
    "        fig.update_xaxes(categoryorder='category ascending')  # sort X-axis (when X-axis of different companies contains different ranges i.e. 2015-2021, 2016-2022)\n",
    "        fig.update_traces(mode=\"markers+lines\", hovertemplate=None) #enable hover-mode, interactively display values on the graph when pointed with mouse\n",
    "        fig.update_layout(hovermode=\"x\", hoverlabel_namelength=-1,  title=parameter_name) #display the full parameter name\n",
    "\n",
    "        # fig.show()\n",
    "                \n",
    "        Excel.insert_visual(fig=fig, name=parameter_name)\n",
    "        # Excel.insert_visual(fig=fig, cell='A2', name=parameter_name )\n",
    "    \n",
    "    def balanse_sheet(self, parameter_name):\n",
    "\n",
    "        fig = go.Figure()\n",
    "\n",
    "        for company in self.companies_data:\n",
    "\n",
    "            columns = company.balanse_sheet.columns\n",
    "            rows = company.balanse_sheet.loc[parameter_name]\n",
    "            trace_name = f\"{company.company_name}\"# | {parameter_name}\"\n",
    "            fig = fig.add_trace(go.Scatter(x = columns, y= rows, name=trace_name))\n",
    "\n",
    "        fig.update_xaxes(categoryorder='category ascending')  # sort X-axis (when X-axis of different companies contains different ranges i.e. 2015-2021, 2016-2022)\n",
    "        fig.update_traces(mode=\"markers+lines\", hovertemplate=None) #enable hover-mode, interactively display values on the graph when pointed with mouse\n",
    "        fig.update_layout(hovermode=\"x\", hoverlabel_namelength=-1,  title=parameter_name) #display the full parameter name\n",
    "\n",
    "        fig.show()\n",
    "\n",
    "    def cashflow_statement(self, parameter_name):\n",
    "\n",
    "        fig = go.Figure()\n",
    "\n",
    "        for company in self.companies_data:\n",
    "\n",
    "            columns = company.cashflow_statement.columns\n",
    "            rows = company.cashflow_statement.loc[parameter_name]\n",
    "            trace_name = f\"{company.company_name}\"# | {parameter_name}\"\n",
    "            fig = fig.add_trace(go.Scatter(x = columns, y= rows, name=trace_name))\n",
    "\n",
    "        fig.update_xaxes(categoryorder='category ascending')  # sort X-axis (when X-axis of different companies contains different ranges i.e. 2015-2021, 2016-2022)\n",
    "        fig.update_traces(mode=\"markers+lines\", hovertemplate=None) #enable hover-mode, interactively display values on the graph when pointed with mouse\n",
    "        fig.update_layout(hovermode=\"x\", hoverlabel_namelength=-1,  title=parameter_name) #display the full parameter name\n",
    "\n",
    "        fig.show()\n",
    "\n",
    "    def statistics_ratios(self, parameter_name):\n",
    "\n",
    "        fig = go.Figure()\n",
    "\n",
    "        for company in self.companies_data:\n",
    "\n",
    "            columns = company.statistics.columns\n",
    "            rows = company.statistics.loc[parameter_name]\n",
    "            trace_name = f\"{company.company_name}\"# | {parameter_name}\"\n",
    "            fig = fig.add_trace(go.Scatter(x = columns, y= rows, name=trace_name))\n",
    "\n",
    "        fig.update_xaxes(categoryorder='category ascending')  # sort X-axis (when X-axis of different companies contains different ranges i.e. 2015-2021, 2016-2022)\n",
    "        fig.update_traces(mode=\"markers+lines\", hovertemplate=None) #enable hover-mode, interactively display values on the graph when pointed with mouse\n",
    "        fig.update_layout(hovermode=\"x\", hoverlabel_namelength=-1,  title=parameter_name) #display the full parameter name\n",
    "\n",
    "        fig.show()\n",
    "\n",
    "        \n",
    "\n",
    "# temp2 = CompareCompanies_Statistics(companies_data=companies)\n",
    "# temp2.total_comon_shares_outstanding()\n",
    "\n",
    "Excel.start() #start Excel class\n",
    "\n",
    "income_stat_params = IncomeStatementVisualizer(company_data=companies[0])\n",
    "balanse_sh_params = BalanceSheetVisualizer(company_data=companies[0])\n",
    "cashflow_params = CashflowStatementVisualizer(company_data=companies[0])\n",
    "statistics_params = StatisticsRatiosVisualizer(company_data=companies[0])\n",
    "\n",
    "# print(statistics_params.total_common_shares_outstanding_str)\n",
    "\n",
    "compare = CompareCompanies(companies_data=companies)\n",
    "\n",
    "#compare income statement\n",
    "compare.income_statement(parameter_name=income_stat_params.total_revenue_str)\n",
    "compare.income_statement(parameter_name=income_stat_params.cost_of_goods_sold_str)\n",
    "compare.income_statement(parameter_name=income_stat_params.deprecation_and_amortization_str)\n",
    "compare.income_statement(parameter_name=income_stat_params.depreciation_str)\n",
    "compare.income_statement(parameter_name=income_stat_params.amortization_of_intangibles_str)\n",
    "compare.income_statement(parameter_name=income_stat_params.amortization_of_deferred_charges_str)\n",
    "compare.income_statement(parameter_name=income_stat_params.other_cost_of_goods_sold_str)\n",
    "compare.income_statement(parameter_name=income_stat_params.gross_profit_str)\n",
    "compare.income_statement(parameter_name=income_stat_params.operating_expenses_excl_cogs_str)\n",
    "compare.income_statement(parameter_name=income_stat_params.selling_general_admin_expenses_total_str)\n",
    "compare.income_statement(parameter_name=income_stat_params.research_and_development_str)\n",
    "compare.income_statement(parameter_name=income_stat_params.selling_general_admin_expenses_other_str)\n",
    "compare.income_statement(parameter_name=income_stat_params.other_operating_expenses_total_str)\n",
    "compare.income_statement(parameter_name=income_stat_params.operating_income_str)\n",
    "compare.income_statement(parameter_name=income_stat_params.non_operating_income_total_str)\n",
    "compare.income_statement(parameter_name=income_stat_params.interest_expense_net_of_interest_capitalized_str)\n",
    "compare.income_statement(parameter_name=income_stat_params.interest_expense_on_debt_str)\n",
    "compare.income_statement(parameter_name=income_stat_params.interest_capitalized_str)\n",
    "compare.income_statement(parameter_name=income_stat_params.non_operating_income_excl_interest_expenses_str)\n",
    "compare.income_statement(parameter_name=income_stat_params.non_operating_interest_income_str)\n",
    "compare.income_statement(parameter_name=income_stat_params.pretax_equity_in_earnings_str)\n",
    "compare.income_statement(parameter_name=income_stat_params.miscellaneous_non_operating_expense_str)\n",
    "compare.income_statement(parameter_name=income_stat_params.unusual_income_expense_str)\n",
    "compare.income_statement(parameter_name=income_stat_params.impairments_str)\n",
    "compare.income_statement(parameter_name=income_stat_params.restructuring_charge_str)\n",
    "compare.income_statement(parameter_name=income_stat_params.legal_claim_expense_str)\n",
    "compare.income_statement(parameter_name=income_stat_params.unrealized_gain_loss_str)\n",
    "compare.income_statement(parameter_name=income_stat_params.other_exceptional_charges_str)\n",
    "compare.income_statement(parameter_name=income_stat_params.pretax_income_str)\n",
    "compare.income_statement(parameter_name=income_stat_params.equity_in_earnings_str)\n",
    "compare.income_statement(parameter_name=income_stat_params.taxes_str)\n",
    "compare.income_statement(parameter_name=income_stat_params.income_tax_current_str)\n",
    "compare.income_statement(parameter_name=income_stat_params.income_tax_current_domestic_str)\n",
    "compare.income_statement(parameter_name=income_stat_params.income_tax_current_foreign_str)\n",
    "compare.income_statement(parameter_name=income_stat_params.income_tax_deferred_str)\n",
    "compare.income_statement(parameter_name=income_stat_params.income_tax_deferred_domestic_str)\n",
    "compare.income_statement(parameter_name=income_stat_params.income_tax_deferred_foreign_str)\n",
    "compare.income_statement(parameter_name=income_stat_params.income_tax_credits_str)\n",
    "compare.income_statement(parameter_name=income_stat_params.non_controlling_minority_interest_str)\n",
    "compare.income_statement(parameter_name=income_stat_params.after_tax_other_income_expense_str)\n",
    "compare.income_statement(parameter_name=income_stat_params.net_income_before_discontinued_operations_str)\n",
    "compare.income_statement(parameter_name=income_stat_params.discontinued_operations_str)\n",
    "compare.income_statement(parameter_name=income_stat_params.net_income_str)\n",
    "compare.income_statement(parameter_name=income_stat_params.dilution_adjustment_str)\n",
    "compare.income_statement(parameter_name=income_stat_params.preferred_dividends_str)\n",
    "compare.income_statement(parameter_name=income_stat_params.diluted_net_income_available_to_common_stockholders_str)\n",
    "compare.income_statement(parameter_name=income_stat_params.basic_earnings_per_share_basic_eps_str)\n",
    "compare.income_statement(parameter_name=income_stat_params.diluted_earnings_per_share_diluted_eps_str)\n",
    "compare.income_statement(parameter_name=income_stat_params.average_basic_shares_outstanding_str)\n",
    "compare.income_statement(parameter_name=income_stat_params.diluted_shares_outstanding_str)\n",
    "compare.income_statement(parameter_name=income_stat_params.ebitda_str)\n",
    "compare.income_statement(parameter_name=income_stat_params.ebit_str)\n",
    "compare.income_statement(parameter_name=income_stat_params.total_operating_expenses_str)\n",
    "\n",
    "\n",
    "\n",
    "#compare statistics/ratios\n",
    "# compare.statistics_ratios(parameter_name=statistics_params.total_common_shares_outstanding_str)\n",
    "# compare.statistics_ratios(parameter_name=statistics_params.float_shares_outstanding_str)\n",
    "# compare.statistics_ratios(parameter_name=statistics_params.number_of_employees_str)\n",
    "# compare.statistics_ratios(parameter_name=statistics_params.number_of_shareholders_str)\n",
    "# compare.statistics_ratios(parameter_name=statistics_params.price_to_earnings_ratio_str)\n",
    "# compare.statistics_ratios(parameter_name=statistics_params.price_to_sales_ratio_str)\n",
    "# compare.statistics_ratios(parameter_name=statistics_params.price_to_cash_flow_ratio_str)\n",
    "# compare.statistics_ratios(parameter_name=statistics_params.price_to_book_ratio_str)\n",
    "# compare.statistics_ratios(parameter_name=statistics_params.enterprise_value_str)\n",
    "# compare.statistics_ratios(parameter_name=statistics_params.enterprise_value_to_ebitda_ratio_str)\n",
    "# compare.statistics_ratios(parameter_name=statistics_params.return_on_assets_percent_str)\n",
    "# compare.statistics_ratios(parameter_name=statistics_params.return_on_equity_percent_str)\n",
    "# compare.statistics_ratios(parameter_name=statistics_params.return_on_invested_capital_percent_str)\n",
    "# compare.statistics_ratios(parameter_name=statistics_params.gross_margin_percent_str)\n",
    "# compare.statistics_ratios(parameter_name=statistics_params.operating_margin_percent_str)\n",
    "# compare.statistics_ratios(parameter_name=statistics_params.ebitda_margin_percent_str)\n",
    "# compare.statistics_ratios(parameter_name=statistics_params.net_margin_percent_str)\n",
    "# compare.statistics_ratios(parameter_name=statistics_params.quick_ratio_str)\n",
    "# compare.statistics_ratios(parameter_name=statistics_params.current_ratio_str)\n",
    "# compare.statistics_ratios(parameter_name=statistics_params.inventory_turnover_str)\n",
    "# compare.statistics_ratios(parameter_name=statistics_params.asset_turnover_str)\n",
    "# compare.statistics_ratios(parameter_name=statistics_params.debt_to_assets_ratio_str)\n",
    "# compare.statistics_ratios(parameter_name=statistics_params.debt_to_equity_ratio_str)\n",
    "# compare.statistics_ratios(parameter_name=statistics_params.long_term_debt_to_total_assets_ratio_str)\n",
    "\n",
    "\n",
    "\n",
    "\"\"\" \n",
    "    OLD CODE\n",
    "    fig = go.Figure()\n",
    "\n",
    "    for company in companies:\n",
    "        i=0\n",
    "        parameter_name = company.statistics.index[i]\n",
    "        columns = company.statistics.columns\n",
    "        rows = company.statistics.iloc[i]\n",
    "        trace_name = f\"{company.company_name}\"# | {parameter_name}\"\n",
    "        fig = fig.add_trace(go.Scatter(x = columns, y= rows, name=trace_name))\n",
    "\n",
    "    fig.update_xaxes(categoryorder='category ascending')  # sort X-axis (when X-axis of different companies contains different ranges i.e. 2015-2021, 2016-2022)\n",
    "    fig.update_traces(mode=\"markers+lines\", hovertemplate=None) #enable hover-mode, interactively display values on the graph when pointed with mouse\n",
    "    fig.update_layout(hovermode=\"x\", hoverlabel_namelength=-1,  title=parameter_name) #display the full parameter name\n",
    "\n",
    "    fig.show()\n",
    "\"\"\"\n",
    "\n"
   ]
  },
  {
   "cell_type": "code",
   "execution_count": null,
   "metadata": {},
   "outputs": [],
   "source": [
    "#comparison visials of two or more companies\n",
    "\n",
    "# df_apple = apple.statistics.transpose()\n",
    "# fig_apple = px.line(df_apple, x=df_apple.index, y=[\n",
    "#                     'Number of employees'], title='Apple', markers=True)\n",
    "# fig_apple.show()\n",
    "\n",
    "# df_tesla = tesla.statistics.transpose()\n",
    "# fig_tesla = px.line(df_tesla, x=df_tesla.index, y=[\n",
    "#                     'Number of employees'], title='Tesla', markers=True)\n",
    "# fig_tesla.show()\n",
    "\n",
    "# apple.statistics.index\n",
    "\n",
    "# fig = px.line(x=apple.statistics.columns, y=apple.statistics.loc['Number of employees'], title='', markers=True)\n",
    "# fig.show()\n",
    "\n",
    "# dict for the dataframes and their names\n",
    "\n",
    "# plot the data\n",
    "fig = go.Figure()\n",
    "\n",
    "for company in companies:\n",
    "    i=8\n",
    "    company_name = company.company_name\n",
    "    parameter_name = company.statistics.index[i]\n",
    "    columns = company.statistics.columns\n",
    "    rows = company.statistics.iloc[i]\n",
    "    table_name = f\"{company_name}/{parameter_name}\"\n",
    "    fig = fig.add_trace(go.Scatter(x = columns, y= rows, name= table_name))\n",
    "\n",
    "fig.update_xaxes(categoryorder='category ascending')  # sort X-axis (when X-axis of different companies contains different ranges i.e. 2015-2021, 2016-2022)\n",
    "fig.update_traces(mode=\"markers+lines\", hovertemplate=None) #enable hover-mode, interactively display values on the graph when pointed with mouse\n",
    "fig.update_layout(hovermode=\"x\", hoverlabel_namelength=-1) #display the full parameter name\n",
    "\n",
    "fig.show()\n",
    "\n",
    "\n",
    "# fig =  px.line(x = tesla.statistics.columns, y = tesla.statistics.iloc[1])\n",
    "# fig = px.line(x =apple.statistics.columns, y = apple.statistics.iloc[1])\n",
    "# fig.show()\n",
    "\n",
    "# apple.statistics.iloc[2]\n"
   ]
  },
  {
   "cell_type": "code",
   "execution_count": null,
   "metadata": {},
   "outputs": [],
   "source": [
    "# plotting the data\n",
    "plt.figure(figsize=(20, 8))  # set figure size\n",
    "\n",
    "\n",
    "# tesla_data.financial_ratios_quarter.loc['Current Ratio'].plot()\n",
    "# apple_data.financial_ratios_quarter.loc['Current Ratio'].plot()\n",
    "\n",
    "# print(run_scraper.income_statement.index[0])\n",
    "# param_name = run_scraper.income_statement.index[0] #get parameter name from dataframe columns\n",
    "\n",
    "i = 0\n",
    "companies[0].statistics.iloc[i].plot()\n",
    "companies[1].statistics.iloc[i].plot()\n",
    "\n",
    "# print(apple.statistics.iloc[i])\n",
    "# print(tesla.statistics.iloc[i])\n",
    "# run_scraper.income_statement.loc['Interest expense on debt'].plot()\n",
    "# plt.plot()\n",
    "\n",
    "# invert x-axis (2009 on the left, 2022 on the right)\n",
    "# ax = plt.gca()\n",
    "# ax.invert_xaxis()\n",
    "plt.grid(True)\n",
    "plt.legend()\n",
    "plt.show()\n"
   ]
  },
  {
   "cell_type": "code",
   "execution_count": null,
   "metadata": {},
   "outputs": [],
   "source": [
    "from plotly.subplots import make_subplots\n",
    "import plotly.graph_objects as go\n",
    "\n",
    "fig = make_subplots(rows=1, cols=2)\n",
    "\n",
    "fig.add_trace(\n",
    "    go.Scatter(x=[1, 2, 3], y=[4, 5, 6]),\n",
    "    row=1, col=1\n",
    ")\n",
    "\n",
    "fig.add_trace(\n",
    "    go.Scatter(x=[20, 30, 40], y=[50, 60, 70]),\n",
    "    row=1, col=2\n",
    ")\n",
    "\n",
    "fig.update_layout(height=600, width=800, title_text=\"Side By Side Subplots\")\n",
    "fig.show()"
   ]
  }
 ],
 "metadata": {
  "kernelspec": {
   "display_name": "base",
   "language": "python",
   "name": "python3"
  },
  "language_info": {
   "codemirror_mode": {
    "name": "ipython",
    "version": 3
   },
   "file_extension": ".py",
   "mimetype": "text/x-python",
   "name": "python",
   "nbconvert_exporter": "python",
   "pygments_lexer": "ipython3",
   "version": "3.9.12 (main, Apr  4 2022, 05:22:27) [MSC v.1916 64 bit (AMD64)]"
  },
  "orig_nbformat": 4,
  "vscode": {
   "interpreter": {
    "hash": "b5234c3a68123d47bedd5252b78f01a988a4bd5dcba8aa660c71661565635d49"
   }
  }
 },
 "nbformat": 4,
 "nbformat_minor": 2
}
